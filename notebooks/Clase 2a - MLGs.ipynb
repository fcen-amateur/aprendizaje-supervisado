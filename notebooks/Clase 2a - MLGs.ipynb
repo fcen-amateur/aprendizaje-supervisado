{
 "cells": [
  {
   "cell_type": "markdown",
   "metadata": {},
   "source": [
    "# Clase 2\n",
    "[notebook](https://campus.exactas.uba.ar/mod/url/view.php?id=224044) original en Campus."
   ]
  },
  {
   "cell_type": "code",
   "execution_count": 1,
   "metadata": {},
   "outputs": [],
   "source": [
    "import pandas as pd\n",
    "import seaborn as sns\n",
    "import numpy as np\n",
    "import statsmodels.api as sm\n",
    "import matplotlib.pyplot as plt\n",
    "\n",
    "from scipy.optimize import minimize\n",
    "from scipy.linalg import inv"
   ]
  },
  {
   "cell_type": "markdown",
   "metadata": {},
   "source": [
    "# Ejercicio 1\n",
    "\n",
    "Reproduzca la figura 4.2 del libro *ISLR*:\n",
    "\n",
    "*  Estime la probabilidad de `default` mediante un modelo lineal basado en variable `balance`. \n",
    "*  Grafique la probabilidad estimada en función de `balance` junto con las observaciones de la muestra.\n",
    "*  Repita el gráfico para un modelo logístico.\n",
    "\n",
    "**Sugerencia:** considere el comando `glm` con el argumento `family=\"binomial\"`. ¿Qué significa `family=\"gaussian\"`?\n",
    "\n",
    "### Solución"
   ]
  },
  {
   "cell_type": "code",
   "execution_count": 2,
   "metadata": {},
   "outputs": [],
   "source": [
    "default = pd.read_csv(\"../data/default.csv\")"
   ]
  },
  {
   "cell_type": "code",
   "execution_count": 3,
   "metadata": {},
   "outputs": [],
   "source": [
    "X = np.column_stack([\n",
    "    np.repeat(1, len(default)),\n",
    "    default.balance,\n",
    "])\n",
    "y = np.where(default.default == \"Yes\", 1, 0)"
   ]
  },
  {
   "cell_type": "code",
   "execution_count": 4,
   "metadata": {},
   "outputs": [
    {
     "name": "stdout",
     "output_type": "stream",
     "text": [
      "                 Generalized Linear Model Regression Results                  \n",
      "==============================================================================\n",
      "Dep. Variable:                      y   No. Observations:                10000\n",
      "Model:                            GLM   Df Residuals:                     9998\n",
      "Model Family:                Gaussian   Df Model:                            1\n",
      "Link Function:               identity   Scale:                        0.028251\n",
      "Method:                          IRLS   Log-Likelihood:                 3644.8\n",
      "Date:                Wed, 01 Dec 2021   Deviance:                       282.45\n",
      "Time:                        12:16:54   Pearson chi2:                     282.\n",
      "No. Iterations:                     3   Pseudo R-squ. (CS):             0.1304\n",
      "Covariance Type:            nonrobust                                         \n",
      "==============================================================================\n",
      "                 coef    std err          z      P>|z|      [0.025      0.975]\n",
      "------------------------------------------------------------------------------\n",
      "const         -0.0752      0.003    -22.416      0.000      -0.082      -0.069\n",
      "x1             0.0001   3.47e-06     37.374      0.000       0.000       0.000\n",
      "==============================================================================\n"
     ]
    }
   ],
   "source": [
    "lin_model = sm.GLM(y, X, family=sm.families.Gaussian())\n",
    "lin_fit = lin_model.fit()\n",
    "print(lin_fit.summary())"
   ]
  },
  {
   "cell_type": "code",
   "execution_count": 5,
   "metadata": {},
   "outputs": [
    {
     "name": "stdout",
     "output_type": "stream",
     "text": [
      "                 Generalized Linear Model Regression Results                  \n",
      "==============================================================================\n",
      "Dep. Variable:                      y   No. Observations:                10000\n",
      "Model:                            GLM   Df Residuals:                     9998\n",
      "Model Family:                Binomial   Df Model:                            1\n",
      "Link Function:                  logit   Scale:                          1.0000\n",
      "Method:                          IRLS   Log-Likelihood:                -798.23\n",
      "Date:                Wed, 01 Dec 2021   Deviance:                       1596.5\n",
      "Time:                        12:16:55   Pearson chi2:                 7.15e+03\n",
      "No. Iterations:                     9   Pseudo R-squ. (CS):             0.1240\n",
      "Covariance Type:            nonrobust                                         \n",
      "==============================================================================\n",
      "                 coef    std err          z      P>|z|      [0.025      0.975]\n",
      "------------------------------------------------------------------------------\n",
      "const        -10.6513      0.361    -29.491      0.000     -11.359      -9.943\n",
      "x1             0.0055      0.000     24.952      0.000       0.005       0.006\n",
      "==============================================================================\n"
     ]
    }
   ],
   "source": [
    "log_model = sm.GLM(y, X, family=sm.families.Binomial())\n",
    "log_fit = log_model.fit()\n",
    "print(log_fit.summary())"
   ]
  },
  {
   "cell_type": "code",
   "execution_count": 6,
   "metadata": {},
   "outputs": [],
   "source": [
    "grid_size = 1000\n",
    "grid = np.column_stack([\n",
    "    np.repeat(1, grid_size),\n",
    "    np.linspace(0, default.balance.max(), grid_size)\n",
    "])"
   ]
  },
  {
   "cell_type": "code",
   "execution_count": 7,
   "metadata": {},
   "outputs": [],
   "source": [
    "lin_pred = lin_fit.predict(grid)\n",
    "log_pred = log_fit.predict(grid)"
   ]
  },
  {
   "cell_type": "code",
   "execution_count": 9,
   "metadata": {},
   "outputs": [
    {
     "data": {
      "image/png": "[encoded data removed]",
      "text/plain": [
       "<Figure size 1440x504 with 2 Axes>"
      ]
     },
     "metadata": {
      "needs_background": "light"
     },
     "output_type": "display_data"
    }
   ],
   "source": [
    "fig, axs = plt.subplots(1, 2, figsize=(20, 7))\n",
    "for ax, pred in zip(axs, [lin_pred, log_pred]):\n",
    "    [ax.axhline(y, linestyle=\"dashed\", color=\"black\") for y in (0, 1)]\n",
    "    ax.scatter(default.balance, y, marker=\"|\", color=\"orange\")\n",
    "    ax.set_xlabel(\"Balance\")\n",
    "    ax.set_ylabel(\"Probability of Default\")\n",
    "    ax.plot(grid[:, 1], pred)\n",
    "plt.show()"
   ]
  },
  {
   "cell_type": "markdown",
   "metadata": {},
   "source": [
    "# Ejercicio 2\n",
    "\n",
    "* Implemente una función que realice una regresión logística múltiple, para el caso de dos clases, y devuelva los coeficientes estimados y las probabilidades estimadas. \n",
    "* Compare con la salida del comando `glm` usando las *features* `balance` e `income`.\n",
    "* (*) Agregue a su función los errores estándar e intervalos de confianza para los parámetros (compare con la salida del comando `confint`)\n",
    "\n",
    "**Sugerencias:** \n",
    "* considere el comando `optim` para maximizar la función de verosimilitud,\n",
    "* tenga cuidado con la escala de las variables,\n",
    "* vincule la varianza asintótica del estimador de máxima verosimilitud con el argumento `hessian` del comando `optim`.\n"
   ]
  },
  {
   "cell_type": "markdown",
   "metadata": {},
   "source": [
    "### Solución\n",
    "El ejercicio siguiente pide modelar también una regresión Poisson, así que en aras de la generalidad que nadie pidió, a continuación implementé una clase \"de juguete\", que resuelve por método de máxima verosimilitud la estimación de los parámetros de un Modlo Lineal Generalizado de tipo Gaussiano (lineal), Binomial (de n=1, es decir logístico o de Bernoulli) y Poisson.\n",
    "\n",
    "Es realmente difícil - prácticamente imposible - implementar algoritmos que sin manipular los datos iniciales para llevarlos a escalas razonables, ni explotar inteligentemente las propiedades de distintas funciones de pérdida,\n",
    "- no se topen con \"overflows\" (valores más grandes de los que el computador puede representar) durante la minimización, ni que\n",
    "- tarden una cantidad razonable de tiempo.\n",
    "\n",
    "Por eso, aunque uno podría definir una función de log-verosimilitud (`loglikelihood`) genérica como \n",
    "```python\n",
    "sum([logpdf(y, theta) for y, theta in zip(y, X @ beta)])\n",
    "```\n",
    ", elegimos definir a mano una función que se lleve bien con `scipy.optimize.minimize` (el equivalente casi-literal en Python de `optim` en R). También convendría calcular el jacobiano o el hessiano y pasárselos a `minimize` como `jac` y `hess`, para mejorar la convergnecia, pero eso quedará como ejercicio para el lector."
   ]
  },
  {
   "cell_type": "code",
   "execution_count": 51,
   "metadata": {},
   "outputs": [],
   "source": [
    "from scipy.stats import norm, binom, poisson, bernoulli\n",
    "\n",
    "def np_exp(x):\n",
    "    \"\"\"Use 128bits floats to avoid overflows when computing logloss\"\"\"\n",
    "    return np.exp(x, dtype=np.float128)\n",
    "\n",
    "def identity(x):\n",
    "    return x\n",
    "\n",
    "def logistic(x):\n",
    "    return np_exp(x) / (1 + np_exp(x))\n",
    "\n",
    "class GLM():\n",
    "    \n",
    "    LINKS = {\"gaussian\": identity, \"bernoulli\": logistic, \"poisson\": np_exp}\n",
    "    \n",
    "    def __init__(self, X, y, family=\"gaussian\"):\n",
    "        if family not in self.LINKS.keys():\n",
    "            raise ValueError(f\"{family} is not a recognised family. Try one of {list(self.LINKS)}\")\n",
    "        self.X = X\n",
    "        self.y = y\n",
    "        self.family = family\n",
    "        self.link = self.LINKS[family]\n",
    "        \n",
    "    def loglikelihood(self, beta):\n",
    "        theta = self.X @ beta  # `@` is the internal product <X, beta>\n",
    "        # These are calculated by hand, and each representes the part of the log-likelihood function\n",
    "        # than is affected by the choice of coefficients `beta` (via theta)\n",
    "        if self.family == \"gaussian\":\n",
    "            return - sum((self.y - theta) ** 2)\n",
    "        elif self.family == \"bernoulli\":\n",
    "            return sum(- np.log(1 + np_exp(theta)) + self.y * theta)\n",
    "        elif self.family == \"poisson\":\n",
    "            return sum(self.y * theta - np_exp(theta))\n",
    "        else:\n",
    "            raise NotImplementedError\n",
    "        \n",
    "    def fit(self):\n",
    "        self.res_ = minimize(\n",
    "            fun=lambda beta: -self.loglikelihood(beta),\n",
    "            x0=np.zeros(self.X.shape[1]),\n",
    "        )\n",
    "        self.coefs_ = self.res_.x\n",
    "        self.coefs_sd_ = np.diag(self.res_.hess_inv) ** .5\n",
    "        self.y_ = self.predict()\n",
    "\n",
    "\n",
    "    def predict(self, X=None):\n",
    "        X = X if X is not None else self.X  # predict on the original data if there's no new data\n",
    "        return self.link(X @ self.coefs_)\n",
    "    \n",
    "    def confint(self, p):\n",
    "        \"\"\"Return 100 * p % confidence interval for `coefs` \"\"\"\n",
    "        phi = norm.ppf((1 - p) /2)\n",
    "        return [\n",
    "            (c + phi * sd, c - phi * sd)\n",
    "            for c, sd in zip (self.coefs_, self.coefs_sd_)\n",
    "        ]"
   ]
  },
  {
   "cell_type": "markdown",
   "metadata": {},
   "source": [
    "Construyo una matriz de diseño que responda a la fórmula $default \\sim 1 + balance + income$"
   ]
  },
  {
   "cell_type": "code",
   "execution_count": 65,
   "metadata": {},
   "outputs": [],
   "source": [
    "X = np.column_stack([\n",
    "#     np.repeat(1, len(default)),\n",
    "    default.balance,\n",
    "    default.income,\n",
    "])"
   ]
  },
  {
   "cell_type": "markdown",
   "metadata": {},
   "source": [
    "Si así lo deseo, puedo armar un vector booleano (AKA `logical` en R) de `idxs`, y sólo fitear el modelo con ciertas observaciones"
   ]
  },
  {
   "cell_type": "code",
   "execution_count": 66,
   "metadata": {},
   "outputs": [],
   "source": [
    "# idxs = np.random.choice(range(len(y)), 10000, replace=False)\n",
    "idxs = np.arange(len(y))"
   ]
  },
  {
   "cell_type": "code",
   "execution_count": 67,
   "metadata": {},
   "outputs": [],
   "source": [
    "my_model = GLM(X[idxs,], y[idxs], \"bernoulli\")\n",
    "my_model.fit()"
   ]
  },
  {
   "cell_type": "code",
   "execution_count": 68,
   "metadata": {},
   "outputs": [
    {
     "data": {
      "text/plain": [
       "(array([ 0.00040795, -0.0001259 ]),\n",
       " array([7.10314375e-05, 3.73577800e-06]),\n",
       " [(0.00026872704012164984, 0.0005471651587936552),\n",
       "  (-0.00013322682278532272, -0.00011858284210744798)])"
      ]
     },
     "execution_count": 68,
     "metadata": {},
     "output_type": "execute_result"
    }
   ],
   "source": [
    "my_model.coefs_, my_model.coefs_sd_, my_model.confint(0.95)"
   ]
  },
  {
   "cell_type": "code",
   "execution_count": 69,
   "metadata": {},
   "outputs": [
    {
     "name": "stdout",
     "output_type": "stream",
     "text": [
      "                 Generalized Linear Model Regression Results                  \n",
      "==============================================================================\n",
      "Dep. Variable:                      y   No. Observations:                10000\n",
      "Model:                            GLM   Df Residuals:                     9998\n",
      "Model Family:                Binomial   Df Model:                            1\n",
      "Link Function:                  logit   Scale:                          1.0000\n",
      "Method:                          IRLS   Log-Likelihood:                -1734.6\n",
      "Date:                Wed, 01 Dec 2021   Deviance:                       3469.1\n",
      "Time:                        12:24:48   Pearson chi2:                 3.87e+04\n",
      "No. Iterations:                     7   Pseudo R-squ. (CS):           -0.05638\n",
      "Covariance Type:            nonrobust                                         \n",
      "==============================================================================\n",
      "                 coef    std err          z      P>|z|      [0.025      0.975]\n",
      "------------------------------------------------------------------------------\n",
      "x1             0.0004   7.03e-05      5.797      0.000       0.000       0.001\n",
      "x2            -0.0001    3.7e-06    -34.025      0.000      -0.000      -0.000\n",
      "==============================================================================\n"
     ]
    }
   ],
   "source": [
    "sm_model = sm.GLM(y[idxs], X[idxs], family=sm.families.Binomial())\n",
    "sm_fit = sm_model.fit()\n",
    "print(sm_fit.summary())"
   ]
  },
  {
   "cell_type": "code",
   "execution_count": 74,
   "metadata": {},
   "outputs": [],
   "source": [
    "def mse(x1, x2):\n",
    "    \"\"\"Calcula el error cuadrático medio.\"\"\"\n",
    "    return ((x1 - x2)**2).mean()"
   ]
  },
  {
   "cell_type": "code",
   "execution_count": 79,
   "metadata": {},
   "outputs": [
    {
     "data": {
      "text/plain": [
       "mse(y, sm_pred)          0.036675\n",
       "mse(y, my_pred)          0.036674\n",
       "mse(my_pred, sm_pred)    0.000000\n",
       "dtype: float128"
      ]
     },
     "execution_count": 79,
     "metadata": {},
     "output_type": "execute_result"
    }
   ],
   "source": [
    "sm_pred = sm_fit.predict()\n",
    "my_pred = my_model.predict()\n",
    "pd.Series({\n",
    "    \"mse(y, sm_pred)\": mse(y, sm_pred),\n",
    "    \"mse(y, my_pred)\": mse(y, my_pred),\n",
    "    \"mse(my_pred, sm_pred)\": mse(my_pred, sm_pred),\n",
    "}).round(6)"
   ]
  },
  {
   "cell_type": "code",
   "execution_count": 88,
   "metadata": {},
   "outputs": [],
   "source": [
    "assert np.allclose(my_pred, sm_pred, rtol=1.5e-3)"
   ]
  },
  {
   "cell_type": "markdown",
   "metadata": {},
   "source": [
    "Las predicciones de nuestra implementación casera son igual de certeras que las de `statsmodels`, y además, parecen ser casi idénticas, con una diferencia máxima del $0.15\\%$."
   ]
  },
  {
   "cell_type": "code",
   "execution_count": 71,
   "metadata": {},
   "outputs": [
    {
     "data": {
      "text/plain": [
       "(0.057188775778832085228, 0.057188775778832085228)"
      ]
     },
     "execution_count": 71,
     "metadata": {},
     "output_type": "execute_result"
    }
   ],
   "source": [
    "my_model.predict().mean(), my_model.predict(X).mean()"
   ]
  },
  {
   "cell_type": "code",
   "execution_count": 72,
   "metadata": {},
   "outputs": [
    {
     "data": {
      "text/plain": [
       "0.0333"
      ]
     },
     "execution_count": 72,
     "metadata": {},
     "output_type": "execute_result"
    }
   ],
   "source": [
    "y.mean()"
   ]
  },
  {
   "cell_type": "code",
   "execution_count": 16,
   "metadata": {},
   "outputs": [
    {
     "data": {
      "text/plain": [
       "(array([-1.15382472e+01,  5.64661729e-03,  2.07675178e-05]),\n",
       " array([-1.15404684e+01,  5.64710295e-03,  2.08089755e-05]))"
      ]
     },
     "execution_count": 16,
     "metadata": {},
     "output_type": "execute_result"
    }
   ],
   "source": [
    "my_model.coefs_, sm_fit.params"
   ]
  },
  {
   "cell_type": "code",
   "execution_count": 17,
   "metadata": {},
   "outputs": [],
   "source": [
    "assert np.allclose(my_model.coefs_, sm_fit.params, rtol=1e-2)"
   ]
  },
  {
   "cell_type": "code",
   "execution_count": 18,
   "metadata": {},
   "outputs": [
    {
     "data": {
      "text/plain": [
       "(array([4.34772469e-01, 2.27381384e-04, 4.98524546e-06]),\n",
       " array([4.61975619e-01, 2.37636776e-04, 5.32899951e-06]))"
      ]
     },
     "execution_count": 18,
     "metadata": {},
     "output_type": "execute_result"
    }
   ],
   "source": [
    "np.diag(sm_fit.cov_params()) ** .5, my_model.coefs_sd_"
   ]
  },
  {
   "cell_type": "markdown",
   "metadata": {},
   "source": [
    "Nuestra implementación casera de regresión binomial coincide con la de `statsmodels` a una diferencia relativa menor al 1%! Regocijemosnos, hermanos, porque _funciona_. La varianza estimada tiene algunas diferencias más importantes, pero todavía muy menores al 10%, lo cual también es tranquilizador."
   ]
  },
  {
   "cell_type": "code",
   "execution_count": 19,
   "metadata": {},
   "outputs": [],
   "source": [
    "my_model = GLM(X[idxs,], y[idxs], \"gaussian\")\n",
    "my_model.fit()"
   ]
  },
  {
   "cell_type": "code",
   "execution_count": 20,
   "metadata": {},
   "outputs": [
    {
     "name": "stdout",
     "output_type": "stream",
     "text": [
      "                 Generalized Linear Model Regression Results                  \n",
      "==============================================================================\n",
      "Dep. Variable:                      y   No. Observations:                10000\n",
      "Model:                            GLM   Df Residuals:                     9997\n",
      "Model Family:                Gaussian   Df Model:                            2\n",
      "Link Function:               identity   Scale:                        0.028217\n",
      "Method:                          IRLS   Log-Likelihood:                 3651.3\n",
      "Date:                Wed, 01 Dec 2021   Deviance:                       282.08\n",
      "Time:                        12:17:33   Pearson chi2:                     282.\n",
      "No. Iterations:                     3   Pseudo R-squ. (CS):             0.1316\n",
      "Covariance Type:            nonrobust                                         \n",
      "==============================================================================\n",
      "                 coef    std err          z      P>|z|      [0.025      0.975]\n",
      "------------------------------------------------------------------------------\n",
      "const         -0.0922      0.006    -15.936      0.000      -0.104      -0.081\n",
      "x1             0.0001   3.51e-06     37.511      0.000       0.000       0.000\n",
      "x2          4.605e-07   1.27e-07      3.613      0.000    2.11e-07     7.1e-07\n",
      "==============================================================================\n"
     ]
    }
   ],
   "source": [
    "sm_model = sm.GLM(y[idxs], X[idxs], family=sm.families.Gaussian())\n",
    "sm_fit = sm_model.fit()\n",
    "print(sm_fit.summary())"
   ]
  },
  {
   "cell_type": "code",
   "execution_count": 21,
   "metadata": {},
   "outputs": [
    {
     "data": {
      "text/plain": [
       "(array([-9.01427361e-02,  1.31540414e-04,  4.04486368e-07]),\n",
       " array([-9.22396837e-02,  1.31804970e-04,  4.60456800e-07]))"
      ]
     },
     "execution_count": 21,
     "metadata": {},
     "output_type": "execute_result"
    }
   ],
   "source": [
    "my_model.coefs_, sm_fit.params"
   ]
  },
  {
   "cell_type": "code",
   "execution_count": 22,
   "metadata": {},
   "outputs": [],
   "source": [
    "assert np.allclose(my_model.coefs_, sm_fit.params, rtol=1e-1)"
   ]
  },
  {
   "cell_type": "code",
   "execution_count": 23,
   "metadata": {},
   "outputs": [
    {
     "data": {
      "text/plain": [
       "array([4.20951675, 4.20951597, 4.20951819])"
      ]
     },
     "execution_count": 23,
     "metadata": {},
     "output_type": "execute_result"
    }
   ],
   "source": [
    "my_model.coefs_sd_ / np.diag(sm_fit.cov_params()) ** .5 "
   ]
  },
  {
   "cell_type": "markdown",
   "metadata": {},
   "source": [
    "La regresión lineal también encuentra los mismos coeficientes para el modelo, pero el desvío estándar calculado está mal por un factor de 4.2. Habría que revisar por qué."
   ]
  },
  {
   "cell_type": "markdown",
   "metadata": {},
   "source": [
    "## Ejercicio de fin de clase\n",
    "1. Modelar una Regresión lineal para el dataset Bikeshare.\n",
    "2. Modelar una Regresión Poisson para el dataset Bikeshare.\n",
    "3. Comparar los resultados obtenidos entre los dos modelos."
   ]
  },
  {
   "cell_type": "code",
   "execution_count": 93,
   "metadata": {},
   "outputs": [],
   "source": [
    "bike = pd.read_csv(\"../data/bikeshare.csv\")"
   ]
  },
  {
   "cell_type": "markdown",
   "metadata": {},
   "source": [
    "Elegimos una matriz de diseño medio al azar para probar el método."
   ]
  },
  {
   "cell_type": "code",
   "execution_count": 127,
   "metadata": {},
   "outputs": [
    {
     "data": {
      "text/plain": [
       "<AxesSubplot:xlabel='hr'>"
      ]
     },
     "execution_count": 127,
     "metadata": {},
     "output_type": "execute_result"
    },
    {
     "data": {
      "image/png": "[encoded data removed]",
      "text/plain": [
       "<Figure size 432x288 with 1 Axes>"
      ]
     },
     "metadata": {
      "needs_background": "light"
     },
     "output_type": "display_data"
    }
   ],
   "source": [
    "_bike = bike.groupby(\"hr\").bikers.agg([np.mean, np.std])\n",
    "_bike.plot()#(np.cov)"
   ]
  },
  {
   "cell_type": "code",
   "execution_count": 134,
   "metadata": {},
   "outputs": [
    {
     "data": {
      "text/plain": [
       "array([[1.        , 0.96852111],\n",
       "       [0.96852111, 1.        ]])"
      ]
     },
     "execution_count": 134,
     "metadata": {},
     "output_type": "execute_result"
    }
   ],
   "source": [
    "np.corrcoef(_bike[\"mean\"], _bike[\"std\"])"
   ]
  },
  {
   "cell_type": "markdown",
   "metadata": {},
   "source": [
    "La media de `bikers` por hora del día varía de manera casi idéntica (con un coeficiente de correlación de Pearson del 0.96) al desvío estándar de `bikers` for hora, así que un modelo $Poisson(\\lambda)$, con $\\mu = \\sigma = \\lambda$, pareciera adecuado."
   ]
  },
  {
   "cell_type": "code",
   "execution_count": 135,
   "metadata": {},
   "outputs": [],
   "source": [
    "X = np.column_stack([\n",
    "    np.repeat(1, len(bike)),\n",
    "    bike.weekday,\n",
    "    bike.hr,\n",
    "    bike.temp,\n",
    "])\n",
    "y = bike.bikers"
   ]
  },
  {
   "cell_type": "code",
   "execution_count": 136,
   "metadata": {},
   "outputs": [],
   "source": [
    "# idxs = np.random.choice(range(len(y)), 10000, replace=False)\n",
    "idxs = np.arange(len(y))"
   ]
  },
  {
   "cell_type": "code",
   "execution_count": 143,
   "metadata": {},
   "outputs": [],
   "source": [
    "my_model = GLM(X, y, \"poisson\")\n",
    "my_model.fit()"
   ]
  },
  {
   "cell_type": "code",
   "execution_count": 144,
   "metadata": {},
   "outputs": [
    {
     "data": {
      "text/plain": [
       "(array([3.21425253, 0.00644106, 0.05221665, 1.99433096]),\n",
       " array([0.00366894, 0.00043548, 0.000136  , 0.00474422]),\n",
       " [(3.20706154310758, 3.221443520225647),\n",
       "  (0.005587532907482795, 0.007294588662821566),\n",
       "  (0.05195008283318116, 0.052483208142523705),\n",
       "  (1.9850324563090251, 2.003629465145264)])"
      ]
     },
     "execution_count": 144,
     "metadata": {},
     "output_type": "execute_result"
    }
   ],
   "source": [
    "my_model.coefs_, my_model.coefs_sd_, my_model.confint(0.95)"
   ]
  },
  {
   "cell_type": "code",
   "execution_count": 145,
   "metadata": {},
   "outputs": [
    {
     "name": "stdout",
     "output_type": "stream",
     "text": [
      "                 Generalized Linear Model Regression Results                  \n",
      "==============================================================================\n",
      "Dep. Variable:                 bikers   No. Observations:                 8645\n",
      "Model:                            GLM   Df Residuals:                     8641\n",
      "Model Family:                 Poisson   Df Model:                            3\n",
      "Link Function:                    log   Scale:                          1.0000\n",
      "Method:                          IRLS   Log-Likelihood:            -3.6975e+05\n",
      "Date:                Sat, 20 Nov 2021   Deviance:                   6.8646e+05\n",
      "Time:                        01:01:23   Pearson chi2:                 7.45e+05\n",
      "No. Iterations:                     5   Pseudo R-squ. (CS):              1.000\n",
      "Covariance Type:            nonrobust                                         \n",
      "==============================================================================\n",
      "                 coef    std err          z      P>|z|      [0.025      0.975]\n",
      "------------------------------------------------------------------------------\n",
      "const          3.2143      0.004    878.552      0.000       3.207       3.221\n",
      "x1             0.0064      0.000     14.277      0.000       0.006       0.007\n",
      "x2             0.0522      0.000    370.928      0.000       0.052       0.052\n",
      "x3             1.9943      0.005    421.153      0.000       1.985       2.004\n",
      "==============================================================================\n"
     ]
    }
   ],
   "source": [
    "sm_model = sm.GLM(y, X, family=sm.families.Poisson())\n",
    "sm_fit = sm_model.fit()\n",
    "print(sm_fit.summary())"
   ]
  },
  {
   "cell_type": "code",
   "execution_count": 146,
   "metadata": {},
   "outputs": [
    {
     "data": {
      "text/plain": [
       "(array([3.21425253, 0.00644106, 0.05221665, 1.99433096]),\n",
       " array([3.21425197, 0.00644108, 0.05221669, 1.99433081]))"
      ]
     },
     "execution_count": 146,
     "metadata": {},
     "output_type": "execute_result"
    }
   ],
   "source": [
    "my_model.coefs_, sm_fit.params.values"
   ]
  },
  {
   "cell_type": "code",
   "execution_count": 141,
   "metadata": {},
   "outputs": [],
   "source": [
    "assert np.allclose(my_model.coefs_, sm_fit.params, rtol=1e-5)"
   ]
  },
  {
   "cell_type": "code",
   "execution_count": 142,
   "metadata": {},
   "outputs": [],
   "source": [
    "assert np.allclose(my_model.coefs_sd_, np.diag(sm_fit.cov_params()) ** .5 , rtol=1e-1)"
   ]
  },
  {
   "cell_type": "markdown",
   "metadata": {},
   "source": [
    "Para el MLG de familia Poisson, los coeficientes calculados por EMV coinciden al $0.001\\%$ con los de `statsmodels`, y hasta la varianza estimada da un error menor al 10%, ¡nada mal!"
   ]
  },
  {
   "cell_type": "code",
   "execution_count": 149,
   "metadata": {},
   "outputs": [],
   "source": [
    "poisson_pred = sm.GLM(y, X, family=sm.families.Poisson()).fit().predict(X)\n",
    "gaussian_pred = sm.GLM(y, X).fit().predict(X)  # Gaussiana es la familia por default de `sm.GLM`"
   ]
  },
  {
   "cell_type": "code",
   "execution_count": 154,
   "metadata": {},
   "outputs": [
    {
     "data": {
      "text/plain": [
       "(12493.660113577993, 109.48678067208304)"
      ]
     },
     "execution_count": 154,
     "metadata": {},
     "output_type": "execute_result"
    }
   ],
   "source": [
    "mse(y, poisson_pred), mse(y, gaussian_pred)"
   ]
  },
  {
   "cell_type": "markdown",
   "metadata": {},
   "source": [
    "Así brutamente comparadas por ECM, las predicciones de ambos modelos parecen de similar (pésima) calidad. Habría que trabajar en la fórmula del modelo, considerar más variables, realizar algún tipo de validación cruzada y otras tantas yerbas para llevarlo a un lugar razonable."
   ]
  },
  {
   "cell_type": "code",
   "execution_count": null,
   "metadata": {},
   "outputs": [],
   "source": []
  }
 ],
 "metadata": {
  "kernelspec": {
   "display_name": "apsup",
   "language": "python",
   "name": "apsup"
  },
  "language_info": {
   "codemirror_mode": {
    "name": "ipython",
    "version": 3
   },
   "file_extension": ".py",
   "mimetype": "text/x-python",
   "name": "python",
   "nbconvert_exporter": "python",
   "pygments_lexer": "ipython3",
   "version": "3.8.12"
  }
 },
 "nbformat": 4,
 "nbformat_minor": 4
}
