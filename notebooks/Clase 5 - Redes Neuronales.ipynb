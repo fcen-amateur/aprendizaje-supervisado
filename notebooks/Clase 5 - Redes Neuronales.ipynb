{
 "cells": [
  {
   "cell_type": "markdown",
   "metadata": {
    "colab": {
     "base_uri": "https://localhost:8080/"
    },
    "id": "09VeLog8h4CI",
    "outputId": "053e6ceb-54ed-495e-8b5d-4aa9cfa56d32"
   },
   "source": [
    "```R\n",
    "install.packages(\"tensorflow\")\n",
    "install.packages(\"keras\")\n",
    "install.packages(\"ISLR2\")\n",
    "install.packages(\"glmnet\")\n",
    "```"
   ]
  },
  {
   "cell_type": "code",
   "execution_count": 31,
   "metadata": {},
   "outputs": [],
   "source": [
    "import tensorflow as tf\n",
    "from tensorflow import keras\n",
    "import pandas as pd\n",
    "import numpy as np"
   ]
  },
  {
   "cell_type": "code",
   "execution_count": 204,
   "metadata": {},
   "outputs": [
    {
     "data": {
      "text/plain": [
       "('2.4.1', '2.4.0')"
      ]
     },
     "execution_count": 204,
     "metadata": {},
     "output_type": "execute_result"
    }
   ],
   "source": [
    "tf.__version__, tf.keras.__version__"
   ]
  },
  {
   "cell_type": "markdown",
   "metadata": {
    "id": "MheZH8Jnzjra"
   },
   "source": [
    "# Red neuronal de una capa (Hitters)"
   ]
  },
  {
   "cell_type": "markdown",
   "metadata": {
    "id": "J0Ww5oR4z8c2"
   },
   "source": [
    "Configuramos los datos `Hitters` y separamos un conjunto de entrenamiento y de prueba:"
   ]
  },
  {
   "cell_type": "markdown",
   "metadata": {
    "id": "bA4InipWzGbv"
   },
   "source": [
    "```R\n",
    "library(ISLR2)\n",
    "Gitters <- na.omit(Hitters)\n",
    "n <- nrow(Gitters)\n",
    "set.seed(13)\n",
    "ntest <- trunc(n / 3)\n",
    "testid <- sample(1:n, ntest)\n",
    "```"
   ]
  },
  {
   "cell_type": "code",
   "execution_count": 32,
   "metadata": {},
   "outputs": [],
   "source": [
    "# Reseto el índice del dataframe a 0, 1, ... para evitar problemas más adelante\n",
    "hitters = pd.read_csv(\"../data/hitters.csv\").dropna().reset_index()\n",
    "n = hitters.shape[0]\n",
    "np.random.seed(13)\n",
    "ntest = n // 3\n",
    "testid = np.random.choice(n, ntest, replace=False)"
   ]
  },
  {
   "cell_type": "markdown",
   "metadata": {
    "id": "jZ8bAbIQzkm7"
   },
   "source": [
    "Ajustamos un modelo lineal."
   ]
  },
  {
   "cell_type": "code",
   "execution_count": 33,
   "metadata": {},
   "outputs": [],
   "source": [
    "from sklearn.linear_model import LinearRegression"
   ]
  },
  {
   "cell_type": "code",
   "execution_count": 34,
   "metadata": {},
   "outputs": [],
   "source": [
    "from sklearn.preprocessing import OneHotEncoder\n",
    "from sklearn.compose import ColumnTransformer"
   ]
  },
  {
   "cell_type": "markdown",
   "metadata": {},
   "source": [
    "A la regresión de `sklearn.linear_model.LinearRegression` hay que proveerle una matriz de diseño y una respuesta numérica siempre, así que las construimos ahora. Como hay algunas columnas categóricas, usamos un OneHotEncoder descartando los niveles redundantes:   "
   ]
  },
  {
   "cell_type": "code",
   "execution_count": 35,
   "metadata": {},
   "outputs": [
    {
     "data": {
      "text/plain": [
       "array([[   1,    1,    1,    1,  315,   81,    7,   24,   38,   39,   14,\n",
       "        3449,  835,   69,  321,  414,  375,  632,   43,   10],\n",
       "       [   0,    1,    0,    2,  479,  130,   18,   66,   72,   76,    3,\n",
       "        1624,  457,   63,  224,  266,  263,  880,   82,   14],\n",
       "       [   1,    0,    1,    3,  496,  141,   20,   65,   78,   37,   11,\n",
       "        5628, 1575,  225,  828,  838,  354,  200,   11,    3],\n",
       "       [   1,    0,    1,    4,  321,   87,   10,   39,   42,   30,    2,\n",
       "         396,  101,   12,   48,   46,   33,  805,   40,    4],\n",
       "       [   0,    1,    0,    5,  594,  169,    4,   74,   51,   35,   11,\n",
       "        4408, 1133,   19,  501,  336,  194,  282,  421,   25]])"
      ]
     },
     "execution_count": 35,
     "metadata": {},
     "output_type": "execute_result"
    }
   ],
   "source": [
    "X = hitters.drop(columns=\"Salary\")\n",
    "y = hitters.Salary.values\n",
    "X.shape, y.shape\n",
    "\n",
    "categorical_features = X.columns[X.dtypes == \"O\"].tolist()\n",
    "X_cat, X_num = X[categorical_features], X.drop(columns=categorical_features)\n",
    "ohe = OneHotEncoder(drop=\"first\", sparse=False).fit(X_cat)\n",
    "\n",
    "X = pd.concat(\n",
    "    [\n",
    "        pd.DataFrame(\n",
    "            data=ohe.transform(X_cat).astype(int),\n",
    "            columns=ohe.get_feature_names_out(categorical_features)\n",
    "        ),\n",
    "        X_num,\n",
    "    ],\n",
    "    axis=1,\n",
    ").values\n",
    "X[:5,]"
   ]
  },
  {
   "cell_type": "code",
   "execution_count": 36,
   "metadata": {},
   "outputs": [],
   "source": [
    "X_train, X_test = X[testid], X[~testid]\n",
    "y_train, y_test = y[testid], y[~testid]"
   ]
  },
  {
   "cell_type": "markdown",
   "metadata": {
    "colab": {
     "base_uri": "https://localhost:8080/",
     "height": 34
    },
    "id": "MBbhd5C-zMMy",
    "outputId": "edf33b43-21ba-43f0-b5af-52f71d5b90be"
   },
   "source": [
    "```R\n",
    "lfit <- lm(Salary ~ ., data = Gitters[-testid, ])\n",
    "lpred <- predict(lfit, Gitters[testid, ])\n",
    "with(Gitters[testid, ], mean(abs(lpred - Salary)))\n",
    "```"
   ]
  },
  {
   "cell_type": "code",
   "execution_count": 37,
   "metadata": {},
   "outputs": [],
   "source": [
    "from sklearn.metrics import mean_absolute_error as mae"
   ]
  },
  {
   "cell_type": "code",
   "execution_count": 38,
   "metadata": {},
   "outputs": [
    {
     "data": {
      "text/plain": [
       "256.98142425265854"
      ]
     },
     "execution_count": 38,
     "metadata": {},
     "output_type": "execute_result"
    }
   ],
   "source": [
    "lfit = LinearRegression().fit(X_train, y_train)\n",
    "lpred = lfit.predict(X_test)\n",
    "mae(y_test, lpred)"
   ]
  },
  {
   "cell_type": "markdown",
   "metadata": {
    "id": "UYST2F2pzkxu"
   },
   "source": [
    "El paquete `glmnet` no usa fórmulas, preparamos a mano $x$ e $y$."
   ]
  },
  {
   "cell_type": "markdown",
   "metadata": {
    "id": "0aPa6Qc_zO3s"
   },
   "source": [
    "```R\n",
    "x <- scale(model.matrix(Salary ~ . - 1, data = Gitters))\n",
    "y <- Gitters$Salary\n",
    "```"
   ]
  },
  {
   "cell_type": "markdown",
   "metadata": {
    "id": "qIDm_CgBzk8q"
   },
   "source": [
    "Ajustamos una modelo ridge:"
   ]
  },
  {
   "cell_type": "markdown",
   "metadata": {},
   "source": [
    "**Nota del pythonista:** acá hay una imprecisión me parece: `cv.glmnet` hace validación cruzada para encontrar el parámetro $\\lambda$ de una regresión \"de red elástica\" `glmnet`. Por [defecto](https://rdrr.io/cran/glmnet/man/glmnet.html), `glmnet` toma $\\alpha=1$, que es equivalente a una penalidad _lasso_ pura, como lo dice la documentación:\n",
    "> \"`alpha=1` is the lasso penalty, and `alpha=0` the ridge penalty.\"\n",
    "\n",
    "Es decir, la regresión que se entrena en la versión en R de este notebook, es un modelo _lasso_, no _ridge_. Para mantener paridad, fiteamos por CV un modelo _lasso_. Normalmente, a tal fin alcanzaría con usar `sklearn.linear_model.LassoCV`, pero como se pretende medir la pérdida con una función de error medio _absoluto_, y no el tradicional cuadrático, habrá que usar `sklearn.model_selection.GridSearchCV`, que da bastante flexibilidad al contenido de la validación cruzada."
   ]
  },
  {
   "cell_type": "markdown",
   "metadata": {
    "colab": {
     "base_uri": "https://localhost:8080/",
     "height": 104
    },
    "id": "RJ5FMlt2zPL3",
    "outputId": "0e33b82d-e4a1-42a9-fed4-906b2d9fe87f"
   },
   "source": [
    "```R\n",
    "library (glmnet)\n",
    "cvfit <- cv.glmnet(x[-testid, ], y[-testid], type.measure = \"mae\")\n",
    "cpred <- predict(cvfit , x[testid, ], s = \"lambda.min\")\n",
    "mean(abs(y[testid] - cpred))\n",
    "```"
   ]
  },
  {
   "cell_type": "code",
   "execution_count": 39,
   "metadata": {},
   "outputs": [],
   "source": [
    "from sklearn.linear_model import Lasso, LassoCV\n",
    "from sklearn.model_selection import GridSearchCV"
   ]
  },
  {
   "cell_type": "code",
   "execution_count": 40,
   "metadata": {},
   "outputs": [
    {
     "data": {
      "text/plain": [
       "(81624.51295183752, 298.4438614460915)"
      ]
     },
     "execution_count": 40,
     "metadata": {},
     "output_type": "execute_result"
    }
   ],
   "source": [
    "cvfit = LassoCV(max_iter=10000).fit(X_train, y_train)\n",
    "cvpred = cvfit.predict(X_test)\n",
    "cvfit.alpha_, mae(y_test, cvpred)"
   ]
  },
  {
   "cell_type": "code",
   "execution_count": 41,
   "metadata": {},
   "outputs": [],
   "source": [
    "alphas = cvfit.alphas_  # Así llama `Lasso[CV]` al parámetro de regularización \"lambda\""
   ]
  },
  {
   "cell_type": "code",
   "execution_count": 42,
   "metadata": {},
   "outputs": [
    {
     "data": {
      "text/plain": [
       "({'alpha': 8752.328975081236}, 279.27487097743216)"
      ]
     },
     "execution_count": 42,
     "metadata": {},
     "output_type": "execute_result"
    }
   ],
   "source": [
    "# Reemplazando el parámetro de `scoring por \"neg_mean_squared_error\" se obtiene el exacto mismo alpha que con LassoCV: ¡pruebe!\n",
    "# Tip: `sorted(sklearn.metrics.SCORERS.keys())` devuelve una lista de todas las funciones de scoring disponibles para CV.\n",
    "gsfit = GridSearchCV(Lasso(max_iter=10000), param_grid={\"alpha\": alphas}, scoring=\"neg_mean_absolute_error\").fit(X_train, y_train)\n",
    "gspred = gsfit.predict(X_test)\n",
    "gsfit.best_params_, mae(y_test, gspred)"
   ]
  },
  {
   "cell_type": "markdown",
   "metadata": {
    "id": "QcQiuAWQzp5p"
   },
   "source": [
    "Definimos la estructura de la red"
   ]
  },
  {
   "cell_type": "markdown",
   "metadata": {
    "id": "FpLqkuZMzPOo"
   },
   "source": [
    "```R\n",
    "library(keras)\n",
    "modnn <- keras_model_sequential() %>%\n",
    "         layer_dense(units = 50, \n",
    "                     activation = \"relu\",\n",
    "                     input_shape = ncol(x)) %>%\n",
    "         layer_dropout(rate = 0.4) %>%  \n",
    "         layer_dense(units = 1)\n",
    "```"
   ]
  },
  {
   "cell_type": "code",
   "execution_count": 43,
   "metadata": {},
   "outputs": [],
   "source": [
    "import tensorflow as tf\n",
    "from tensorflow import keras"
   ]
  },
  {
   "cell_type": "code",
   "execution_count": 44,
   "metadata": {},
   "outputs": [],
   "source": [
    "from tensorflow.keras import layers"
   ]
  },
  {
   "cell_type": "code",
   "execution_count": 45,
   "metadata": {},
   "outputs": [],
   "source": [
    "p = X.shape[1]  # la cantidad de features/predictores del dataset\n",
    "# Build a simple model\n",
    "model = keras.Sequential()\n",
    "model.add(layers.Dense(units=50, activation=\"relu\", input_shape=(p,)))\n",
    "model.add(layers.Dropout(rate=0.4))\n",
    "model.add(layers.Dense(units=1))"
   ]
  },
  {
   "cell_type": "code",
   "execution_count": 46,
   "metadata": {},
   "outputs": [
    {
     "name": "stdout",
     "output_type": "stream",
     "text": [
      "Model: \"sequential_1\"\n",
      "_________________________________________________________________\n",
      "Layer (type)                 Output Shape              Param #   \n",
      "=================================================================\n",
      "dense_5 (Dense)              (None, 50)                1050      \n",
      "_________________________________________________________________\n",
      "dropout_3 (Dropout)          (None, 50)                0         \n",
      "_________________________________________________________________\n",
      "dense_6 (Dense)              (None, 1)                 51        \n",
      "=================================================================\n",
      "Total params: 1,101\n",
      "Trainable params: 1,101\n",
      "Non-trainable params: 0\n",
      "_________________________________________________________________\n"
     ]
    }
   ],
   "source": [
    "model.summary()"
   ]
  },
  {
   "cell_type": "markdown",
   "metadata": {},
   "source": [
    "**Nota del pythonista**: `(p,)` es la tupla de un único elemento `p`, cuya sintaxis hasta la [documentación oficial](https://docs.python.org/3/tutorial/datastructures.html#tuples-and-sequences) admite que es algo rara:\n",
    "> A special problem is the construction of tuples containing 0 or 1 items: the syntax has some extra quirks to accommodate these. Empty tuples are constructed by an empty pair of parentheses (`()`); a tuple with one item is constructed by following a value with a comma (`(val,)`) (it is not sufficient to enclose a single value in parentheses). Ugly, but effective."
   ]
  },
  {
   "cell_type": "code",
   "execution_count": 48,
   "metadata": {},
   "outputs": [
    {
     "name": "stdout",
     "output_type": "stream",
     "text": [
      "Epoch 1/5000\n",
      "3/3 - 0s - loss: 125980.5781 - mean_absolute_error: 226.6315 - val_loss: 133313.5156 - val_mean_absolute_error: 226.6898\n",
      "Epoch 2/5000\n",
      "3/3 - 0s - loss: 109620.8516 - mean_absolute_error: 207.1270 - val_loss: 135278.7188 - val_mean_absolute_error: 237.6377\n",
      "Epoch 3/5000\n",
      "3/3 - 0s - loss: 125058.8984 - mean_absolute_error: 223.7787 - val_loss: 136621.3281 - val_mean_absolute_error: 225.2278\n",
      "Epoch 4/5000\n",
      "3/3 - 0s - loss: 108138.5391 - mean_absolute_error: 208.2104 - val_loss: 138731.7500 - val_mean_absolute_error: 223.6823\n",
      "Epoch 5/5000\n",
      "3/3 - 0s - loss: 117795.1953 - mean_absolute_error: 213.5232 - val_loss: 136746.0156 - val_mean_absolute_error: 225.0214\n",
      "Epoch 6/5000\n",
      "3/3 - 0s - loss: 110394.3906 - mean_absolute_error: 209.0344 - val_loss: 135176.0312 - val_mean_absolute_error: 225.2709\n",
      "Epoch 7/5000\n",
      "3/3 - 0s - loss: 133514.1094 - mean_absolute_error: 235.9450 - val_loss: 134788.5938 - val_mean_absolute_error: 227.3940\n",
      "Epoch 8/5000\n",
      "3/3 - 0s - loss: 109831.7031 - mean_absolute_error: 203.2957 - val_loss: 134245.0000 - val_mean_absolute_error: 227.5855\n",
      "Epoch 9/5000\n",
      "3/3 - 0s - loss: 99647.9766 - mean_absolute_error: 208.6315 - val_loss: 134853.7188 - val_mean_absolute_error: 224.8630\n",
      "Epoch 10/5000\n",
      "3/3 - 0s - loss: 105518.3359 - mean_absolute_error: 206.5936 - val_loss: 134956.3281 - val_mean_absolute_error: 223.1088\n",
      "Epoch 11/5000\n",
      "3/3 - 0s - loss: 103532.7578 - mean_absolute_error: 199.0727 - val_loss: 135161.5469 - val_mean_absolute_error: 221.8849\n",
      "Epoch 12/5000\n",
      "3/3 - 0s - loss: 112937.8750 - mean_absolute_error: 208.5573 - val_loss: 136148.5312 - val_mean_absolute_error: 222.7287\n",
      "Epoch 13/5000\n",
      "3/3 - 0s - loss: 100685.3984 - mean_absolute_error: 201.5144 - val_loss: 133847.2031 - val_mean_absolute_error: 222.3478\n",
      "Epoch 14/5000\n",
      "3/3 - 0s - loss: 91255.7734 - mean_absolute_error: 179.1854 - val_loss: 133608.6094 - val_mean_absolute_error: 222.5309\n",
      "Epoch 15/5000\n",
      "3/3 - 0s - loss: 114153.8750 - mean_absolute_error: 208.1735 - val_loss: 132712.4688 - val_mean_absolute_error: 221.7194\n",
      "Epoch 16/5000\n",
      "3/3 - 0s - loss: 127327.7031 - mean_absolute_error: 208.4827 - val_loss: 132217.8906 - val_mean_absolute_error: 228.1149\n",
      "Epoch 17/5000\n",
      "3/3 - 0s - loss: 115059.7969 - mean_absolute_error: 210.5597 - val_loss: 134606.3281 - val_mean_absolute_error: 222.5599\n",
      "Epoch 18/5000\n",
      "3/3 - 0s - loss: 120021.1406 - mean_absolute_error: 222.8912 - val_loss: 132956.6094 - val_mean_absolute_error: 228.5583\n",
      "Epoch 19/5000\n",
      "3/3 - 0s - loss: 102461.6562 - mean_absolute_error: 205.2065 - val_loss: 134036.7812 - val_mean_absolute_error: 224.8252\n",
      "Epoch 20/5000\n",
      "3/3 - 0s - loss: 126970.9688 - mean_absolute_error: 216.8991 - val_loss: 134003.3750 - val_mean_absolute_error: 225.5475\n",
      "Epoch 21/5000\n",
      "3/3 - 0s - loss: 91931.9922 - mean_absolute_error: 185.1850 - val_loss: 134173.6250 - val_mean_absolute_error: 223.0874\n",
      "Epoch 22/5000\n",
      "3/3 - 0s - loss: 106513.8984 - mean_absolute_error: 199.4135 - val_loss: 133848.6406 - val_mean_absolute_error: 223.8474\n",
      "Epoch 23/5000\n",
      "3/3 - 0s - loss: 95527.8828 - mean_absolute_error: 198.2204 - val_loss: 132790.8281 - val_mean_absolute_error: 224.5278\n",
      "Epoch 24/5000\n",
      "3/3 - 0s - loss: 112503.4453 - mean_absolute_error: 198.4273 - val_loss: 132423.7500 - val_mean_absolute_error: 224.0791\n",
      "Epoch 25/5000\n",
      "3/3 - 0s - loss: 99404.1953 - mean_absolute_error: 191.8521 - val_loss: 135368.8750 - val_mean_absolute_error: 221.6401\n",
      "Epoch 26/5000\n",
      "3/3 - 0s - loss: 88904.1016 - mean_absolute_error: 185.1826 - val_loss: 130760.2422 - val_mean_absolute_error: 229.6515\n",
      "Epoch 27/5000\n",
      "3/3 - 0s - loss: 97035.4609 - mean_absolute_error: 197.4453 - val_loss: 130726.7578 - val_mean_absolute_error: 224.6099\n",
      "Epoch 28/5000\n",
      "3/3 - 0s - loss: 110034.4844 - mean_absolute_error: 207.9306 - val_loss: 131305.2188 - val_mean_absolute_error: 221.4176\n",
      "Epoch 29/5000\n",
      "3/3 - 0s - loss: 92807.7031 - mean_absolute_error: 183.1085 - val_loss: 131841.8281 - val_mean_absolute_error: 220.2037\n",
      "Epoch 30/5000\n",
      "3/3 - 0s - loss: 102968.7812 - mean_absolute_error: 186.8843 - val_loss: 129766.7578 - val_mean_absolute_error: 225.5558\n",
      "Epoch 31/5000\n",
      "3/3 - 0s - loss: 99191.5625 - mean_absolute_error: 201.4597 - val_loss: 129977.9531 - val_mean_absolute_error: 221.5651\n",
      "Epoch 32/5000\n",
      "3/3 - 0s - loss: 97810.7578 - mean_absolute_error: 205.2928 - val_loss: 129999.8359 - val_mean_absolute_error: 220.2515\n",
      "Epoch 33/5000\n",
      "3/3 - 0s - loss: 133514.6719 - mean_absolute_error: 224.9877 - val_loss: 131262.7969 - val_mean_absolute_error: 222.1858\n",
      "Epoch 34/5000\n",
      "3/3 - 0s - loss: 114236.6406 - mean_absolute_error: 211.0737 - val_loss: 135269.5625 - val_mean_absolute_error: 219.7585\n",
      "Epoch 35/5000\n",
      "3/3 - 0s - loss: 90284.8359 - mean_absolute_error: 178.7804 - val_loss: 133457.7656 - val_mean_absolute_error: 219.1871\n",
      "Epoch 36/5000\n",
      "3/3 - 0s - loss: 101800.0547 - mean_absolute_error: 200.1261 - val_loss: 130818.4922 - val_mean_absolute_error: 221.0960\n",
      "Epoch 37/5000\n",
      "3/3 - 0s - loss: 102957.7109 - mean_absolute_error: 203.6343 - val_loss: 130892.4141 - val_mean_absolute_error: 218.5316\n",
      "Epoch 38/5000\n",
      "3/3 - 0s - loss: 108615.4453 - mean_absolute_error: 196.6051 - val_loss: 131194.6250 - val_mean_absolute_error: 218.0504\n",
      "Epoch 39/5000\n",
      "3/3 - 0s - loss: 89729.5078 - mean_absolute_error: 176.6492 - val_loss: 129270.8359 - val_mean_absolute_error: 218.2941\n",
      "Epoch 40/5000\n",
      "3/3 - 0s - loss: 123184.4922 - mean_absolute_error: 218.2704 - val_loss: 131396.8438 - val_mean_absolute_error: 218.0627\n",
      "Epoch 41/5000\n",
      "3/3 - 0s - loss: 101633.7969 - mean_absolute_error: 201.7928 - val_loss: 128283.4688 - val_mean_absolute_error: 218.4978\n",
      "Epoch 42/5000\n",
      "3/3 - 0s - loss: 103023.7812 - mean_absolute_error: 204.8777 - val_loss: 135966.0312 - val_mean_absolute_error: 221.6100\n",
      "Epoch 43/5000\n",
      "3/3 - 0s - loss: 108163.9531 - mean_absolute_error: 206.5828 - val_loss: 130622.8281 - val_mean_absolute_error: 217.4965\n",
      "Epoch 44/5000\n",
      "3/3 - 0s - loss: 97032.6875 - mean_absolute_error: 197.1456 - val_loss: 128396.4375 - val_mean_absolute_error: 219.9042\n",
      "Epoch 45/5000\n",
      "3/3 - 0s - loss: 133645.0156 - mean_absolute_error: 222.2262 - val_loss: 134701.2031 - val_mean_absolute_error: 219.5211\n",
      "Epoch 46/5000\n",
      "3/3 - 0s - loss: 93064.4453 - mean_absolute_error: 181.2789 - val_loss: 131005.5078 - val_mean_absolute_error: 217.1984\n",
      "Epoch 47/5000\n",
      "3/3 - 0s - loss: 110980.7109 - mean_absolute_error: 215.1347 - val_loss: 131360.9844 - val_mean_absolute_error: 218.0841\n",
      "Epoch 48/5000\n",
      "3/3 - 0s - loss: 134757.5938 - mean_absolute_error: 215.0718 - val_loss: 129125.5781 - val_mean_absolute_error: 218.2859\n",
      "Epoch 49/5000\n",
      "3/3 - 0s - loss: 101719.5078 - mean_absolute_error: 211.0244 - val_loss: 128021.7812 - val_mean_absolute_error: 225.4686\n",
      "Epoch 50/5000\n",
      "3/3 - 0s - loss: 106272.6641 - mean_absolute_error: 199.7089 - val_loss: 128887.5859 - val_mean_absolute_error: 220.2699\n",
      "Epoch 51/5000\n",
      "3/3 - 0s - loss: 101558.8984 - mean_absolute_error: 197.9952 - val_loss: 127462.0469 - val_mean_absolute_error: 224.0402\n",
      "Epoch 52/5000\n",
      "3/3 - 0s - loss: 104732.4922 - mean_absolute_error: 209.7785 - val_loss: 128574.1953 - val_mean_absolute_error: 218.3576\n",
      "Epoch 53/5000\n",
      "3/3 - 0s - loss: 115880.5625 - mean_absolute_error: 212.0360 - val_loss: 131890.6875 - val_mean_absolute_error: 218.1992\n",
      "Epoch 54/5000\n",
      "3/3 - 0s - loss: 92532.0781 - mean_absolute_error: 184.3522 - val_loss: 127060.5625 - val_mean_absolute_error: 219.5535\n",
      "Epoch 55/5000\n",
      "3/3 - 0s - loss: 110276.8281 - mean_absolute_error: 209.4234 - val_loss: 134682.0938 - val_mean_absolute_error: 221.2138\n",
      "Epoch 56/5000\n",
      "3/3 - 0s - loss: 93766.9219 - mean_absolute_error: 186.5866 - val_loss: 126690.9062 - val_mean_absolute_error: 218.3082\n",
      "Epoch 57/5000\n",
      "3/3 - 0s - loss: 124758.3984 - mean_absolute_error: 219.3790 - val_loss: 132100.1719 - val_mean_absolute_error: 217.5708\n",
      "Epoch 58/5000\n",
      "3/3 - 0s - loss: 102547.1016 - mean_absolute_error: 199.1715 - val_loss: 126993.9922 - val_mean_absolute_error: 216.7239\n",
      "Epoch 59/5000\n",
      "3/3 - 0s - loss: 102081.5625 - mean_absolute_error: 189.8745 - val_loss: 126955.8750 - val_mean_absolute_error: 216.5292\n",
      "Epoch 60/5000\n",
      "3/3 - 0s - loss: 97257.4219 - mean_absolute_error: 198.0073 - val_loss: 126420.5078 - val_mean_absolute_error: 219.0431\n",
      "Epoch 61/5000\n",
      "3/3 - 0s - loss: 91001.5000 - mean_absolute_error: 190.5086 - val_loss: 132018.2188 - val_mean_absolute_error: 217.4943\n",
      "Epoch 62/5000\n",
      "3/3 - 0s - loss: 124891.7500 - mean_absolute_error: 222.3269 - val_loss: 129616.8516 - val_mean_absolute_error: 216.6948\n",
      "Epoch 63/5000\n",
      "3/3 - 0s - loss: 90791.6641 - mean_absolute_error: 194.1692 - val_loss: 128206.9531 - val_mean_absolute_error: 216.0628\n",
      "Epoch 64/5000\n",
      "3/3 - 0s - loss: 98166.1641 - mean_absolute_error: 195.7320 - val_loss: 126269.4219 - val_mean_absolute_error: 217.0952\n",
      "Epoch 65/5000\n",
      "3/3 - 0s - loss: 108278.0547 - mean_absolute_error: 202.6703 - val_loss: 130619.0781 - val_mean_absolute_error: 216.5059\n",
      "Epoch 66/5000\n",
      "3/3 - 0s - loss: 91098.4375 - mean_absolute_error: 191.4320 - val_loss: 125687.3828 - val_mean_absolute_error: 219.6131\n",
      "Epoch 67/5000\n",
      "3/3 - 0s - loss: 105286.2031 - mean_absolute_error: 207.5637 - val_loss: 125781.4453 - val_mean_absolute_error: 219.5049\n",
      "Epoch 68/5000\n",
      "3/3 - 0s - loss: 94082.6406 - mean_absolute_error: 195.7925 - val_loss: 125947.2188 - val_mean_absolute_error: 218.6689\n",
      "Epoch 69/5000\n",
      "3/3 - 0s - loss: 104751.4141 - mean_absolute_error: 215.5326 - val_loss: 128113.7500 - val_mean_absolute_error: 215.5656\n",
      "Epoch 70/5000\n",
      "3/3 - 0s - loss: 99442.0938 - mean_absolute_error: 205.8869 - val_loss: 126175.2266 - val_mean_absolute_error: 215.9186\n",
      "Epoch 71/5000\n",
      "3/3 - 0s - loss: 81176.9062 - mean_absolute_error: 173.2689 - val_loss: 130081.5625 - val_mean_absolute_error: 215.7513\n",
      "Epoch 72/5000\n",
      "3/3 - 0s - loss: 104850.2891 - mean_absolute_error: 209.0797 - val_loss: 131158.9219 - val_mean_absolute_error: 217.1693\n",
      "Epoch 73/5000\n",
      "3/3 - 0s - loss: 97492.8359 - mean_absolute_error: 201.2122 - val_loss: 127385.8984 - val_mean_absolute_error: 215.7664\n",
      "Epoch 74/5000\n",
      "3/3 - 0s - loss: 98829.3359 - mean_absolute_error: 203.8615 - val_loss: 129515.3906 - val_mean_absolute_error: 216.8567\n",
      "Epoch 75/5000\n",
      "3/3 - 0s - loss: 104341.3125 - mean_absolute_error: 188.4696 - val_loss: 125528.4141 - val_mean_absolute_error: 215.8699\n",
      "Epoch 76/5000\n",
      "3/3 - 0s - loss: 98862.3125 - mean_absolute_error: 198.9417 - val_loss: 124874.4219 - val_mean_absolute_error: 215.6403\n",
      "Epoch 77/5000\n",
      "3/3 - 0s - loss: 109853.8828 - mean_absolute_error: 207.4258 - val_loss: 125368.8984 - val_mean_absolute_error: 226.7076\n",
      "Epoch 78/5000\n",
      "3/3 - 0s - loss: 83118.3203 - mean_absolute_error: 183.8777 - val_loss: 125063.1641 - val_mean_absolute_error: 217.8304\n",
      "Epoch 79/5000\n",
      "3/3 - 0s - loss: 90989.7344 - mean_absolute_error: 183.5109 - val_loss: 126255.2500 - val_mean_absolute_error: 215.5866\n",
      "Epoch 80/5000\n",
      "3/3 - 0s - loss: 139140.6094 - mean_absolute_error: 231.4527 - val_loss: 129394.8125 - val_mean_absolute_error: 215.7868\n",
      "Epoch 81/5000\n",
      "3/3 - 0s - loss: 84637.9219 - mean_absolute_error: 172.7146 - val_loss: 126877.9688 - val_mean_absolute_error: 215.2373\n",
      "Epoch 82/5000\n",
      "3/3 - 0s - loss: 83664.5156 - mean_absolute_error: 175.5447 - val_loss: 126534.3984 - val_mean_absolute_error: 213.8834\n",
      "Epoch 83/5000\n",
      "3/3 - 0s - loss: 95506.2734 - mean_absolute_error: 197.4898 - val_loss: 127445.2422 - val_mean_absolute_error: 213.7787\n",
      "Epoch 84/5000\n",
      "3/3 - 0s - loss: 97083.1875 - mean_absolute_error: 196.4635 - val_loss: 126019.6562 - val_mean_absolute_error: 214.1232\n",
      "Epoch 85/5000\n",
      "3/3 - 0s - loss: 103346.8516 - mean_absolute_error: 207.9335 - val_loss: 126039.9766 - val_mean_absolute_error: 213.2579\n",
      "Epoch 86/5000\n",
      "3/3 - 0s - loss: 91810.1172 - mean_absolute_error: 193.5992 - val_loss: 126292.6797 - val_mean_absolute_error: 214.1474\n",
      "Epoch 87/5000\n",
      "3/3 - 0s - loss: 90604.3203 - mean_absolute_error: 190.8722 - val_loss: 125626.1641 - val_mean_absolute_error: 214.5695\n",
      "Epoch 88/5000\n",
      "3/3 - 0s - loss: 80123.8359 - mean_absolute_error: 189.2616 - val_loss: 126279.6797 - val_mean_absolute_error: 214.0415\n",
      "Epoch 89/5000\n",
      "3/3 - 0s - loss: 107554.0703 - mean_absolute_error: 201.3318 - val_loss: 129160.3125 - val_mean_absolute_error: 214.9055\n",
      "Epoch 90/5000\n",
      "3/3 - 0s - loss: 118861.0469 - mean_absolute_error: 219.2146 - val_loss: 125584.3203 - val_mean_absolute_error: 214.8835\n",
      "Epoch 91/5000\n",
      "3/3 - 0s - loss: 104279.7031 - mean_absolute_error: 200.4473 - val_loss: 123644.9219 - val_mean_absolute_error: 217.9525\n",
      "Epoch 92/5000\n",
      "3/3 - 0s - loss: 112655.3672 - mean_absolute_error: 230.5842 - val_loss: 126531.6172 - val_mean_absolute_error: 216.4144\n",
      "Epoch 93/5000\n",
      "3/3 - 0s - loss: 111458.3438 - mean_absolute_error: 211.2021 - val_loss: 124088.4219 - val_mean_absolute_error: 220.3337\n",
      "Epoch 94/5000\n",
      "3/3 - 0s - loss: 94614.4922 - mean_absolute_error: 192.9756 - val_loss: 124729.1719 - val_mean_absolute_error: 216.8044\n",
      "Epoch 95/5000\n",
      "3/3 - 0s - loss: 96188.5859 - mean_absolute_error: 204.1208 - val_loss: 124014.9453 - val_mean_absolute_error: 217.7184\n",
      "Epoch 96/5000\n",
      "3/3 - 0s - loss: 119899.0312 - mean_absolute_error: 208.6694 - val_loss: 124360.4844 - val_mean_absolute_error: 217.2752\n",
      "Epoch 97/5000\n",
      "3/3 - 0s - loss: 103431.1172 - mean_absolute_error: 204.9463 - val_loss: 124126.3438 - val_mean_absolute_error: 217.4738\n",
      "Epoch 98/5000\n",
      "3/3 - 0s - loss: 105752.2891 - mean_absolute_error: 208.2859 - val_loss: 125307.0547 - val_mean_absolute_error: 215.2602\n",
      "Epoch 99/5000\n",
      "3/3 - 0s - loss: 100727.7500 - mean_absolute_error: 197.8017 - val_loss: 128243.0078 - val_mean_absolute_error: 214.9823\n",
      "Epoch 100/5000\n",
      "3/3 - 0s - loss: 125756.4922 - mean_absolute_error: 222.0748 - val_loss: 128896.9531 - val_mean_absolute_error: 215.4741\n",
      "Epoch 101/5000\n",
      "3/3 - 0s - loss: 99138.7578 - mean_absolute_error: 202.0153 - val_loss: 123187.5781 - val_mean_absolute_error: 214.3718\n",
      "Epoch 102/5000\n",
      "3/3 - 0s - loss: 108238.9297 - mean_absolute_error: 221.7610 - val_loss: 122975.6875 - val_mean_absolute_error: 215.0310\n",
      "Epoch 103/5000\n",
      "3/3 - 0s - loss: 99332.6016 - mean_absolute_error: 209.9367 - val_loss: 125103.4688 - val_mean_absolute_error: 212.1442\n",
      "Epoch 104/5000\n",
      "3/3 - 0s - loss: 114749.5859 - mean_absolute_error: 209.9933 - val_loss: 128120.2734 - val_mean_absolute_error: 215.2784\n",
      "Epoch 105/5000\n",
      "3/3 - 0s - loss: 95283.5781 - mean_absolute_error: 192.0091 - val_loss: 124506.7578 - val_mean_absolute_error: 212.6413\n",
      "Epoch 106/5000\n",
      "3/3 - 0s - loss: 87273.1250 - mean_absolute_error: 196.6545 - val_loss: 121619.1484 - val_mean_absolute_error: 213.6423\n",
      "Epoch 107/5000\n",
      "3/3 - 0s - loss: 108351.1016 - mean_absolute_error: 213.5932 - val_loss: 125616.1172 - val_mean_absolute_error: 213.0832\n",
      "Epoch 108/5000\n",
      "3/3 - 0s - loss: 87148.4922 - mean_absolute_error: 175.7408 - val_loss: 120861.8828 - val_mean_absolute_error: 215.0347\n",
      "Epoch 109/5000\n",
      "3/3 - 0s - loss: 112416.7109 - mean_absolute_error: 216.8852 - val_loss: 122685.9062 - val_mean_absolute_error: 211.3240\n",
      "Epoch 110/5000\n",
      "3/3 - 0s - loss: 100237.3359 - mean_absolute_error: 195.2030 - val_loss: 122692.9297 - val_mean_absolute_error: 211.3364\n",
      "Epoch 111/5000\n",
      "3/3 - 0s - loss: 83557.6562 - mean_absolute_error: 183.3090 - val_loss: 125713.2031 - val_mean_absolute_error: 213.0878\n",
      "Epoch 112/5000\n",
      "3/3 - 0s - loss: 116866.6875 - mean_absolute_error: 204.4312 - val_loss: 123066.3672 - val_mean_absolute_error: 213.0468\n",
      "Epoch 113/5000\n",
      "3/3 - 0s - loss: 114795.9219 - mean_absolute_error: 227.4002 - val_loss: 122546.3828 - val_mean_absolute_error: 214.0694\n",
      "Epoch 114/5000\n",
      "3/3 - 0s - loss: 89787.5156 - mean_absolute_error: 194.7017 - val_loss: 122279.3125 - val_mean_absolute_error: 214.0443\n",
      "Epoch 115/5000\n",
      "3/3 - 0s - loss: 90407.2500 - mean_absolute_error: 188.0653 - val_loss: 120777.3594 - val_mean_absolute_error: 214.3203\n",
      "Epoch 116/5000\n",
      "3/3 - 0s - loss: 119480.7969 - mean_absolute_error: 217.4533 - val_loss: 122147.8828 - val_mean_absolute_error: 212.8549\n",
      "Epoch 117/5000\n",
      "3/3 - 0s - loss: 85662.8984 - mean_absolute_error: 199.3155 - val_loss: 121806.3672 - val_mean_absolute_error: 213.9307\n",
      "Epoch 118/5000\n",
      "3/3 - 0s - loss: 88553.9219 - mean_absolute_error: 197.8557 - val_loss: 124243.9688 - val_mean_absolute_error: 212.4536\n",
      "Epoch 119/5000\n",
      "3/3 - 0s - loss: 94311.1484 - mean_absolute_error: 194.7339 - val_loss: 120703.1406 - val_mean_absolute_error: 216.8109\n",
      "Epoch 120/5000\n",
      "3/3 - 0s - loss: 93330.4688 - mean_absolute_error: 184.2135 - val_loss: 122569.9531 - val_mean_absolute_error: 212.6248\n",
      "Epoch 121/5000\n",
      "3/3 - 0s - loss: 113653.9297 - mean_absolute_error: 216.3951 - val_loss: 123097.6328 - val_mean_absolute_error: 212.7307\n",
      "Epoch 122/5000\n",
      "3/3 - 0s - loss: 82996.2891 - mean_absolute_error: 192.9993 - val_loss: 122328.5625 - val_mean_absolute_error: 216.4057\n",
      "Epoch 123/5000\n",
      "3/3 - 0s - loss: 108621.1953 - mean_absolute_error: 218.6719 - val_loss: 134310.7188 - val_mean_absolute_error: 221.2388\n",
      "Epoch 124/5000\n",
      "3/3 - 0s - loss: 97141.1016 - mean_absolute_error: 198.9810 - val_loss: 126966.5078 - val_mean_absolute_error: 213.8986\n",
      "Epoch 125/5000\n",
      "3/3 - 0s - loss: 93998.1641 - mean_absolute_error: 193.3410 - val_loss: 122804.6797 - val_mean_absolute_error: 213.4311\n",
      "Epoch 126/5000\n",
      "3/3 - 0s - loss: 113079.3594 - mean_absolute_error: 224.1882 - val_loss: 120476.3438 - val_mean_absolute_error: 214.5362\n",
      "Epoch 127/5000\n",
      "3/3 - 0s - loss: 95511.8203 - mean_absolute_error: 189.4062 - val_loss: 121790.9062 - val_mean_absolute_error: 212.0072\n",
      "Epoch 128/5000\n",
      "3/3 - 0s - loss: 97226.1641 - mean_absolute_error: 196.2727 - val_loss: 120232.5859 - val_mean_absolute_error: 213.7274\n",
      "Epoch 129/5000\n",
      "3/3 - 0s - loss: 91905.7812 - mean_absolute_error: 197.5296 - val_loss: 120355.4375 - val_mean_absolute_error: 213.1369\n",
      "Epoch 130/5000\n",
      "3/3 - 0s - loss: 92277.6016 - mean_absolute_error: 196.1461 - val_loss: 126475.6797 - val_mean_absolute_error: 213.5423\n",
      "Epoch 131/5000\n",
      "3/3 - 0s - loss: 95953.6484 - mean_absolute_error: 185.8986 - val_loss: 122786.7578 - val_mean_absolute_error: 212.2356\n",
      "Epoch 132/5000\n",
      "3/3 - 0s - loss: 92409.8203 - mean_absolute_error: 189.4637 - val_loss: 121492.9297 - val_mean_absolute_error: 211.0555\n",
      "Epoch 133/5000\n",
      "3/3 - 0s - loss: 92075.0469 - mean_absolute_error: 193.5334 - val_loss: 121478.6875 - val_mean_absolute_error: 211.7060\n",
      "Epoch 134/5000\n",
      "3/3 - 0s - loss: 95829.1016 - mean_absolute_error: 191.5807 - val_loss: 122670.2891 - val_mean_absolute_error: 211.1600\n",
      "Epoch 135/5000\n",
      "3/3 - 0s - loss: 101985.3203 - mean_absolute_error: 197.5130 - val_loss: 120965.3594 - val_mean_absolute_error: 211.5354\n",
      "Epoch 136/5000\n",
      "3/3 - 0s - loss: 91783.6953 - mean_absolute_error: 204.6623 - val_loss: 120026.5312 - val_mean_absolute_error: 214.8014\n",
      "Epoch 137/5000\n",
      "3/3 - 0s - loss: 89087.6797 - mean_absolute_error: 208.3165 - val_loss: 124247.5078 - val_mean_absolute_error: 212.1465\n",
      "Epoch 138/5000\n",
      "3/3 - 0s - loss: 102815.6016 - mean_absolute_error: 201.5973 - val_loss: 123352.0234 - val_mean_absolute_error: 212.6184\n",
      "Epoch 139/5000\n",
      "3/3 - 0s - loss: 86476.1875 - mean_absolute_error: 200.4232 - val_loss: 118834.3125 - val_mean_absolute_error: 213.2280\n",
      "Epoch 140/5000\n",
      "3/3 - 0s - loss: 105858.6094 - mean_absolute_error: 196.4788 - val_loss: 121690.9922 - val_mean_absolute_error: 211.1467\n",
      "Epoch 141/5000\n",
      "3/3 - 0s - loss: 90288.3828 - mean_absolute_error: 188.2161 - val_loss: 120106.4688 - val_mean_absolute_error: 212.5799\n",
      "Epoch 142/5000\n",
      "3/3 - 0s - loss: 100997.9062 - mean_absolute_error: 202.6763 - val_loss: 124422.7500 - val_mean_absolute_error: 212.1209\n",
      "Epoch 143/5000\n",
      "3/3 - 0s - loss: 89769.0000 - mean_absolute_error: 179.7987 - val_loss: 118603.0234 - val_mean_absolute_error: 211.9039\n",
      "Epoch 144/5000\n",
      "3/3 - 0s - loss: 88954.8125 - mean_absolute_error: 187.5535 - val_loss: 117341.6094 - val_mean_absolute_error: 215.0738\n",
      "Epoch 145/5000\n",
      "3/3 - 0s - loss: 76854.4531 - mean_absolute_error: 180.2858 - val_loss: 119775.2969 - val_mean_absolute_error: 211.1266\n",
      "Epoch 146/5000\n",
      "3/3 - 0s - loss: 82313.7500 - mean_absolute_error: 187.8513 - val_loss: 117337.0703 - val_mean_absolute_error: 212.7962\n",
      "Epoch 147/5000\n",
      "3/3 - 0s - loss: 122938.7500 - mean_absolute_error: 216.7652 - val_loss: 121278.6562 - val_mean_absolute_error: 209.2583\n",
      "Epoch 148/5000\n",
      "3/3 - 0s - loss: 104310.8984 - mean_absolute_error: 217.9793 - val_loss: 118661.0781 - val_mean_absolute_error: 212.9608\n",
      "Epoch 149/5000\n",
      "3/3 - 0s - loss: 93765.9766 - mean_absolute_error: 205.5200 - val_loss: 119277.2891 - val_mean_absolute_error: 212.3205\n",
      "Epoch 150/5000\n",
      "3/3 - 0s - loss: 100345.9922 - mean_absolute_error: 194.4213 - val_loss: 119245.3359 - val_mean_absolute_error: 211.7155\n",
      "Epoch 151/5000\n",
      "3/3 - 0s - loss: 110077.2656 - mean_absolute_error: 205.8468 - val_loss: 118556.7109 - val_mean_absolute_error: 211.8771\n",
      "Epoch 152/5000\n",
      "3/3 - 0s - loss: 99092.8281 - mean_absolute_error: 204.7456 - val_loss: 117852.6172 - val_mean_absolute_error: 213.8283\n",
      "Epoch 153/5000\n",
      "3/3 - 0s - loss: 87606.8047 - mean_absolute_error: 199.0430 - val_loss: 119834.9219 - val_mean_absolute_error: 211.2280\n",
      "Epoch 154/5000\n",
      "3/3 - 0s - loss: 87673.3125 - mean_absolute_error: 189.2336 - val_loss: 117671.8594 - val_mean_absolute_error: 210.4343\n",
      "Epoch 155/5000\n",
      "3/3 - 0s - loss: 109416.7812 - mean_absolute_error: 204.5904 - val_loss: 116759.1406 - val_mean_absolute_error: 215.2157\n",
      "Epoch 156/5000\n",
      "3/3 - 0s - loss: 109601.6094 - mean_absolute_error: 209.6281 - val_loss: 118013.9531 - val_mean_absolute_error: 209.6512\n",
      "Epoch 157/5000\n",
      "3/3 - 0s - loss: 100240.9219 - mean_absolute_error: 198.3191 - val_loss: 123122.3672 - val_mean_absolute_error: 210.4028\n",
      "Epoch 158/5000\n",
      "3/3 - 0s - loss: 72833.1016 - mean_absolute_error: 179.1993 - val_loss: 118981.9688 - val_mean_absolute_error: 208.7503\n",
      "Epoch 159/5000\n",
      "3/3 - 0s - loss: 85397.4609 - mean_absolute_error: 191.2800 - val_loss: 118272.0547 - val_mean_absolute_error: 209.8382\n",
      "Epoch 160/5000\n",
      "3/3 - 0s - loss: 101481.0547 - mean_absolute_error: 205.4026 - val_loss: 118187.4219 - val_mean_absolute_error: 210.5048\n",
      "Epoch 161/5000\n",
      "3/3 - 0s - loss: 101489.2188 - mean_absolute_error: 200.6035 - val_loss: 117325.3594 - val_mean_absolute_error: 211.0417\n",
      "Epoch 162/5000\n",
      "3/3 - 0s - loss: 123803.1875 - mean_absolute_error: 227.9866 - val_loss: 117355.1250 - val_mean_absolute_error: 211.1242\n",
      "Epoch 163/5000\n",
      "3/3 - 0s - loss: 87820.1875 - mean_absolute_error: 183.0365 - val_loss: 117472.0703 - val_mean_absolute_error: 210.0005\n",
      "Epoch 164/5000\n",
      "3/3 - 0s - loss: 103145.4219 - mean_absolute_error: 205.0183 - val_loss: 116381.4219 - val_mean_absolute_error: 211.8277\n",
      "Epoch 165/5000\n",
      "3/3 - 0s - loss: 93325.5703 - mean_absolute_error: 189.1256 - val_loss: 116105.2891 - val_mean_absolute_error: 210.7536\n",
      "Epoch 166/5000\n",
      "3/3 - 0s - loss: 106687.3125 - mean_absolute_error: 216.8848 - val_loss: 115746.0469 - val_mean_absolute_error: 211.9781\n",
      "Epoch 167/5000\n",
      "3/3 - 0s - loss: 98962.8594 - mean_absolute_error: 206.1999 - val_loss: 119858.1641 - val_mean_absolute_error: 208.7243\n",
      "Epoch 168/5000\n",
      "3/3 - 0s - loss: 80523.0000 - mean_absolute_error: 197.1338 - val_loss: 119385.2891 - val_mean_absolute_error: 208.3785\n",
      "Epoch 169/5000\n",
      "3/3 - 0s - loss: 116944.3906 - mean_absolute_error: 213.3360 - val_loss: 117044.3359 - val_mean_absolute_error: 209.5340\n",
      "Epoch 170/5000\n",
      "3/3 - 0s - loss: 76272.6406 - mean_absolute_error: 189.1526 - val_loss: 117935.2422 - val_mean_absolute_error: 210.2282\n",
      "Epoch 171/5000\n",
      "3/3 - 0s - loss: 104579.9453 - mean_absolute_error: 200.6296 - val_loss: 120576.3125 - val_mean_absolute_error: 209.2419\n",
      "Epoch 172/5000\n",
      "3/3 - 0s - loss: 73163.1484 - mean_absolute_error: 174.1201 - val_loss: 115943.6797 - val_mean_absolute_error: 211.9115\n",
      "Epoch 173/5000\n",
      "3/3 - 0s - loss: 100575.3984 - mean_absolute_error: 209.5058 - val_loss: 117430.4844 - val_mean_absolute_error: 209.9534\n",
      "Epoch 174/5000\n",
      "3/3 - 0s - loss: 75135.6172 - mean_absolute_error: 179.7034 - val_loss: 115673.7969 - val_mean_absolute_error: 210.7299\n",
      "Epoch 175/5000\n",
      "3/3 - 0s - loss: 91529.2969 - mean_absolute_error: 186.0993 - val_loss: 116070.1172 - val_mean_absolute_error: 213.6520\n",
      "Epoch 176/5000\n",
      "3/3 - 0s - loss: 103333.4375 - mean_absolute_error: 212.0480 - val_loss: 118496.3438 - val_mean_absolute_error: 210.2883\n",
      "Epoch 177/5000\n",
      "3/3 - 0s - loss: 91456.1484 - mean_absolute_error: 188.7714 - val_loss: 116961.5625 - val_mean_absolute_error: 212.5931\n",
      "Epoch 178/5000\n",
      "3/3 - 0s - loss: 95419.0781 - mean_absolute_error: 204.6421 - val_loss: 117044.1484 - val_mean_absolute_error: 212.3874\n",
      "Epoch 179/5000\n",
      "3/3 - 0s - loss: 94173.6641 - mean_absolute_error: 200.9044 - val_loss: 117097.1406 - val_mean_absolute_error: 211.5165\n",
      "Epoch 180/5000\n",
      "3/3 - 0s - loss: 101935.5312 - mean_absolute_error: 200.4421 - val_loss: 115397.7969 - val_mean_absolute_error: 214.4558\n",
      "Epoch 181/5000\n",
      "3/3 - 0s - loss: 92679.0781 - mean_absolute_error: 204.5437 - val_loss: 116357.8359 - val_mean_absolute_error: 211.2656\n",
      "Epoch 182/5000\n",
      "3/3 - 0s - loss: 90309.2969 - mean_absolute_error: 194.7869 - val_loss: 117488.2500 - val_mean_absolute_error: 210.2197\n",
      "Epoch 183/5000\n",
      "3/3 - 0s - loss: 85445.2500 - mean_absolute_error: 191.4697 - val_loss: 116076.7344 - val_mean_absolute_error: 209.9039\n",
      "Epoch 184/5000\n",
      "3/3 - 0s - loss: 104066.3438 - mean_absolute_error: 187.1221 - val_loss: 115105.3672 - val_mean_absolute_error: 211.1711\n",
      "Epoch 185/5000\n",
      "3/3 - 0s - loss: 102891.8594 - mean_absolute_error: 211.6954 - val_loss: 116024.3906 - val_mean_absolute_error: 211.6809\n",
      "Epoch 186/5000\n",
      "3/3 - 0s - loss: 94584.9922 - mean_absolute_error: 192.6712 - val_loss: 117922.6172 - val_mean_absolute_error: 208.3504\n",
      "Epoch 187/5000\n",
      "3/3 - 0s - loss: 88542.2188 - mean_absolute_error: 194.7299 - val_loss: 116105.1719 - val_mean_absolute_error: 209.9768\n",
      "Epoch 188/5000\n",
      "3/3 - 0s - loss: 88687.7969 - mean_absolute_error: 195.9566 - val_loss: 115555.9766 - val_mean_absolute_error: 209.7910\n",
      "Epoch 189/5000\n",
      "3/3 - 0s - loss: 91937.0078 - mean_absolute_error: 200.8596 - val_loss: 116814.9453 - val_mean_absolute_error: 208.5041\n",
      "Epoch 190/5000\n",
      "3/3 - 0s - loss: 85343.8359 - mean_absolute_error: 182.9036 - val_loss: 114958.8750 - val_mean_absolute_error: 208.9114\n",
      "Epoch 191/5000\n",
      "3/3 - 0s - loss: 108131.5781 - mean_absolute_error: 193.2660 - val_loss: 114364.7812 - val_mean_absolute_error: 208.0551\n",
      "Epoch 192/5000\n",
      "3/3 - 0s - loss: 96349.4297 - mean_absolute_error: 210.0507 - val_loss: 117189.7734 - val_mean_absolute_error: 207.8502\n",
      "Epoch 193/5000\n",
      "3/3 - 0s - loss: 109708.9922 - mean_absolute_error: 203.0414 - val_loss: 117321.8516 - val_mean_absolute_error: 207.2481\n",
      "Epoch 194/5000\n",
      "3/3 - 0s - loss: 85120.9844 - mean_absolute_error: 194.2033 - val_loss: 116685.4609 - val_mean_absolute_error: 206.5837\n",
      "Epoch 195/5000\n",
      "3/3 - 0s - loss: 76298.8281 - mean_absolute_error: 182.0312 - val_loss: 114168.5547 - val_mean_absolute_error: 207.5312\n",
      "Epoch 196/5000\n",
      "3/3 - 0s - loss: 98372.6016 - mean_absolute_error: 193.4250 - val_loss: 117576.1875 - val_mean_absolute_error: 207.8786\n",
      "Epoch 197/5000\n",
      "3/3 - 0s - loss: 88693.6797 - mean_absolute_error: 191.8768 - val_loss: 113506.0547 - val_mean_absolute_error: 209.1224\n",
      "Epoch 198/5000\n",
      "3/3 - 0s - loss: 86238.8125 - mean_absolute_error: 192.7925 - val_loss: 117471.0000 - val_mean_absolute_error: 208.0255\n",
      "Epoch 199/5000\n",
      "3/3 - 0s - loss: 85964.4922 - mean_absolute_error: 207.6155 - val_loss: 112507.4688 - val_mean_absolute_error: 211.5605\n",
      "Epoch 200/5000\n",
      "3/3 - 0s - loss: 81354.4297 - mean_absolute_error: 190.2242 - val_loss: 113713.0234 - val_mean_absolute_error: 208.6805\n",
      "Epoch 201/5000\n",
      "3/3 - 0s - loss: 93482.0312 - mean_absolute_error: 196.2670 - val_loss: 116126.3438 - val_mean_absolute_error: 206.9745\n",
      "Epoch 202/5000\n",
      "3/3 - 0s - loss: 85413.9609 - mean_absolute_error: 194.8991 - val_loss: 112613.3438 - val_mean_absolute_error: 208.1554\n",
      "Epoch 203/5000\n",
      "3/3 - 0s - loss: 86704.6641 - mean_absolute_error: 196.0594 - val_loss: 113615.6016 - val_mean_absolute_error: 218.8116\n",
      "Epoch 204/5000\n",
      "3/3 - 0s - loss: 83050.5547 - mean_absolute_error: 184.2027 - val_loss: 112795.8047 - val_mean_absolute_error: 213.0211\n",
      "Epoch 205/5000\n",
      "3/3 - 0s - loss: 90628.4531 - mean_absolute_error: 192.6711 - val_loss: 114717.6406 - val_mean_absolute_error: 206.0648\n",
      "Epoch 206/5000\n",
      "3/3 - 0s - loss: 113272.5781 - mean_absolute_error: 208.3944 - val_loss: 117248.6797 - val_mean_absolute_error: 207.3302\n",
      "Epoch 207/5000\n",
      "3/3 - 0s - loss: 86949.6797 - mean_absolute_error: 188.1344 - val_loss: 112995.1875 - val_mean_absolute_error: 205.5067\n",
      "Epoch 208/5000\n",
      "3/3 - 0s - loss: 100938.3203 - mean_absolute_error: 217.9888 - val_loss: 112437.8125 - val_mean_absolute_error: 204.6810\n",
      "Epoch 209/5000\n",
      "3/3 - 0s - loss: 97405.3438 - mean_absolute_error: 205.7413 - val_loss: 110531.5625 - val_mean_absolute_error: 206.3282\n",
      "Epoch 210/5000\n",
      "3/3 - 0s - loss: 84499.3672 - mean_absolute_error: 203.0020 - val_loss: 110784.1953 - val_mean_absolute_error: 206.5517\n",
      "Epoch 211/5000\n",
      "3/3 - 0s - loss: 90691.2109 - mean_absolute_error: 195.5338 - val_loss: 110910.6641 - val_mean_absolute_error: 206.8942\n",
      "Epoch 212/5000\n",
      "3/3 - 0s - loss: 84759.7812 - mean_absolute_error: 186.1418 - val_loss: 111377.1875 - val_mean_absolute_error: 208.5883\n",
      "Epoch 213/5000\n",
      "3/3 - 0s - loss: 107070.8750 - mean_absolute_error: 202.0456 - val_loss: 113282.1641 - val_mean_absolute_error: 205.3372\n",
      "Epoch 214/5000\n",
      "3/3 - 0s - loss: 81651.1172 - mean_absolute_error: 185.7115 - val_loss: 111683.2969 - val_mean_absolute_error: 208.0007\n",
      "Epoch 215/5000\n",
      "3/3 - 0s - loss: 96328.0781 - mean_absolute_error: 209.9574 - val_loss: 114795.9766 - val_mean_absolute_error: 205.2176\n",
      "Epoch 216/5000\n",
      "3/3 - 0s - loss: 78325.6406 - mean_absolute_error: 174.1499 - val_loss: 112804.6328 - val_mean_absolute_error: 205.1474\n",
      "Epoch 217/5000\n",
      "3/3 - 0s - loss: 74571.5312 - mean_absolute_error: 186.4219 - val_loss: 114315.9922 - val_mean_absolute_error: 203.4859\n",
      "Epoch 218/5000\n",
      "3/3 - 0s - loss: 95578.3594 - mean_absolute_error: 200.7800 - val_loss: 111208.1172 - val_mean_absolute_error: 206.3041\n",
      "Epoch 219/5000\n",
      "3/3 - 0s - loss: 92974.1094 - mean_absolute_error: 221.1724 - val_loss: 112616.6797 - val_mean_absolute_error: 204.6790\n",
      "Epoch 220/5000\n",
      "3/3 - 0s - loss: 86207.0078 - mean_absolute_error: 197.0553 - val_loss: 111449.6875 - val_mean_absolute_error: 204.4855\n",
      "Epoch 221/5000\n",
      "3/3 - 0s - loss: 101689.1719 - mean_absolute_error: 201.2876 - val_loss: 114127.6172 - val_mean_absolute_error: 204.6160\n",
      "Epoch 222/5000\n",
      "3/3 - 0s - loss: 86739.6719 - mean_absolute_error: 188.6009 - val_loss: 110796.6406 - val_mean_absolute_error: 205.8263\n",
      "Epoch 223/5000\n",
      "3/3 - 0s - loss: 90975.0156 - mean_absolute_error: 192.4349 - val_loss: 109796.6562 - val_mean_absolute_error: 206.4520\n",
      "Epoch 224/5000\n",
      "3/3 - 0s - loss: 76901.8438 - mean_absolute_error: 176.8636 - val_loss: 110348.1719 - val_mean_absolute_error: 203.7390\n",
      "Epoch 225/5000\n",
      "3/3 - 0s - loss: 100110.7500 - mean_absolute_error: 214.0929 - val_loss: 117240.0703 - val_mean_absolute_error: 208.2566\n",
      "Epoch 226/5000\n",
      "3/3 - 0s - loss: 80662.5547 - mean_absolute_error: 182.9693 - val_loss: 111281.3125 - val_mean_absolute_error: 204.2480\n",
      "Epoch 227/5000\n",
      "3/3 - 0s - loss: 69396.5938 - mean_absolute_error: 175.6313 - val_loss: 111870.8125 - val_mean_absolute_error: 203.4408\n",
      "Epoch 228/5000\n",
      "3/3 - 0s - loss: 106255.5391 - mean_absolute_error: 199.3354 - val_loss: 110753.9297 - val_mean_absolute_error: 208.2074\n",
      "Epoch 229/5000\n",
      "3/3 - 0s - loss: 91483.7500 - mean_absolute_error: 203.8702 - val_loss: 114592.4453 - val_mean_absolute_error: 204.4245\n",
      "Epoch 230/5000\n",
      "3/3 - 0s - loss: 77338.6641 - mean_absolute_error: 189.7139 - val_loss: 110693.1953 - val_mean_absolute_error: 205.2509\n",
      "Epoch 231/5000\n",
      "3/3 - 0s - loss: 92813.3828 - mean_absolute_error: 208.6764 - val_loss: 112343.7812 - val_mean_absolute_error: 205.4041\n",
      "Epoch 232/5000\n",
      "3/3 - 0s - loss: 85472.5938 - mean_absolute_error: 200.2682 - val_loss: 111424.8750 - val_mean_absolute_error: 204.8580\n",
      "Epoch 233/5000\n",
      "3/3 - 0s - loss: 75380.5781 - mean_absolute_error: 182.9652 - val_loss: 114428.2969 - val_mean_absolute_error: 204.6277\n",
      "Epoch 234/5000\n",
      "3/3 - 0s - loss: 119638.0703 - mean_absolute_error: 227.0967 - val_loss: 114823.0078 - val_mean_absolute_error: 205.1705\n",
      "Epoch 235/5000\n",
      "3/3 - 0s - loss: 103525.5859 - mean_absolute_error: 203.7144 - val_loss: 112470.4609 - val_mean_absolute_error: 207.6422\n",
      "Epoch 236/5000\n",
      "3/3 - 0s - loss: 81590.9219 - mean_absolute_error: 186.7728 - val_loss: 111037.7500 - val_mean_absolute_error: 208.6893\n",
      "Epoch 237/5000\n",
      "3/3 - 0s - loss: 72721.8828 - mean_absolute_error: 180.0586 - val_loss: 109732.1641 - val_mean_absolute_error: 206.6211\n",
      "Epoch 238/5000\n",
      "3/3 - 0s - loss: 81923.0234 - mean_absolute_error: 191.6499 - val_loss: 111627.5391 - val_mean_absolute_error: 204.5952\n",
      "Epoch 239/5000\n",
      "3/3 - 0s - loss: 94998.8828 - mean_absolute_error: 199.1432 - val_loss: 111698.3438 - val_mean_absolute_error: 203.5248\n",
      "Epoch 240/5000\n",
      "3/3 - 0s - loss: 97380.7344 - mean_absolute_error: 211.4107 - val_loss: 113807.7344 - val_mean_absolute_error: 205.6525\n",
      "Epoch 241/5000\n",
      "3/3 - 0s - loss: 90012.6016 - mean_absolute_error: 188.8437 - val_loss: 110405.6328 - val_mean_absolute_error: 204.8261\n",
      "Epoch 242/5000\n",
      "3/3 - 0s - loss: 83062.3594 - mean_absolute_error: 196.3659 - val_loss: 108374.7812 - val_mean_absolute_error: 207.4289\n",
      "Epoch 243/5000\n",
      "3/3 - 0s - loss: 82530.8125 - mean_absolute_error: 193.5167 - val_loss: 109148.5312 - val_mean_absolute_error: 205.9796\n",
      "Epoch 244/5000\n",
      "3/3 - 0s - loss: 91699.4844 - mean_absolute_error: 191.5257 - val_loss: 110277.7734 - val_mean_absolute_error: 203.7963\n",
      "Epoch 245/5000\n",
      "3/3 - 0s - loss: 81523.2266 - mean_absolute_error: 189.6605 - val_loss: 116875.6875 - val_mean_absolute_error: 208.9990\n",
      "Epoch 246/5000\n",
      "3/3 - 0s - loss: 92650.9609 - mean_absolute_error: 188.1366 - val_loss: 114868.3984 - val_mean_absolute_error: 206.0864\n",
      "Epoch 247/5000\n",
      "3/3 - 0s - loss: 95879.7812 - mean_absolute_error: 213.3425 - val_loss: 111410.8984 - val_mean_absolute_error: 202.8043\n",
      "Epoch 248/5000\n",
      "3/3 - 0s - loss: 91162.0078 - mean_absolute_error: 193.6682 - val_loss: 109452.4375 - val_mean_absolute_error: 202.9211\n",
      "Epoch 249/5000\n",
      "3/3 - 0s - loss: 83374.0547 - mean_absolute_error: 197.3871 - val_loss: 111205.9766 - val_mean_absolute_error: 202.5909\n",
      "Epoch 250/5000\n",
      "3/3 - 0s - loss: 102835.0000 - mean_absolute_error: 215.4445 - val_loss: 112611.9453 - val_mean_absolute_error: 205.1003\n",
      "Epoch 251/5000\n",
      "3/3 - 0s - loss: 81196.2891 - mean_absolute_error: 192.7594 - val_loss: 107376.6172 - val_mean_absolute_error: 202.2191\n",
      "Epoch 252/5000\n",
      "3/3 - 0s - loss: 89579.8359 - mean_absolute_error: 211.8274 - val_loss: 107968.4688 - val_mean_absolute_error: 201.7915\n",
      "Epoch 253/5000\n",
      "3/3 - 0s - loss: 89507.9375 - mean_absolute_error: 201.1508 - val_loss: 106197.0078 - val_mean_absolute_error: 206.2039\n",
      "Epoch 254/5000\n",
      "3/3 - 0s - loss: 79151.0078 - mean_absolute_error: 179.0012 - val_loss: 107242.2500 - val_mean_absolute_error: 202.7898\n",
      "Epoch 255/5000\n",
      "3/3 - 0s - loss: 77071.7734 - mean_absolute_error: 179.6232 - val_loss: 107764.8516 - val_mean_absolute_error: 200.5936\n",
      "Epoch 256/5000\n",
      "3/3 - 0s - loss: 96698.4922 - mean_absolute_error: 207.7130 - val_loss: 106961.1250 - val_mean_absolute_error: 203.6986\n",
      "Epoch 257/5000\n",
      "3/3 - 0s - loss: 75677.6797 - mean_absolute_error: 184.5649 - val_loss: 107383.9922 - val_mean_absolute_error: 203.0673\n",
      "Epoch 258/5000\n",
      "3/3 - 0s - loss: 82879.2422 - mean_absolute_error: 200.1488 - val_loss: 107656.7969 - val_mean_absolute_error: 202.9097\n",
      "Epoch 259/5000\n",
      "3/3 - 0s - loss: 70686.6484 - mean_absolute_error: 174.4010 - val_loss: 110919.7500 - val_mean_absolute_error: 201.8336\n",
      "Epoch 260/5000\n",
      "3/3 - 0s - loss: 96950.1250 - mean_absolute_error: 204.1976 - val_loss: 111052.6797 - val_mean_absolute_error: 201.9793\n",
      "Epoch 261/5000\n",
      "3/3 - 0s - loss: 81052.3203 - mean_absolute_error: 187.5572 - val_loss: 107468.3906 - val_mean_absolute_error: 200.7094\n",
      "Epoch 262/5000\n",
      "3/3 - 0s - loss: 82657.4922 - mean_absolute_error: 195.0963 - val_loss: 106139.5859 - val_mean_absolute_error: 204.2339\n",
      "Epoch 263/5000\n",
      "3/3 - 0s - loss: 77079.9453 - mean_absolute_error: 185.4928 - val_loss: 108230.2031 - val_mean_absolute_error: 199.8878\n",
      "Epoch 264/5000\n",
      "3/3 - 0s - loss: 71601.0078 - mean_absolute_error: 182.0098 - val_loss: 109580.2500 - val_mean_absolute_error: 201.7328\n",
      "Epoch 265/5000\n",
      "3/3 - 0s - loss: 98323.9062 - mean_absolute_error: 199.7390 - val_loss: 107072.5078 - val_mean_absolute_error: 202.4882\n",
      "Epoch 266/5000\n",
      "3/3 - 0s - loss: 79591.9219 - mean_absolute_error: 190.0184 - val_loss: 108442.3203 - val_mean_absolute_error: 200.4065\n",
      "Epoch 267/5000\n",
      "3/3 - 0s - loss: 73038.2734 - mean_absolute_error: 186.2286 - val_loss: 106302.4141 - val_mean_absolute_error: 203.1525\n",
      "Epoch 268/5000\n",
      "3/3 - 0s - loss: 97962.2031 - mean_absolute_error: 201.3592 - val_loss: 105640.6094 - val_mean_absolute_error: 205.4462\n",
      "Epoch 269/5000\n",
      "3/3 - 0s - loss: 81999.2109 - mean_absolute_error: 204.1351 - val_loss: 105580.7812 - val_mean_absolute_error: 202.1535\n",
      "Epoch 270/5000\n",
      "3/3 - 0s - loss: 87430.2266 - mean_absolute_error: 200.1484 - val_loss: 107630.0469 - val_mean_absolute_error: 200.3422\n",
      "Epoch 271/5000\n",
      "3/3 - 0s - loss: 100562.2500 - mean_absolute_error: 192.3963 - val_loss: 108611.3359 - val_mean_absolute_error: 201.4368\n",
      "Epoch 272/5000\n",
      "3/3 - 0s - loss: 77109.3203 - mean_absolute_error: 174.8292 - val_loss: 109519.2500 - val_mean_absolute_error: 201.7120\n",
      "Epoch 273/5000\n",
      "3/3 - 0s - loss: 104080.7109 - mean_absolute_error: 188.1323 - val_loss: 104709.3359 - val_mean_absolute_error: 202.0786\n",
      "Epoch 274/5000\n",
      "3/3 - 0s - loss: 75661.4766 - mean_absolute_error: 193.9687 - val_loss: 106394.3438 - val_mean_absolute_error: 199.5045\n",
      "Epoch 275/5000\n",
      "3/3 - 0s - loss: 93287.7188 - mean_absolute_error: 215.9192 - val_loss: 108494.2891 - val_mean_absolute_error: 200.2985\n",
      "Epoch 276/5000\n",
      "3/3 - 0s - loss: 92510.4062 - mean_absolute_error: 206.1596 - val_loss: 105873.3672 - val_mean_absolute_error: 201.7193\n",
      "Epoch 277/5000\n",
      "3/3 - 0s - loss: 81148.9531 - mean_absolute_error: 191.1199 - val_loss: 107854.7969 - val_mean_absolute_error: 200.2988\n",
      "Epoch 278/5000\n",
      "3/3 - 0s - loss: 74118.6172 - mean_absolute_error: 180.1685 - val_loss: 109821.0312 - val_mean_absolute_error: 201.0773\n",
      "Epoch 279/5000\n",
      "3/3 - 0s - loss: 98495.3984 - mean_absolute_error: 192.4953 - val_loss: 107625.8516 - val_mean_absolute_error: 199.5488\n",
      "Epoch 280/5000\n",
      "3/3 - 0s - loss: 97350.3672 - mean_absolute_error: 192.4032 - val_loss: 106527.7969 - val_mean_absolute_error: 199.8796\n",
      "Epoch 281/5000\n",
      "3/3 - 0s - loss: 79658.1016 - mean_absolute_error: 183.2123 - val_loss: 105509.0234 - val_mean_absolute_error: 200.9378\n",
      "Epoch 282/5000\n",
      "3/3 - 0s - loss: 95821.0781 - mean_absolute_error: 203.5401 - val_loss: 106618.9297 - val_mean_absolute_error: 201.2520\n",
      "Epoch 283/5000\n",
      "3/3 - 0s - loss: 100364.1016 - mean_absolute_error: 211.3523 - val_loss: 109975.0000 - val_mean_absolute_error: 203.0406\n",
      "Epoch 284/5000\n",
      "3/3 - 0s - loss: 84139.7344 - mean_absolute_error: 199.4317 - val_loss: 109943.1250 - val_mean_absolute_error: 202.4816\n",
      "Epoch 285/5000\n",
      "3/3 - 0s - loss: 96910.5312 - mean_absolute_error: 205.1045 - val_loss: 110319.7734 - val_mean_absolute_error: 202.5255\n",
      "Epoch 286/5000\n",
      "3/3 - 0s - loss: 84438.5156 - mean_absolute_error: 181.9543 - val_loss: 105244.5078 - val_mean_absolute_error: 201.2579\n",
      "Epoch 287/5000\n",
      "3/3 - 0s - loss: 74558.0547 - mean_absolute_error: 191.1457 - val_loss: 104268.2500 - val_mean_absolute_error: 202.5855\n",
      "Epoch 288/5000\n",
      "3/3 - 0s - loss: 91701.6328 - mean_absolute_error: 211.0969 - val_loss: 105007.3359 - val_mean_absolute_error: 202.3895\n",
      "Epoch 289/5000\n",
      "3/3 - 0s - loss: 64037.6445 - mean_absolute_error: 172.8281 - val_loss: 106027.0547 - val_mean_absolute_error: 200.9828\n",
      "Epoch 290/5000\n",
      "3/3 - 0s - loss: 90593.5703 - mean_absolute_error: 193.5610 - val_loss: 106995.4453 - val_mean_absolute_error: 200.6080\n",
      "Epoch 291/5000\n",
      "3/3 - 0s - loss: 62121.0391 - mean_absolute_error: 169.3870 - val_loss: 105751.6094 - val_mean_absolute_error: 200.3398\n",
      "Epoch 292/5000\n",
      "3/3 - 0s - loss: 78437.0781 - mean_absolute_error: 176.8078 - val_loss: 104595.8281 - val_mean_absolute_error: 203.6480\n",
      "Epoch 293/5000\n",
      "3/3 - 0s - loss: 97990.0547 - mean_absolute_error: 203.5178 - val_loss: 103713.3594 - val_mean_absolute_error: 202.7703\n",
      "Epoch 294/5000\n",
      "3/3 - 0s - loss: 94269.3359 - mean_absolute_error: 202.4671 - val_loss: 106362.2031 - val_mean_absolute_error: 199.6490\n",
      "Epoch 295/5000\n",
      "3/3 - 0s - loss: 86687.1016 - mean_absolute_error: 196.7582 - val_loss: 108112.2031 - val_mean_absolute_error: 200.8006\n",
      "Epoch 296/5000\n",
      "3/3 - 0s - loss: 91746.0781 - mean_absolute_error: 207.2758 - val_loss: 103731.3984 - val_mean_absolute_error: 201.3196\n",
      "Epoch 297/5000\n",
      "3/3 - 0s - loss: 86586.2266 - mean_absolute_error: 195.4813 - val_loss: 107549.2422 - val_mean_absolute_error: 199.9913\n",
      "Epoch 298/5000\n",
      "3/3 - 0s - loss: 79662.4609 - mean_absolute_error: 183.6116 - val_loss: 106017.3125 - val_mean_absolute_error: 199.0343\n",
      "Epoch 299/5000\n",
      "3/3 - 0s - loss: 84248.5078 - mean_absolute_error: 193.2158 - val_loss: 106408.2734 - val_mean_absolute_error: 198.9907\n",
      "Epoch 300/5000\n",
      "3/3 - 0s - loss: 82104.2500 - mean_absolute_error: 182.3913 - val_loss: 107778.5547 - val_mean_absolute_error: 199.2847\n",
      "Epoch 301/5000\n",
      "3/3 - 0s - loss: 80923.4609 - mean_absolute_error: 187.0162 - val_loss: 103358.6172 - val_mean_absolute_error: 203.8808\n",
      "Epoch 302/5000\n",
      "3/3 - 0s - loss: 92725.8750 - mean_absolute_error: 199.5121 - val_loss: 104270.4375 - val_mean_absolute_error: 200.0809\n",
      "Epoch 303/5000\n",
      "3/3 - 0s - loss: 85557.3906 - mean_absolute_error: 194.6703 - val_loss: 108801.8047 - val_mean_absolute_error: 202.5856\n",
      "Epoch 304/5000\n",
      "3/3 - 0s - loss: 73466.9531 - mean_absolute_error: 173.5079 - val_loss: 106498.7344 - val_mean_absolute_error: 199.6044\n",
      "Epoch 305/5000\n",
      "3/3 - 0s - loss: 91176.8438 - mean_absolute_error: 193.9905 - val_loss: 104989.7969 - val_mean_absolute_error: 200.2817\n",
      "Epoch 306/5000\n",
      "3/3 - 0s - loss: 61925.4141 - mean_absolute_error: 167.7318 - val_loss: 103602.1406 - val_mean_absolute_error: 211.7997\n",
      "Epoch 307/5000\n",
      "3/3 - 0s - loss: 77227.1172 - mean_absolute_error: 193.9109 - val_loss: 106872.4922 - val_mean_absolute_error: 200.5788\n",
      "Epoch 308/5000\n",
      "3/3 - 0s - loss: 100521.3828 - mean_absolute_error: 186.6718 - val_loss: 102723.4219 - val_mean_absolute_error: 200.9729\n",
      "Epoch 309/5000\n",
      "3/3 - 0s - loss: 96172.4922 - mean_absolute_error: 213.8836 - val_loss: 107343.6016 - val_mean_absolute_error: 200.5954\n",
      "Epoch 310/5000\n",
      "3/3 - 0s - loss: 74356.9297 - mean_absolute_error: 195.3764 - val_loss: 102464.0000 - val_mean_absolute_error: 202.3623\n",
      "Epoch 311/5000\n",
      "3/3 - 0s - loss: 93399.4688 - mean_absolute_error: 189.5378 - val_loss: 104468.1406 - val_mean_absolute_error: 198.5641\n",
      "Epoch 312/5000\n",
      "3/3 - 0s - loss: 75632.2344 - mean_absolute_error: 185.3663 - val_loss: 104949.1484 - val_mean_absolute_error: 198.7203\n",
      "Epoch 313/5000\n",
      "3/3 - 0s - loss: 64215.9062 - mean_absolute_error: 163.9999 - val_loss: 102411.8359 - val_mean_absolute_error: 200.1836\n",
      "Epoch 314/5000\n",
      "3/3 - 0s - loss: 77909.8047 - mean_absolute_error: 208.4849 - val_loss: 102433.6328 - val_mean_absolute_error: 200.2339\n",
      "Epoch 315/5000\n",
      "3/3 - 0s - loss: 63129.2891 - mean_absolute_error: 177.4082 - val_loss: 103304.2891 - val_mean_absolute_error: 197.6738\n",
      "Epoch 316/5000\n",
      "3/3 - 0s - loss: 93865.1641 - mean_absolute_error: 199.9512 - val_loss: 102062.5312 - val_mean_absolute_error: 201.4386\n",
      "Epoch 317/5000\n",
      "3/3 - 0s - loss: 87512.1641 - mean_absolute_error: 201.6008 - val_loss: 104292.5547 - val_mean_absolute_error: 198.8164\n",
      "Epoch 318/5000\n",
      "3/3 - 0s - loss: 111053.4609 - mean_absolute_error: 210.6837 - val_loss: 104931.7109 - val_mean_absolute_error: 198.6946\n",
      "Epoch 319/5000\n",
      "3/3 - 0s - loss: 64411.6992 - mean_absolute_error: 172.7687 - val_loss: 104402.2266 - val_mean_absolute_error: 198.7140\n",
      "Epoch 320/5000\n",
      "3/3 - 0s - loss: 105258.2188 - mean_absolute_error: 210.0236 - val_loss: 102508.1172 - val_mean_absolute_error: 199.9232\n",
      "Epoch 321/5000\n",
      "3/3 - 0s - loss: 79683.0469 - mean_absolute_error: 196.1001 - val_loss: 102304.4609 - val_mean_absolute_error: 200.6387\n",
      "Epoch 322/5000\n",
      "3/3 - 0s - loss: 82013.5078 - mean_absolute_error: 183.4044 - val_loss: 102326.2969 - val_mean_absolute_error: 199.4429\n",
      "Epoch 323/5000\n",
      "3/3 - 0s - loss: 74357.3984 - mean_absolute_error: 184.3547 - val_loss: 101678.7109 - val_mean_absolute_error: 200.6662\n",
      "Epoch 324/5000\n",
      "3/3 - 0s - loss: 68660.4688 - mean_absolute_error: 190.6025 - val_loss: 101774.3438 - val_mean_absolute_error: 198.3225\n",
      "Epoch 325/5000\n",
      "3/3 - 0s - loss: 82224.3828 - mean_absolute_error: 191.9181 - val_loss: 101233.0938 - val_mean_absolute_error: 197.4047\n",
      "Epoch 326/5000\n",
      "3/3 - 0s - loss: 83169.7500 - mean_absolute_error: 197.2668 - val_loss: 99377.0938 - val_mean_absolute_error: 202.5502\n",
      "Epoch 327/5000\n",
      "3/3 - 0s - loss: 82823.8594 - mean_absolute_error: 187.9280 - val_loss: 101351.6172 - val_mean_absolute_error: 196.3422\n",
      "Epoch 328/5000\n",
      "3/3 - 0s - loss: 63155.3320 - mean_absolute_error: 179.8009 - val_loss: 100913.7812 - val_mean_absolute_error: 195.7628\n",
      "Epoch 329/5000\n",
      "3/3 - 0s - loss: 62062.9297 - mean_absolute_error: 178.9227 - val_loss: 102544.3984 - val_mean_absolute_error: 195.6774\n",
      "Epoch 330/5000\n",
      "3/3 - 0s - loss: 101619.6406 - mean_absolute_error: 208.2020 - val_loss: 105876.1484 - val_mean_absolute_error: 197.8397\n",
      "Epoch 331/5000\n",
      "3/3 - 0s - loss: 91239.6094 - mean_absolute_error: 193.8715 - val_loss: 106134.1484 - val_mean_absolute_error: 199.3576\n",
      "Epoch 332/5000\n",
      "3/3 - 0s - loss: 102760.6641 - mean_absolute_error: 210.2479 - val_loss: 107944.8594 - val_mean_absolute_error: 202.1311\n",
      "Epoch 333/5000\n",
      "3/3 - 0s - loss: 91233.6641 - mean_absolute_error: 187.8314 - val_loss: 101375.9297 - val_mean_absolute_error: 199.6215\n",
      "Epoch 334/5000\n",
      "3/3 - 0s - loss: 86043.6953 - mean_absolute_error: 207.9507 - val_loss: 106817.8828 - val_mean_absolute_error: 198.7295\n",
      "Epoch 335/5000\n",
      "3/3 - 0s - loss: 85153.2188 - mean_absolute_error: 180.2992 - val_loss: 107800.2969 - val_mean_absolute_error: 202.1068\n",
      "Epoch 336/5000\n",
      "3/3 - 0s - loss: 107960.0234 - mean_absolute_error: 215.4359 - val_loss: 102972.4219 - val_mean_absolute_error: 196.1640\n",
      "Epoch 337/5000\n",
      "3/3 - 0s - loss: 75234.0000 - mean_absolute_error: 179.4016 - val_loss: 102046.1641 - val_mean_absolute_error: 197.9666\n",
      "Epoch 338/5000\n",
      "3/3 - 0s - loss: 71571.7188 - mean_absolute_error: 186.0016 - val_loss: 102130.0000 - val_mean_absolute_error: 196.3724\n",
      "Epoch 339/5000\n",
      "3/3 - 0s - loss: 93747.0469 - mean_absolute_error: 198.7003 - val_loss: 101728.5156 - val_mean_absolute_error: 195.6615\n",
      "Epoch 340/5000\n",
      "3/3 - 0s - loss: 52018.3164 - mean_absolute_error: 160.4044 - val_loss: 105723.3828 - val_mean_absolute_error: 196.9703\n",
      "Epoch 341/5000\n",
      "3/3 - 0s - loss: 73138.3203 - mean_absolute_error: 187.3772 - val_loss: 100766.5391 - val_mean_absolute_error: 197.3528\n",
      "Epoch 342/5000\n",
      "3/3 - 0s - loss: 87110.8359 - mean_absolute_error: 203.8439 - val_loss: 108186.8828 - val_mean_absolute_error: 200.2183\n",
      "Epoch 343/5000\n",
      "3/3 - 0s - loss: 74802.5781 - mean_absolute_error: 192.4047 - val_loss: 101096.5391 - val_mean_absolute_error: 195.0080\n",
      "Epoch 344/5000\n",
      "3/3 - 0s - loss: 63916.8398 - mean_absolute_error: 182.2720 - val_loss: 102147.5625 - val_mean_absolute_error: 195.2541\n",
      "Epoch 345/5000\n",
      "3/3 - 0s - loss: 64181.7227 - mean_absolute_error: 165.7507 - val_loss: 99828.7266 - val_mean_absolute_error: 195.6124\n",
      "Epoch 346/5000\n",
      "3/3 - 0s - loss: 78901.6641 - mean_absolute_error: 186.3957 - val_loss: 97898.5156 - val_mean_absolute_error: 195.6947\n",
      "Epoch 347/5000\n",
      "3/3 - 0s - loss: 79886.4375 - mean_absolute_error: 203.5877 - val_loss: 98405.7344 - val_mean_absolute_error: 194.9715\n",
      "Epoch 348/5000\n",
      "3/3 - 0s - loss: 76828.0781 - mean_absolute_error: 189.6664 - val_loss: 106827.9531 - val_mean_absolute_error: 201.3790\n",
      "Epoch 349/5000\n",
      "3/3 - 0s - loss: 77856.8359 - mean_absolute_error: 189.7159 - val_loss: 101080.1016 - val_mean_absolute_error: 194.3074\n",
      "Epoch 350/5000\n",
      "3/3 - 0s - loss: 71442.7812 - mean_absolute_error: 172.6588 - val_loss: 101036.8516 - val_mean_absolute_error: 195.6602\n",
      "Epoch 351/5000\n",
      "3/3 - 0s - loss: 80941.5078 - mean_absolute_error: 193.0049 - val_loss: 101145.0938 - val_mean_absolute_error: 196.5018\n",
      "Epoch 352/5000\n",
      "3/3 - 0s - loss: 67720.5781 - mean_absolute_error: 182.9678 - val_loss: 102516.9922 - val_mean_absolute_error: 197.0629\n",
      "Epoch 353/5000\n",
      "3/3 - 0s - loss: 89151.7031 - mean_absolute_error: 192.3039 - val_loss: 98272.0938 - val_mean_absolute_error: 200.8273\n",
      "Epoch 354/5000\n",
      "3/3 - 0s - loss: 60558.8789 - mean_absolute_error: 178.9229 - val_loss: 98876.1250 - val_mean_absolute_error: 198.3383\n",
      "Epoch 355/5000\n",
      "3/3 - 0s - loss: 61203.0508 - mean_absolute_error: 174.2267 - val_loss: 98277.3125 - val_mean_absolute_error: 199.1863\n",
      "Epoch 356/5000\n",
      "3/3 - 0s - loss: 56988.7812 - mean_absolute_error: 157.9509 - val_loss: 99527.2422 - val_mean_absolute_error: 196.2145\n",
      "Epoch 357/5000\n",
      "3/3 - 0s - loss: 59956.2812 - mean_absolute_error: 187.4559 - val_loss: 99992.3672 - val_mean_absolute_error: 197.5824\n",
      "Epoch 358/5000\n",
      "3/3 - 0s - loss: 91609.6641 - mean_absolute_error: 189.4261 - val_loss: 99097.4922 - val_mean_absolute_error: 196.3967\n",
      "Epoch 359/5000\n",
      "3/3 - 0s - loss: 69013.5781 - mean_absolute_error: 186.8596 - val_loss: 102411.3594 - val_mean_absolute_error: 196.4864\n",
      "Epoch 360/5000\n",
      "3/3 - 0s - loss: 71827.6094 - mean_absolute_error: 182.6460 - val_loss: 96964.4688 - val_mean_absolute_error: 199.7858\n",
      "Epoch 361/5000\n",
      "3/3 - 0s - loss: 84990.4219 - mean_absolute_error: 183.9014 - val_loss: 99293.8984 - val_mean_absolute_error: 195.3798\n",
      "Epoch 362/5000\n",
      "3/3 - 0s - loss: 104400.0781 - mean_absolute_error: 200.6420 - val_loss: 97281.0547 - val_mean_absolute_error: 206.8267\n",
      "Epoch 363/5000\n",
      "3/3 - 0s - loss: 77695.6172 - mean_absolute_error: 199.5492 - val_loss: 98656.6797 - val_mean_absolute_error: 196.2830\n",
      "Epoch 364/5000\n",
      "3/3 - 0s - loss: 69051.3125 - mean_absolute_error: 187.0668 - val_loss: 98608.3906 - val_mean_absolute_error: 196.0526\n",
      "Epoch 365/5000\n",
      "3/3 - 0s - loss: 66941.1953 - mean_absolute_error: 178.9386 - val_loss: 97202.6328 - val_mean_absolute_error: 198.1532\n",
      "Epoch 366/5000\n",
      "3/3 - 0s - loss: 78668.1875 - mean_absolute_error: 181.4842 - val_loss: 98936.2656 - val_mean_absolute_error: 196.0394\n",
      "Epoch 367/5000\n",
      "3/3 - 0s - loss: 78819.5547 - mean_absolute_error: 166.7113 - val_loss: 98336.3359 - val_mean_absolute_error: 196.2826\n",
      "Epoch 368/5000\n",
      "3/3 - 0s - loss: 71401.7969 - mean_absolute_error: 186.5074 - val_loss: 104367.1719 - val_mean_absolute_error: 199.5989\n",
      "Epoch 369/5000\n",
      "3/3 - 0s - loss: 78491.9375 - mean_absolute_error: 188.1024 - val_loss: 100745.3984 - val_mean_absolute_error: 197.7242\n",
      "Epoch 370/5000\n",
      "3/3 - 0s - loss: 93952.5391 - mean_absolute_error: 199.3134 - val_loss: 107926.2734 - val_mean_absolute_error: 203.9593\n",
      "Epoch 371/5000\n",
      "3/3 - 0s - loss: 107559.0078 - mean_absolute_error: 198.3836 - val_loss: 100702.5547 - val_mean_absolute_error: 197.1578\n",
      "Epoch 372/5000\n",
      "3/3 - 0s - loss: 79901.1875 - mean_absolute_error: 193.6429 - val_loss: 99395.5625 - val_mean_absolute_error: 195.9860\n",
      "Epoch 373/5000\n",
      "3/3 - 0s - loss: 69953.7500 - mean_absolute_error: 185.4531 - val_loss: 98760.7266 - val_mean_absolute_error: 196.8678\n",
      "Epoch 374/5000\n",
      "3/3 - 0s - loss: 65583.3281 - mean_absolute_error: 183.2753 - val_loss: 98381.1875 - val_mean_absolute_error: 198.0840\n",
      "Epoch 375/5000\n",
      "3/3 - 0s - loss: 65031.5859 - mean_absolute_error: 180.8068 - val_loss: 99900.6641 - val_mean_absolute_error: 197.8501\n",
      "Epoch 376/5000\n",
      "3/3 - 0s - loss: 61571.5586 - mean_absolute_error: 180.2806 - val_loss: 102919.1641 - val_mean_absolute_error: 198.8353\n",
      "Epoch 377/5000\n",
      "3/3 - 0s - loss: 74467.1953 - mean_absolute_error: 185.9924 - val_loss: 104228.2500 - val_mean_absolute_error: 200.0315\n",
      "Epoch 378/5000\n",
      "3/3 - 0s - loss: 78951.3672 - mean_absolute_error: 200.0083 - val_loss: 102397.0312 - val_mean_absolute_error: 196.7492\n",
      "Epoch 379/5000\n",
      "3/3 - 0s - loss: 74706.9844 - mean_absolute_error: 178.0045 - val_loss: 98050.5156 - val_mean_absolute_error: 196.7933\n",
      "Epoch 380/5000\n",
      "3/3 - 0s - loss: 97922.6641 - mean_absolute_error: 197.3716 - val_loss: 97369.8984 - val_mean_absolute_error: 194.3835\n",
      "Epoch 381/5000\n",
      "3/3 - 0s - loss: 59087.4023 - mean_absolute_error: 176.8592 - val_loss: 98128.6016 - val_mean_absolute_error: 192.7764\n",
      "Epoch 382/5000\n",
      "3/3 - 0s - loss: 58278.2305 - mean_absolute_error: 174.7184 - val_loss: 98628.6172 - val_mean_absolute_error: 193.0759\n",
      "Epoch 383/5000\n",
      "3/3 - 0s - loss: 75505.2891 - mean_absolute_error: 181.4788 - val_loss: 97587.3359 - val_mean_absolute_error: 193.4838\n",
      "Epoch 384/5000\n",
      "3/3 - 0s - loss: 98878.6875 - mean_absolute_error: 205.7735 - val_loss: 97115.8125 - val_mean_absolute_error: 194.4273\n",
      "Epoch 385/5000\n",
      "3/3 - 0s - loss: 66252.7812 - mean_absolute_error: 186.9354 - val_loss: 96529.1719 - val_mean_absolute_error: 199.5289\n",
      "Epoch 386/5000\n",
      "3/3 - 0s - loss: 85297.2031 - mean_absolute_error: 191.9388 - val_loss: 98493.1250 - val_mean_absolute_error: 193.4526\n",
      "Epoch 387/5000\n",
      "3/3 - 0s - loss: 86880.0547 - mean_absolute_error: 184.7034 - val_loss: 95886.9297 - val_mean_absolute_error: 194.9886\n",
      "Epoch 388/5000\n",
      "3/3 - 0s - loss: 82025.0547 - mean_absolute_error: 196.6165 - val_loss: 94478.7266 - val_mean_absolute_error: 193.3235\n",
      "Epoch 389/5000\n",
      "3/3 - 0s - loss: 63188.8164 - mean_absolute_error: 172.5434 - val_loss: 103727.1250 - val_mean_absolute_error: 201.1618\n",
      "Epoch 390/5000\n",
      "3/3 - 0s - loss: 76759.3438 - mean_absolute_error: 185.2695 - val_loss: 100778.3672 - val_mean_absolute_error: 194.2588\n",
      "Epoch 391/5000\n",
      "3/3 - 0s - loss: 83404.1016 - mean_absolute_error: 182.1946 - val_loss: 98293.5312 - val_mean_absolute_error: 193.3616\n",
      "Epoch 392/5000\n",
      "3/3 - 0s - loss: 75804.6641 - mean_absolute_error: 192.7099 - val_loss: 97108.6094 - val_mean_absolute_error: 193.1703\n",
      "Epoch 393/5000\n",
      "3/3 - 0s - loss: 77406.9297 - mean_absolute_error: 175.7583 - val_loss: 96602.9062 - val_mean_absolute_error: 198.7359\n",
      "Epoch 394/5000\n",
      "3/3 - 0s - loss: 60970.4141 - mean_absolute_error: 174.1502 - val_loss: 96079.3828 - val_mean_absolute_error: 194.8679\n",
      "Epoch 395/5000\n",
      "3/3 - 0s - loss: 96836.0781 - mean_absolute_error: 194.2385 - val_loss: 101505.1953 - val_mean_absolute_error: 196.4234\n",
      "Epoch 396/5000\n",
      "3/3 - 0s - loss: 83938.0703 - mean_absolute_error: 189.8955 - val_loss: 98484.0703 - val_mean_absolute_error: 194.2874\n",
      "Epoch 397/5000\n",
      "3/3 - 0s - loss: 67131.6094 - mean_absolute_error: 183.1639 - val_loss: 96765.3828 - val_mean_absolute_error: 194.3713\n",
      "Epoch 398/5000\n",
      "3/3 - 0s - loss: 79384.2891 - mean_absolute_error: 186.7703 - val_loss: 95340.8594 - val_mean_absolute_error: 197.4584\n",
      "Epoch 399/5000\n",
      "3/3 - 0s - loss: 70327.5547 - mean_absolute_error: 187.2501 - val_loss: 94636.8047 - val_mean_absolute_error: 196.3440\n",
      "Epoch 400/5000\n",
      "3/3 - 0s - loss: 81138.9375 - mean_absolute_error: 207.0940 - val_loss: 95678.7031 - val_mean_absolute_error: 193.9148\n",
      "Epoch 401/5000\n",
      "3/3 - 0s - loss: 83799.6484 - mean_absolute_error: 203.7366 - val_loss: 104174.0703 - val_mean_absolute_error: 202.7217\n",
      "Epoch 402/5000\n",
      "3/3 - 0s - loss: 44401.1914 - mean_absolute_error: 155.1655 - val_loss: 98914.1641 - val_mean_absolute_error: 196.2742\n",
      "Epoch 403/5000\n",
      "3/3 - 0s - loss: 68340.4766 - mean_absolute_error: 184.7942 - val_loss: 94549.1094 - val_mean_absolute_error: 194.9639\n",
      "Epoch 404/5000\n",
      "3/3 - 0s - loss: 68663.1562 - mean_absolute_error: 188.1385 - val_loss: 95937.6328 - val_mean_absolute_error: 191.9322\n",
      "Epoch 405/5000\n",
      "3/3 - 0s - loss: 73395.9141 - mean_absolute_error: 196.3583 - val_loss: 97650.7344 - val_mean_absolute_error: 193.9170\n",
      "Epoch 406/5000\n",
      "3/3 - 0s - loss: 82209.1719 - mean_absolute_error: 185.1792 - val_loss: 97407.7734 - val_mean_absolute_error: 193.5130\n",
      "Epoch 407/5000\n",
      "3/3 - 0s - loss: 90016.3594 - mean_absolute_error: 193.1775 - val_loss: 94894.8047 - val_mean_absolute_error: 195.0171\n",
      "Epoch 408/5000\n",
      "3/3 - 0s - loss: 89215.0547 - mean_absolute_error: 201.5659 - val_loss: 98037.2266 - val_mean_absolute_error: 194.0933\n",
      "Epoch 409/5000\n",
      "3/3 - 0s - loss: 93449.0000 - mean_absolute_error: 190.5162 - val_loss: 94550.7969 - val_mean_absolute_error: 196.0317\n",
      "Epoch 410/5000\n",
      "3/3 - 0s - loss: 57791.6328 - mean_absolute_error: 170.7422 - val_loss: 94797.6875 - val_mean_absolute_error: 193.8609\n",
      "Epoch 411/5000\n",
      "3/3 - 0s - loss: 79897.4219 - mean_absolute_error: 190.4179 - val_loss: 94090.0156 - val_mean_absolute_error: 195.6116\n",
      "Epoch 412/5000\n",
      "3/3 - 0s - loss: 97595.1484 - mean_absolute_error: 207.7594 - val_loss: 96712.3203 - val_mean_absolute_error: 192.4424\n",
      "Epoch 413/5000\n",
      "3/3 - 0s - loss: 57517.9180 - mean_absolute_error: 175.1640 - val_loss: 94138.4375 - val_mean_absolute_error: 192.9571\n",
      "Epoch 414/5000\n",
      "3/3 - 0s - loss: 83542.7969 - mean_absolute_error: 199.1609 - val_loss: 94143.2500 - val_mean_absolute_error: 191.8648\n",
      "Epoch 415/5000\n",
      "3/3 - 0s - loss: 55672.6484 - mean_absolute_error: 175.0270 - val_loss: 98813.9453 - val_mean_absolute_error: 193.7943\n",
      "Epoch 416/5000\n",
      "3/3 - 0s - loss: 104268.7266 - mean_absolute_error: 193.6818 - val_loss: 95185.8281 - val_mean_absolute_error: 196.5640\n",
      "Epoch 417/5000\n",
      "3/3 - 0s - loss: 61700.6133 - mean_absolute_error: 185.8249 - val_loss: 97023.1406 - val_mean_absolute_error: 193.7670\n",
      "Epoch 418/5000\n",
      "3/3 - 0s - loss: 109991.4141 - mean_absolute_error: 218.8482 - val_loss: 94717.9453 - val_mean_absolute_error: 195.1023\n",
      "Epoch 419/5000\n",
      "3/3 - 0s - loss: 68117.0547 - mean_absolute_error: 188.6218 - val_loss: 95659.6172 - val_mean_absolute_error: 195.1151\n",
      "Epoch 420/5000\n",
      "3/3 - 0s - loss: 72284.0859 - mean_absolute_error: 169.0172 - val_loss: 98389.4688 - val_mean_absolute_error: 195.9043\n",
      "Epoch 421/5000\n",
      "3/3 - 0s - loss: 68550.8984 - mean_absolute_error: 175.7755 - val_loss: 95624.0078 - val_mean_absolute_error: 194.2296\n",
      "Epoch 422/5000\n",
      "3/3 - 0s - loss: 74997.1484 - mean_absolute_error: 188.2115 - val_loss: 95055.7812 - val_mean_absolute_error: 194.4431\n",
      "Epoch 423/5000\n",
      "3/3 - 0s - loss: 71589.0859 - mean_absolute_error: 168.9250 - val_loss: 95904.6484 - val_mean_absolute_error: 194.5165\n",
      "Epoch 424/5000\n",
      "3/3 - 0s - loss: 79488.0547 - mean_absolute_error: 207.0200 - val_loss: 99385.8984 - val_mean_absolute_error: 193.6977\n",
      "Epoch 425/5000\n",
      "3/3 - 0s - loss: 71738.7969 - mean_absolute_error: 187.1665 - val_loss: 95498.5781 - val_mean_absolute_error: 193.9712\n",
      "Epoch 426/5000\n",
      "3/3 - 0s - loss: 68280.2422 - mean_absolute_error: 190.7877 - val_loss: 94517.9609 - val_mean_absolute_error: 194.1803\n",
      "Epoch 427/5000\n",
      "3/3 - 0s - loss: 68372.0859 - mean_absolute_error: 178.0156 - val_loss: 96305.2031 - val_mean_absolute_error: 193.7802\n",
      "Epoch 428/5000\n",
      "3/3 - 0s - loss: 69365.1875 - mean_absolute_error: 182.1817 - val_loss: 96089.0469 - val_mean_absolute_error: 191.5317\n",
      "Epoch 429/5000\n",
      "3/3 - 0s - loss: 59200.1602 - mean_absolute_error: 171.6988 - val_loss: 96306.3984 - val_mean_absolute_error: 192.7166\n",
      "Epoch 430/5000\n",
      "3/3 - 0s - loss: 75332.7812 - mean_absolute_error: 177.5072 - val_loss: 95185.2812 - val_mean_absolute_error: 192.3317\n",
      "Epoch 431/5000\n",
      "3/3 - 0s - loss: 75767.2031 - mean_absolute_error: 186.6599 - val_loss: 93062.2812 - val_mean_absolute_error: 192.6567\n",
      "Epoch 432/5000\n",
      "3/3 - 0s - loss: 78726.5312 - mean_absolute_error: 188.2141 - val_loss: 95782.8984 - val_mean_absolute_error: 193.5756\n",
      "Epoch 433/5000\n",
      "3/3 - 0s - loss: 53208.8555 - mean_absolute_error: 178.6664 - val_loss: 91857.7500 - val_mean_absolute_error: 192.4135\n",
      "Epoch 434/5000\n",
      "3/3 - 0s - loss: 90050.5547 - mean_absolute_error: 181.8995 - val_loss: 91548.7812 - val_mean_absolute_error: 191.3615\n",
      "Epoch 435/5000\n",
      "3/3 - 0s - loss: 102800.5859 - mean_absolute_error: 214.5626 - val_loss: 91002.8359 - val_mean_absolute_error: 191.3213\n",
      "Epoch 436/5000\n",
      "3/3 - 0s - loss: 93117.8594 - mean_absolute_error: 190.4308 - val_loss: 95428.4922 - val_mean_absolute_error: 191.8324\n",
      "Epoch 437/5000\n",
      "3/3 - 0s - loss: 75943.7031 - mean_absolute_error: 191.3503 - val_loss: 92190.7422 - val_mean_absolute_error: 192.0430\n",
      "Epoch 438/5000\n",
      "3/3 - 0s - loss: 80674.6875 - mean_absolute_error: 185.5792 - val_loss: 92271.9453 - val_mean_absolute_error: 191.3333\n",
      "Epoch 439/5000\n",
      "3/3 - 0s - loss: 93188.2969 - mean_absolute_error: 179.1069 - val_loss: 91879.3281 - val_mean_absolute_error: 191.4413\n",
      "Epoch 440/5000\n",
      "3/3 - 0s - loss: 71949.9219 - mean_absolute_error: 179.7780 - val_loss: 93066.4219 - val_mean_absolute_error: 191.1910\n",
      "Epoch 441/5000\n",
      "3/3 - 0s - loss: 76362.0938 - mean_absolute_error: 189.1167 - val_loss: 90827.9766 - val_mean_absolute_error: 192.0986\n",
      "Epoch 442/5000\n",
      "3/3 - 0s - loss: 73928.0469 - mean_absolute_error: 182.2265 - val_loss: 91125.8828 - val_mean_absolute_error: 192.8719\n",
      "Epoch 443/5000\n",
      "3/3 - 0s - loss: 82821.3672 - mean_absolute_error: 187.5295 - val_loss: 95422.4688 - val_mean_absolute_error: 192.0103\n",
      "Epoch 444/5000\n",
      "3/3 - 0s - loss: 54037.7188 - mean_absolute_error: 166.8857 - val_loss: 94598.3203 - val_mean_absolute_error: 192.0026\n",
      "Epoch 445/5000\n",
      "3/3 - 0s - loss: 88620.0000 - mean_absolute_error: 172.1345 - val_loss: 95695.5781 - val_mean_absolute_error: 193.1478\n",
      "Epoch 446/5000\n",
      "3/3 - 0s - loss: 73437.1016 - mean_absolute_error: 195.3410 - val_loss: 99854.6328 - val_mean_absolute_error: 197.0669\n",
      "Epoch 447/5000\n",
      "3/3 - 0s - loss: 59853.2695 - mean_absolute_error: 173.0128 - val_loss: 96047.5078 - val_mean_absolute_error: 193.6283\n",
      "Epoch 448/5000\n",
      "3/3 - 0s - loss: 95854.8125 - mean_absolute_error: 203.3386 - val_loss: 93567.3672 - val_mean_absolute_error: 192.4280\n",
      "Epoch 449/5000\n",
      "3/3 - 0s - loss: 70741.5547 - mean_absolute_error: 176.8531 - val_loss: 91776.9297 - val_mean_absolute_error: 194.8548\n",
      "Epoch 450/5000\n",
      "3/3 - 0s - loss: 79262.1406 - mean_absolute_error: 177.9753 - val_loss: 95287.7734 - val_mean_absolute_error: 192.0924\n",
      "Epoch 451/5000\n",
      "3/3 - 0s - loss: 59653.3867 - mean_absolute_error: 176.9399 - val_loss: 93274.5703 - val_mean_absolute_error: 192.9457\n",
      "Epoch 452/5000\n",
      "3/3 - 0s - loss: 62649.6133 - mean_absolute_error: 180.7189 - val_loss: 93439.0781 - val_mean_absolute_error: 193.6588\n",
      "Epoch 453/5000\n",
      "3/3 - 0s - loss: 60321.9375 - mean_absolute_error: 187.5371 - val_loss: 92425.0859 - val_mean_absolute_error: 193.8766\n",
      "Epoch 454/5000\n",
      "3/3 - 0s - loss: 55126.8906 - mean_absolute_error: 175.7096 - val_loss: 91633.5547 - val_mean_absolute_error: 193.8813\n",
      "Epoch 455/5000\n",
      "3/3 - 0s - loss: 70116.8516 - mean_absolute_error: 183.8411 - val_loss: 102338.3828 - val_mean_absolute_error: 203.6944\n",
      "Epoch 456/5000\n",
      "3/3 - 0s - loss: 85415.6875 - mean_absolute_error: 198.6311 - val_loss: 91211.7422 - val_mean_absolute_error: 192.3513\n",
      "Epoch 457/5000\n",
      "3/3 - 0s - loss: 74311.1641 - mean_absolute_error: 182.8335 - val_loss: 95394.9922 - val_mean_absolute_error: 192.9019\n",
      "Epoch 458/5000\n",
      "3/3 - 0s - loss: 80218.0078 - mean_absolute_error: 189.7824 - val_loss: 93864.9844 - val_mean_absolute_error: 190.9615\n",
      "Epoch 459/5000\n",
      "3/3 - 0s - loss: 90507.2109 - mean_absolute_error: 212.1759 - val_loss: 93731.4688 - val_mean_absolute_error: 192.7919\n",
      "Epoch 460/5000\n",
      "3/3 - 0s - loss: 53586.1250 - mean_absolute_error: 161.0209 - val_loss: 94132.1562 - val_mean_absolute_error: 193.7253\n",
      "Epoch 461/5000\n",
      "3/3 - 0s - loss: 72040.9219 - mean_absolute_error: 177.4655 - val_loss: 104513.2656 - val_mean_absolute_error: 207.3176\n",
      "Epoch 462/5000\n",
      "3/3 - 0s - loss: 67586.6172 - mean_absolute_error: 185.9767 - val_loss: 102310.8828 - val_mean_absolute_error: 203.4169\n",
      "Epoch 463/5000\n",
      "3/3 - 0s - loss: 70529.8359 - mean_absolute_error: 193.0849 - val_loss: 94564.6875 - val_mean_absolute_error: 193.7628\n",
      "Epoch 464/5000\n",
      "3/3 - 0s - loss: 66290.4141 - mean_absolute_error: 182.1448 - val_loss: 95969.9688 - val_mean_absolute_error: 195.4331\n",
      "Epoch 465/5000\n",
      "3/3 - 0s - loss: 92941.2734 - mean_absolute_error: 191.2825 - val_loss: 90054.6172 - val_mean_absolute_error: 189.3044\n",
      "Epoch 466/5000\n",
      "3/3 - 0s - loss: 69127.3125 - mean_absolute_error: 191.3469 - val_loss: 91189.1406 - val_mean_absolute_error: 189.5873\n",
      "Epoch 467/5000\n",
      "3/3 - 0s - loss: 72506.8828 - mean_absolute_error: 202.6945 - val_loss: 93818.0156 - val_mean_absolute_error: 189.8020\n",
      "Epoch 468/5000\n",
      "3/3 - 0s - loss: 105414.6016 - mean_absolute_error: 198.2097 - val_loss: 91480.6328 - val_mean_absolute_error: 191.2305\n",
      "Epoch 469/5000\n",
      "3/3 - 0s - loss: 77230.8359 - mean_absolute_error: 196.6534 - val_loss: 92938.9219 - val_mean_absolute_error: 190.6845\n",
      "Epoch 470/5000\n",
      "3/3 - 0s - loss: 68489.8672 - mean_absolute_error: 184.1577 - val_loss: 89759.2969 - val_mean_absolute_error: 188.9741\n",
      "Epoch 471/5000\n",
      "3/3 - 0s - loss: 75500.2031 - mean_absolute_error: 175.8389 - val_loss: 90128.7109 - val_mean_absolute_error: 188.8308\n",
      "Epoch 472/5000\n",
      "3/3 - 0s - loss: 71773.9375 - mean_absolute_error: 187.7850 - val_loss: 92680.5938 - val_mean_absolute_error: 190.3350\n",
      "Epoch 473/5000\n",
      "3/3 - 0s - loss: 82782.6484 - mean_absolute_error: 199.0773 - val_loss: 88677.4922 - val_mean_absolute_error: 191.7982\n",
      "Epoch 474/5000\n",
      "3/3 - 0s - loss: 69681.5469 - mean_absolute_error: 194.6290 - val_loss: 90748.5312 - val_mean_absolute_error: 190.4223\n",
      "Epoch 475/5000\n",
      "3/3 - 0s - loss: 83488.4141 - mean_absolute_error: 184.5891 - val_loss: 90786.3906 - val_mean_absolute_error: 189.2686\n",
      "Epoch 476/5000\n",
      "3/3 - 0s - loss: 74309.4922 - mean_absolute_error: 194.3462 - val_loss: 89954.9297 - val_mean_absolute_error: 190.6649\n",
      "Epoch 477/5000\n",
      "3/3 - 0s - loss: 79290.9219 - mean_absolute_error: 196.6351 - val_loss: 88615.1016 - val_mean_absolute_error: 189.8090\n",
      "Epoch 478/5000\n",
      "3/3 - 0s - loss: 78860.4844 - mean_absolute_error: 188.9491 - val_loss: 89245.7031 - val_mean_absolute_error: 188.5507\n",
      "Epoch 479/5000\n",
      "3/3 - 0s - loss: 52526.2891 - mean_absolute_error: 169.4521 - val_loss: 99259.7734 - val_mean_absolute_error: 197.8835\n",
      "Epoch 480/5000\n",
      "3/3 - 0s - loss: 80512.2812 - mean_absolute_error: 185.4010 - val_loss: 91685.8594 - val_mean_absolute_error: 190.6575\n",
      "Epoch 481/5000\n",
      "3/3 - 0s - loss: 59649.1719 - mean_absolute_error: 170.4667 - val_loss: 88578.9688 - val_mean_absolute_error: 190.2670\n",
      "Epoch 482/5000\n",
      "3/3 - 0s - loss: 63027.9883 - mean_absolute_error: 179.7696 - val_loss: 90980.0312 - val_mean_absolute_error: 188.6164\n",
      "Epoch 483/5000\n",
      "3/3 - 0s - loss: 82184.3125 - mean_absolute_error: 202.2989 - val_loss: 89243.9766 - val_mean_absolute_error: 189.0961\n",
      "Epoch 484/5000\n",
      "3/3 - 0s - loss: 96937.8750 - mean_absolute_error: 216.9265 - val_loss: 93411.2500 - val_mean_absolute_error: 189.0700\n",
      "Epoch 485/5000\n",
      "3/3 - 0s - loss: 67062.1484 - mean_absolute_error: 169.7668 - val_loss: 90694.4219 - val_mean_absolute_error: 189.6865\n",
      "Epoch 486/5000\n",
      "3/3 - 0s - loss: 53507.6680 - mean_absolute_error: 166.5318 - val_loss: 91978.6172 - val_mean_absolute_error: 187.7036\n",
      "Epoch 487/5000\n",
      "3/3 - 0s - loss: 104457.4219 - mean_absolute_error: 197.9503 - val_loss: 92370.9766 - val_mean_absolute_error: 188.5513\n",
      "Epoch 488/5000\n",
      "3/3 - 0s - loss: 71342.7188 - mean_absolute_error: 192.3018 - val_loss: 91465.1406 - val_mean_absolute_error: 189.8433\n",
      "Epoch 489/5000\n",
      "3/3 - 0s - loss: 69771.0547 - mean_absolute_error: 192.6634 - val_loss: 90745.8828 - val_mean_absolute_error: 190.3819\n",
      "Epoch 490/5000\n",
      "3/3 - 0s - loss: 72035.3984 - mean_absolute_error: 191.6754 - val_loss: 89257.1953 - val_mean_absolute_error: 191.6077\n",
      "Epoch 491/5000\n",
      "3/3 - 0s - loss: 67738.6719 - mean_absolute_error: 173.3938 - val_loss: 93583.1875 - val_mean_absolute_error: 191.5040\n",
      "Epoch 492/5000\n",
      "3/3 - 0s - loss: 66160.6328 - mean_absolute_error: 185.2320 - val_loss: 93600.9375 - val_mean_absolute_error: 192.1794\n",
      "Epoch 493/5000\n",
      "3/3 - 0s - loss: 70390.0625 - mean_absolute_error: 182.8961 - val_loss: 89861.3906 - val_mean_absolute_error: 190.3892\n",
      "Epoch 494/5000\n",
      "3/3 - 0s - loss: 64256.6680 - mean_absolute_error: 178.9851 - val_loss: 92954.8672 - val_mean_absolute_error: 190.7765\n",
      "Epoch 495/5000\n",
      "3/3 - 0s - loss: 63337.5156 - mean_absolute_error: 173.4766 - val_loss: 91578.3828 - val_mean_absolute_error: 190.2093\n",
      "Epoch 496/5000\n",
      "3/3 - 0s - loss: 49141.6250 - mean_absolute_error: 164.1169 - val_loss: 94992.8594 - val_mean_absolute_error: 193.3211\n",
      "Epoch 497/5000\n",
      "3/3 - 0s - loss: 66834.4531 - mean_absolute_error: 174.8776 - val_loss: 89215.9922 - val_mean_absolute_error: 188.6237\n",
      "Epoch 498/5000\n",
      "3/3 - 0s - loss: 70728.3203 - mean_absolute_error: 178.0332 - val_loss: 89138.6250 - val_mean_absolute_error: 188.6273\n",
      "Epoch 499/5000\n",
      "3/3 - 0s - loss: 70406.9688 - mean_absolute_error: 193.6519 - val_loss: 88742.0156 - val_mean_absolute_error: 189.1819\n",
      "Epoch 500/5000\n",
      "3/3 - 0s - loss: 85531.6875 - mean_absolute_error: 185.5473 - val_loss: 91935.1719 - val_mean_absolute_error: 190.1828\n",
      "Epoch 501/5000\n",
      "3/3 - 0s - loss: 67863.8359 - mean_absolute_error: 180.4168 - val_loss: 88523.8750 - val_mean_absolute_error: 189.6469\n",
      "Epoch 502/5000\n",
      "3/3 - 0s - loss: 73330.9453 - mean_absolute_error: 188.9066 - val_loss: 87810.7031 - val_mean_absolute_error: 190.3605\n",
      "Epoch 503/5000\n",
      "3/3 - 0s - loss: 98762.8750 - mean_absolute_error: 207.1849 - val_loss: 88630.5156 - val_mean_absolute_error: 188.8322\n",
      "Epoch 504/5000\n",
      "3/3 - 0s - loss: 69136.9453 - mean_absolute_error: 187.7479 - val_loss: 88630.7734 - val_mean_absolute_error: 189.5126\n",
      "Epoch 505/5000\n",
      "3/3 - 0s - loss: 47064.3984 - mean_absolute_error: 165.9643 - val_loss: 88255.8750 - val_mean_absolute_error: 189.9090\n",
      "Epoch 506/5000\n",
      "3/3 - 0s - loss: 56420.4062 - mean_absolute_error: 155.9770 - val_loss: 91515.8594 - val_mean_absolute_error: 189.9036\n",
      "Epoch 507/5000\n",
      "3/3 - 0s - loss: 55276.4492 - mean_absolute_error: 160.1600 - val_loss: 88625.8281 - val_mean_absolute_error: 188.5648\n",
      "Epoch 508/5000\n",
      "3/3 - 0s - loss: 75207.5703 - mean_absolute_error: 210.6900 - val_loss: 90752.5391 - val_mean_absolute_error: 189.0268\n",
      "Epoch 509/5000\n",
      "3/3 - 0s - loss: 76174.9297 - mean_absolute_error: 198.6032 - val_loss: 90281.0781 - val_mean_absolute_error: 189.3263\n",
      "Epoch 510/5000\n",
      "3/3 - 0s - loss: 80092.5234 - mean_absolute_error: 168.8355 - val_loss: 92518.7188 - val_mean_absolute_error: 189.5678\n",
      "Epoch 511/5000\n",
      "3/3 - 0s - loss: 86200.8750 - mean_absolute_error: 208.2492 - val_loss: 91315.7422 - val_mean_absolute_error: 188.9228\n",
      "Epoch 512/5000\n",
      "3/3 - 0s - loss: 67300.8516 - mean_absolute_error: 181.4745 - val_loss: 88579.5078 - val_mean_absolute_error: 188.8516\n",
      "Epoch 513/5000\n",
      "3/3 - 0s - loss: 58822.6680 - mean_absolute_error: 190.6774 - val_loss: 89851.8750 - val_mean_absolute_error: 188.6895\n",
      "Epoch 514/5000\n",
      "3/3 - 0s - loss: 48370.3789 - mean_absolute_error: 160.7247 - val_loss: 90320.6250 - val_mean_absolute_error: 191.6816\n",
      "Epoch 515/5000\n",
      "3/3 - 0s - loss: 69044.5625 - mean_absolute_error: 194.7738 - val_loss: 88568.5703 - val_mean_absolute_error: 188.7471\n",
      "Epoch 516/5000\n",
      "3/3 - 0s - loss: 98593.1953 - mean_absolute_error: 188.7014 - val_loss: 87867.4844 - val_mean_absolute_error: 187.4615\n",
      "Epoch 517/5000\n",
      "3/3 - 0s - loss: 107591.5859 - mean_absolute_error: 195.2662 - val_loss: 88168.2031 - val_mean_absolute_error: 187.9348\n",
      "Epoch 518/5000\n",
      "3/3 - 0s - loss: 58659.5391 - mean_absolute_error: 180.3217 - val_loss: 89881.4922 - val_mean_absolute_error: 188.2425\n",
      "Epoch 519/5000\n",
      "3/3 - 0s - loss: 65499.2539 - mean_absolute_error: 165.1300 - val_loss: 89534.1172 - val_mean_absolute_error: 189.3041\n",
      "Epoch 520/5000\n",
      "3/3 - 0s - loss: 70354.4219 - mean_absolute_error: 180.5481 - val_loss: 87936.9531 - val_mean_absolute_error: 188.6810\n",
      "Epoch 521/5000\n",
      "3/3 - 0s - loss: 93349.5625 - mean_absolute_error: 220.4234 - val_loss: 87156.7188 - val_mean_absolute_error: 188.6572\n",
      "Epoch 522/5000\n",
      "3/3 - 0s - loss: 59038.4766 - mean_absolute_error: 172.1291 - val_loss: 90437.2266 - val_mean_absolute_error: 188.4926\n",
      "Epoch 523/5000\n",
      "3/3 - 0s - loss: 44296.3438 - mean_absolute_error: 167.2579 - val_loss: 93631.4297 - val_mean_absolute_error: 191.4930\n",
      "Epoch 524/5000\n",
      "3/3 - 0s - loss: 68443.7188 - mean_absolute_error: 196.7093 - val_loss: 95607.7109 - val_mean_absolute_error: 194.0392\n",
      "Epoch 525/5000\n",
      "3/3 - 0s - loss: 62645.0391 - mean_absolute_error: 182.0089 - val_loss: 93434.3594 - val_mean_absolute_error: 191.5839\n",
      "Epoch 526/5000\n",
      "3/3 - 0s - loss: 65764.1797 - mean_absolute_error: 179.2691 - val_loss: 87540.6797 - val_mean_absolute_error: 188.5532\n",
      "Epoch 527/5000\n",
      "3/3 - 0s - loss: 49287.6094 - mean_absolute_error: 171.2163 - val_loss: 86755.7266 - val_mean_absolute_error: 190.1768\n",
      "Epoch 528/5000\n",
      "3/3 - 0s - loss: 48485.6562 - mean_absolute_error: 169.6186 - val_loss: 87547.0000 - val_mean_absolute_error: 187.2979\n",
      "Epoch 529/5000\n",
      "3/3 - 0s - loss: 97096.4141 - mean_absolute_error: 195.5963 - val_loss: 88067.6016 - val_mean_absolute_error: 187.3620\n",
      "Epoch 530/5000\n",
      "3/3 - 0s - loss: 55598.0273 - mean_absolute_error: 176.4451 - val_loss: 86769.0469 - val_mean_absolute_error: 187.7313\n",
      "Epoch 531/5000\n",
      "3/3 - 0s - loss: 68576.5078 - mean_absolute_error: 182.9071 - val_loss: 94591.7266 - val_mean_absolute_error: 191.8436\n",
      "Epoch 532/5000\n",
      "3/3 - 0s - loss: 70092.8594 - mean_absolute_error: 178.6568 - val_loss: 92961.5547 - val_mean_absolute_error: 191.3432\n",
      "Epoch 533/5000\n",
      "3/3 - 0s - loss: 75880.5391 - mean_absolute_error: 195.4623 - val_loss: 93761.1172 - val_mean_absolute_error: 192.9870\n",
      "Epoch 534/5000\n",
      "3/3 - 0s - loss: 52121.3789 - mean_absolute_error: 175.0177 - val_loss: 88894.6641 - val_mean_absolute_error: 187.5314\n",
      "Epoch 535/5000\n",
      "3/3 - 0s - loss: 54731.1836 - mean_absolute_error: 173.4459 - val_loss: 88277.5859 - val_mean_absolute_error: 188.1893\n",
      "Epoch 536/5000\n",
      "3/3 - 0s - loss: 76504.1016 - mean_absolute_error: 195.4538 - val_loss: 92093.0703 - val_mean_absolute_error: 189.6077\n",
      "Epoch 537/5000\n",
      "3/3 - 0s - loss: 69354.7734 - mean_absolute_error: 175.9216 - val_loss: 94096.1016 - val_mean_absolute_error: 191.8392\n",
      "Epoch 538/5000\n",
      "3/3 - 0s - loss: 62457.7109 - mean_absolute_error: 158.4425 - val_loss: 88479.9297 - val_mean_absolute_error: 188.7275\n",
      "Epoch 539/5000\n",
      "3/3 - 0s - loss: 88542.7969 - mean_absolute_error: 194.3692 - val_loss: 92288.7344 - val_mean_absolute_error: 189.7052\n",
      "Epoch 540/5000\n",
      "3/3 - 0s - loss: 82115.3047 - mean_absolute_error: 177.6984 - val_loss: 87958.9297 - val_mean_absolute_error: 190.9153\n",
      "Epoch 541/5000\n",
      "3/3 - 0s - loss: 65149.9961 - mean_absolute_error: 184.3337 - val_loss: 88994.6562 - val_mean_absolute_error: 190.0880\n",
      "Epoch 542/5000\n",
      "3/3 - 0s - loss: 60938.8516 - mean_absolute_error: 184.5075 - val_loss: 92255.6641 - val_mean_absolute_error: 189.5916\n",
      "Epoch 543/5000\n",
      "3/3 - 0s - loss: 57239.2695 - mean_absolute_error: 174.7135 - val_loss: 91009.7656 - val_mean_absolute_error: 189.5125\n",
      "Epoch 544/5000\n",
      "3/3 - 0s - loss: 61895.5820 - mean_absolute_error: 181.7630 - val_loss: 89603.4922 - val_mean_absolute_error: 188.8728\n",
      "Epoch 545/5000\n",
      "3/3 - 0s - loss: 87746.8516 - mean_absolute_error: 196.7563 - val_loss: 85838.9531 - val_mean_absolute_error: 190.0403\n",
      "Epoch 546/5000\n",
      "3/3 - 0s - loss: 70778.6797 - mean_absolute_error: 193.9509 - val_loss: 85482.2109 - val_mean_absolute_error: 189.9937\n",
      "Epoch 547/5000\n",
      "3/3 - 0s - loss: 66188.6172 - mean_absolute_error: 183.2381 - val_loss: 86262.8516 - val_mean_absolute_error: 191.0987\n",
      "Epoch 548/5000\n",
      "3/3 - 0s - loss: 57228.6211 - mean_absolute_error: 182.0079 - val_loss: 86831.8984 - val_mean_absolute_error: 189.8799\n",
      "Epoch 549/5000\n",
      "3/3 - 0s - loss: 66202.9219 - mean_absolute_error: 185.9053 - val_loss: 87359.5469 - val_mean_absolute_error: 188.0099\n",
      "Epoch 550/5000\n",
      "3/3 - 0s - loss: 62076.8789 - mean_absolute_error: 175.5941 - val_loss: 93234.8828 - val_mean_absolute_error: 192.4108\n",
      "Epoch 551/5000\n",
      "3/3 - 0s - loss: 55735.5625 - mean_absolute_error: 170.1573 - val_loss: 87228.0469 - val_mean_absolute_error: 187.4050\n",
      "Epoch 552/5000\n",
      "3/3 - 0s - loss: 98068.8516 - mean_absolute_error: 190.4065 - val_loss: 84258.0078 - val_mean_absolute_error: 187.7018\n",
      "Epoch 553/5000\n",
      "3/3 - 0s - loss: 72395.3281 - mean_absolute_error: 177.1368 - val_loss: 86286.1641 - val_mean_absolute_error: 186.2504\n",
      "Epoch 554/5000\n",
      "3/3 - 0s - loss: 76850.9453 - mean_absolute_error: 179.1398 - val_loss: 85434.0781 - val_mean_absolute_error: 186.3449\n",
      "Epoch 555/5000\n",
      "3/3 - 0s - loss: 51826.7344 - mean_absolute_error: 169.1424 - val_loss: 89996.9453 - val_mean_absolute_error: 191.2808\n",
      "Epoch 556/5000\n",
      "3/3 - 0s - loss: 77349.0938 - mean_absolute_error: 183.5051 - val_loss: 82416.0078 - val_mean_absolute_error: 186.7615\n",
      "Epoch 557/5000\n",
      "3/3 - 0s - loss: 60624.9062 - mean_absolute_error: 188.9075 - val_loss: 84789.3984 - val_mean_absolute_error: 185.9245\n",
      "Epoch 558/5000\n",
      "3/3 - 0s - loss: 63203.4375 - mean_absolute_error: 191.5513 - val_loss: 83630.6953 - val_mean_absolute_error: 186.3127\n",
      "Epoch 559/5000\n",
      "3/3 - 0s - loss: 69380.8594 - mean_absolute_error: 186.4904 - val_loss: 87087.7109 - val_mean_absolute_error: 189.1993\n",
      "Epoch 560/5000\n",
      "3/3 - 0s - loss: 48222.5938 - mean_absolute_error: 172.9435 - val_loss: 92603.9922 - val_mean_absolute_error: 198.5083\n",
      "Epoch 561/5000\n",
      "3/3 - 0s - loss: 89712.3594 - mean_absolute_error: 207.6663 - val_loss: 90312.5547 - val_mean_absolute_error: 195.1105\n",
      "Epoch 562/5000\n",
      "3/3 - 0s - loss: 69355.3594 - mean_absolute_error: 186.1103 - val_loss: 94767.3125 - val_mean_absolute_error: 200.0930\n",
      "Epoch 563/5000\n",
      "3/3 - 0s - loss: 62500.6094 - mean_absolute_error: 179.9867 - val_loss: 81785.1406 - val_mean_absolute_error: 184.2900\n",
      "Epoch 564/5000\n",
      "3/3 - 0s - loss: 98517.1250 - mean_absolute_error: 190.6001 - val_loss: 84124.5781 - val_mean_absolute_error: 185.4113\n",
      "Epoch 565/5000\n",
      "3/3 - 0s - loss: 87762.8516 - mean_absolute_error: 208.2214 - val_loss: 83160.6562 - val_mean_absolute_error: 184.6596\n",
      "Epoch 566/5000\n",
      "3/3 - 0s - loss: 92360.9219 - mean_absolute_error: 190.3355 - val_loss: 89033.8516 - val_mean_absolute_error: 188.9842\n",
      "Epoch 567/5000\n",
      "3/3 - 0s - loss: 62436.8672 - mean_absolute_error: 184.4119 - val_loss: 85018.7500 - val_mean_absolute_error: 185.5237\n",
      "Epoch 568/5000\n",
      "3/3 - 0s - loss: 76753.2969 - mean_absolute_error: 185.0374 - val_loss: 83404.9219 - val_mean_absolute_error: 187.6070\n",
      "Epoch 569/5000\n",
      "3/3 - 0s - loss: 76666.8125 - mean_absolute_error: 197.6001 - val_loss: 90493.2031 - val_mean_absolute_error: 188.3702\n",
      "Epoch 570/5000\n",
      "3/3 - 0s - loss: 62904.3906 - mean_absolute_error: 186.4621 - val_loss: 86434.8750 - val_mean_absolute_error: 186.1249\n",
      "Epoch 571/5000\n",
      "3/3 - 0s - loss: 74901.4141 - mean_absolute_error: 191.6383 - val_loss: 84992.2578 - val_mean_absolute_error: 186.7882\n",
      "Epoch 572/5000\n",
      "3/3 - 0s - loss: 64621.7305 - mean_absolute_error: 175.8736 - val_loss: 84368.9297 - val_mean_absolute_error: 186.7317\n",
      "Epoch 573/5000\n",
      "3/3 - 0s - loss: 56895.6094 - mean_absolute_error: 164.6446 - val_loss: 88808.3594 - val_mean_absolute_error: 188.0219\n",
      "Epoch 574/5000\n",
      "3/3 - 0s - loss: 100279.1484 - mean_absolute_error: 194.2108 - val_loss: 87519.3359 - val_mean_absolute_error: 187.1779\n",
      "Epoch 575/5000\n",
      "3/3 - 0s - loss: 41230.6484 - mean_absolute_error: 149.5069 - val_loss: 87609.8281 - val_mean_absolute_error: 186.0511\n",
      "Epoch 576/5000\n",
      "3/3 - 0s - loss: 50668.8555 - mean_absolute_error: 155.9889 - val_loss: 85901.4922 - val_mean_absolute_error: 184.9254\n",
      "Epoch 577/5000\n",
      "3/3 - 0s - loss: 57685.4141 - mean_absolute_error: 169.0855 - val_loss: 86159.5234 - val_mean_absolute_error: 186.5512\n",
      "Epoch 578/5000\n",
      "3/3 - 0s - loss: 75447.4453 - mean_absolute_error: 193.3584 - val_loss: 82022.0312 - val_mean_absolute_error: 184.5411\n",
      "Epoch 579/5000\n",
      "3/3 - 0s - loss: 94368.5391 - mean_absolute_error: 189.7332 - val_loss: 84256.4375 - val_mean_absolute_error: 184.8856\n",
      "Epoch 580/5000\n",
      "3/3 - 0s - loss: 56042.9844 - mean_absolute_error: 170.1090 - val_loss: 87746.8516 - val_mean_absolute_error: 189.5810\n",
      "Epoch 581/5000\n",
      "3/3 - 0s - loss: 77160.6094 - mean_absolute_error: 204.4826 - val_loss: 84219.2109 - val_mean_absolute_error: 185.1466\n",
      "Epoch 582/5000\n",
      "3/3 - 0s - loss: 84525.3828 - mean_absolute_error: 188.4234 - val_loss: 83468.6875 - val_mean_absolute_error: 184.1542\n",
      "Epoch 583/5000\n",
      "3/3 - 0s - loss: 57301.6797 - mean_absolute_error: 181.5198 - val_loss: 91783.3984 - val_mean_absolute_error: 194.0806\n",
      "Epoch 584/5000\n",
      "3/3 - 0s - loss: 74551.6094 - mean_absolute_error: 180.1275 - val_loss: 83024.8906 - val_mean_absolute_error: 185.2787\n",
      "Epoch 585/5000\n",
      "3/3 - 0s - loss: 45687.3164 - mean_absolute_error: 161.7921 - val_loss: 82898.7109 - val_mean_absolute_error: 187.2317\n",
      "Epoch 586/5000\n",
      "3/3 - 0s - loss: 70925.1016 - mean_absolute_error: 203.2254 - val_loss: 91834.5000 - val_mean_absolute_error: 192.0228\n",
      "Epoch 587/5000\n",
      "3/3 - 0s - loss: 53818.0625 - mean_absolute_error: 173.2785 - val_loss: 84530.2734 - val_mean_absolute_error: 184.2885\n",
      "Epoch 588/5000\n",
      "3/3 - 0s - loss: 70868.8750 - mean_absolute_error: 172.1482 - val_loss: 84232.8594 - val_mean_absolute_error: 184.8717\n",
      "Epoch 589/5000\n",
      "3/3 - 0s - loss: 73843.3594 - mean_absolute_error: 180.6211 - val_loss: 82777.4453 - val_mean_absolute_error: 186.7109\n",
      "Epoch 590/5000\n",
      "3/3 - 0s - loss: 33507.3711 - mean_absolute_error: 130.9531 - val_loss: 84349.3906 - val_mean_absolute_error: 184.6632\n",
      "Epoch 591/5000\n",
      "3/3 - 0s - loss: 64797.1680 - mean_absolute_error: 168.9498 - val_loss: 87209.9922 - val_mean_absolute_error: 185.7242\n",
      "Epoch 592/5000\n",
      "3/3 - 0s - loss: 75809.4922 - mean_absolute_error: 196.7586 - val_loss: 90567.2578 - val_mean_absolute_error: 191.1648\n",
      "Epoch 593/5000\n",
      "3/3 - 0s - loss: 50492.1133 - mean_absolute_error: 171.1172 - val_loss: 82341.4688 - val_mean_absolute_error: 183.4066\n",
      "Epoch 594/5000\n",
      "3/3 - 0s - loss: 70957.0312 - mean_absolute_error: 176.2630 - val_loss: 80485.8594 - val_mean_absolute_error: 184.4581\n",
      "Epoch 595/5000\n",
      "3/3 - 0s - loss: 75158.3594 - mean_absolute_error: 200.4661 - val_loss: 83129.8828 - val_mean_absolute_error: 183.1057\n",
      "Epoch 596/5000\n",
      "3/3 - 0s - loss: 47257.3789 - mean_absolute_error: 156.2502 - val_loss: 81982.4688 - val_mean_absolute_error: 182.5914\n",
      "Epoch 597/5000\n",
      "3/3 - 0s - loss: 71332.4688 - mean_absolute_error: 186.8895 - val_loss: 84242.4453 - val_mean_absolute_error: 183.8096\n",
      "Epoch 598/5000\n",
      "3/3 - 0s - loss: 57084.4609 - mean_absolute_error: 169.0345 - val_loss: 82333.1406 - val_mean_absolute_error: 182.3911\n",
      "Epoch 599/5000\n",
      "3/3 - 0s - loss: 63328.3789 - mean_absolute_error: 173.9501 - val_loss: 82454.9453 - val_mean_absolute_error: 182.8370\n",
      "Epoch 600/5000\n",
      "3/3 - 0s - loss: 52001.7656 - mean_absolute_error: 170.0195 - val_loss: 84672.6641 - val_mean_absolute_error: 183.9507\n",
      "Epoch 601/5000\n",
      "3/3 - 0s - loss: 58433.8867 - mean_absolute_error: 164.1552 - val_loss: 84663.6641 - val_mean_absolute_error: 183.4943\n",
      "Epoch 602/5000\n",
      "3/3 - 0s - loss: 48260.6836 - mean_absolute_error: 166.6026 - val_loss: 84157.9922 - val_mean_absolute_error: 182.3929\n",
      "Epoch 603/5000\n",
      "3/3 - 0s - loss: 50479.0938 - mean_absolute_error: 175.1590 - val_loss: 83514.0781 - val_mean_absolute_error: 181.5822\n",
      "Epoch 604/5000\n",
      "3/3 - 0s - loss: 53026.0703 - mean_absolute_error: 154.6090 - val_loss: 86902.5781 - val_mean_absolute_error: 186.3531\n",
      "Epoch 605/5000\n",
      "3/3 - 0s - loss: 55990.2695 - mean_absolute_error: 172.7172 - val_loss: 85091.4922 - val_mean_absolute_error: 183.7200\n",
      "Epoch 606/5000\n",
      "3/3 - 0s - loss: 79759.7266 - mean_absolute_error: 183.4602 - val_loss: 82056.4219 - val_mean_absolute_error: 182.1481\n",
      "Epoch 607/5000\n",
      "3/3 - 0s - loss: 48718.4414 - mean_absolute_error: 160.9863 - val_loss: 82905.8281 - val_mean_absolute_error: 181.8921\n",
      "Epoch 608/5000\n",
      "3/3 - 0s - loss: 49167.4844 - mean_absolute_error: 169.0879 - val_loss: 92813.3594 - val_mean_absolute_error: 195.4983\n",
      "Epoch 609/5000\n",
      "3/3 - 0s - loss: 59821.2305 - mean_absolute_error: 183.3994 - val_loss: 81051.1797 - val_mean_absolute_error: 181.4919\n",
      "Epoch 610/5000\n",
      "3/3 - 0s - loss: 59771.2812 - mean_absolute_error: 172.2249 - val_loss: 81331.2109 - val_mean_absolute_error: 183.5663\n",
      "Epoch 611/5000\n",
      "3/3 - 0s - loss: 56525.5625 - mean_absolute_error: 156.2663 - val_loss: 83115.5469 - val_mean_absolute_error: 181.6994\n",
      "Epoch 612/5000\n",
      "3/3 - 0s - loss: 62984.1562 - mean_absolute_error: 167.7476 - val_loss: 84161.4844 - val_mean_absolute_error: 181.9339\n",
      "Epoch 613/5000\n",
      "3/3 - 0s - loss: 65693.7969 - mean_absolute_error: 180.6616 - val_loss: 84837.4844 - val_mean_absolute_error: 182.6738\n",
      "Epoch 614/5000\n",
      "3/3 - 0s - loss: 55419.3750 - mean_absolute_error: 176.0226 - val_loss: 83207.0625 - val_mean_absolute_error: 182.0545\n",
      "Epoch 615/5000\n",
      "3/3 - 0s - loss: 62323.5273 - mean_absolute_error: 189.7021 - val_loss: 84704.1328 - val_mean_absolute_error: 182.5031\n",
      "Epoch 616/5000\n",
      "3/3 - 0s - loss: 52780.3438 - mean_absolute_error: 169.0362 - val_loss: 82853.2891 - val_mean_absolute_error: 190.9796\n",
      "Epoch 617/5000\n",
      "3/3 - 0s - loss: 78674.0781 - mean_absolute_error: 195.2754 - val_loss: 85716.6016 - val_mean_absolute_error: 184.2347\n",
      "Epoch 618/5000\n",
      "3/3 - 0s - loss: 97245.7578 - mean_absolute_error: 180.9192 - val_loss: 85607.3672 - val_mean_absolute_error: 183.4308\n",
      "Epoch 619/5000\n",
      "3/3 - 0s - loss: 46195.0234 - mean_absolute_error: 169.3329 - val_loss: 86062.9453 - val_mean_absolute_error: 183.6389\n",
      "Epoch 620/5000\n",
      "3/3 - 0s - loss: 50491.1562 - mean_absolute_error: 174.4051 - val_loss: 93368.9297 - val_mean_absolute_error: 195.1543\n",
      "Epoch 621/5000\n",
      "3/3 - 0s - loss: 58896.1953 - mean_absolute_error: 171.0661 - val_loss: 82470.1172 - val_mean_absolute_error: 183.2817\n",
      "Epoch 622/5000\n",
      "3/3 - 0s - loss: 56403.0703 - mean_absolute_error: 165.1734 - val_loss: 83380.9219 - val_mean_absolute_error: 183.6723\n",
      "Epoch 623/5000\n",
      "3/3 - 0s - loss: 54593.8164 - mean_absolute_error: 170.3824 - val_loss: 85517.0547 - val_mean_absolute_error: 185.0878\n",
      "Epoch 624/5000\n",
      "3/3 - 0s - loss: 77077.0234 - mean_absolute_error: 192.7360 - val_loss: 85103.9062 - val_mean_absolute_error: 185.1694\n",
      "Epoch 625/5000\n",
      "3/3 - 0s - loss: 74653.1641 - mean_absolute_error: 176.3727 - val_loss: 79482.9688 - val_mean_absolute_error: 181.8658\n",
      "Epoch 626/5000\n",
      "3/3 - 0s - loss: 57236.5391 - mean_absolute_error: 173.6111 - val_loss: 84112.2500 - val_mean_absolute_error: 183.5973\n",
      "Epoch 627/5000\n",
      "3/3 - 0s - loss: 58238.0625 - mean_absolute_error: 161.0193 - val_loss: 83906.2266 - val_mean_absolute_error: 183.3180\n",
      "Epoch 628/5000\n",
      "3/3 - 0s - loss: 65525.4297 - mean_absolute_error: 179.6422 - val_loss: 82561.7500 - val_mean_absolute_error: 181.7654\n",
      "Epoch 629/5000\n",
      "3/3 - 0s - loss: 100508.2500 - mean_absolute_error: 186.6505 - val_loss: 83938.8125 - val_mean_absolute_error: 182.4421\n",
      "Epoch 630/5000\n",
      "3/3 - 0s - loss: 71012.9062 - mean_absolute_error: 187.1888 - val_loss: 85885.2031 - val_mean_absolute_error: 184.6380\n",
      "Epoch 631/5000\n",
      "3/3 - 0s - loss: 62272.9766 - mean_absolute_error: 177.8808 - val_loss: 83400.4297 - val_mean_absolute_error: 182.6217\n",
      "Epoch 632/5000\n",
      "3/3 - 0s - loss: 67419.8984 - mean_absolute_error: 187.3132 - val_loss: 85015.7031 - val_mean_absolute_error: 184.2072\n",
      "Epoch 633/5000\n",
      "3/3 - 0s - loss: 88713.9688 - mean_absolute_error: 183.7958 - val_loss: 82362.9453 - val_mean_absolute_error: 182.5252\n",
      "Epoch 634/5000\n",
      "3/3 - 0s - loss: 45371.3789 - mean_absolute_error: 167.4058 - val_loss: 84857.3594 - val_mean_absolute_error: 185.0555\n",
      "Epoch 635/5000\n",
      "3/3 - 0s - loss: 73243.1250 - mean_absolute_error: 185.0663 - val_loss: 86074.2578 - val_mean_absolute_error: 185.2406\n",
      "Epoch 636/5000\n",
      "3/3 - 0s - loss: 43404.1914 - mean_absolute_error: 154.0137 - val_loss: 81631.1484 - val_mean_absolute_error: 181.3236\n",
      "Epoch 637/5000\n",
      "3/3 - 0s - loss: 61232.9414 - mean_absolute_error: 180.2174 - val_loss: 79407.4844 - val_mean_absolute_error: 183.4283\n",
      "Epoch 638/5000\n",
      "3/3 - 0s - loss: 79433.4453 - mean_absolute_error: 185.2391 - val_loss: 80788.6484 - val_mean_absolute_error: 182.1409\n",
      "Epoch 639/5000\n",
      "3/3 - 0s - loss: 82373.6406 - mean_absolute_error: 204.8820 - val_loss: 83174.6797 - val_mean_absolute_error: 183.2541\n",
      "Epoch 640/5000\n",
      "3/3 - 0s - loss: 49658.8086 - mean_absolute_error: 168.9974 - val_loss: 86753.6172 - val_mean_absolute_error: 186.2016\n",
      "Epoch 641/5000\n",
      "3/3 - 0s - loss: 57673.1719 - mean_absolute_error: 171.8794 - val_loss: 83253.9922 - val_mean_absolute_error: 183.4328\n",
      "Epoch 642/5000\n",
      "3/3 - 0s - loss: 67895.8359 - mean_absolute_error: 187.9802 - val_loss: 85182.1484 - val_mean_absolute_error: 184.3991\n",
      "Epoch 643/5000\n",
      "3/3 - 0s - loss: 86110.8359 - mean_absolute_error: 176.6662 - val_loss: 83837.7266 - val_mean_absolute_error: 184.1080\n",
      "Epoch 644/5000\n",
      "3/3 - 0s - loss: 59167.2773 - mean_absolute_error: 178.1119 - val_loss: 80841.6406 - val_mean_absolute_error: 181.4870\n",
      "Epoch 645/5000\n",
      "3/3 - 0s - loss: 57952.7695 - mean_absolute_error: 167.2762 - val_loss: 85814.2656 - val_mean_absolute_error: 186.6795\n",
      "Epoch 646/5000\n",
      "3/3 - 0s - loss: 45919.4844 - mean_absolute_error: 153.9427 - val_loss: 80172.7812 - val_mean_absolute_error: 180.2879\n",
      "Epoch 647/5000\n",
      "3/3 - 0s - loss: 50313.0586 - mean_absolute_error: 171.3268 - val_loss: 80440.1641 - val_mean_absolute_error: 180.8174\n",
      "Epoch 648/5000\n",
      "3/3 - 0s - loss: 44337.9727 - mean_absolute_error: 154.8601 - val_loss: 79350.9844 - val_mean_absolute_error: 182.7194\n",
      "Epoch 649/5000\n",
      "3/3 - 0s - loss: 65886.5391 - mean_absolute_error: 191.2065 - val_loss: 80482.8125 - val_mean_absolute_error: 178.6059\n",
      "Epoch 650/5000\n",
      "3/3 - 0s - loss: 61282.7344 - mean_absolute_error: 178.3049 - val_loss: 78225.3203 - val_mean_absolute_error: 180.7783\n",
      "Epoch 651/5000\n",
      "3/3 - 0s - loss: 79225.3438 - mean_absolute_error: 188.1452 - val_loss: 79187.9922 - val_mean_absolute_error: 179.6891\n",
      "Epoch 652/5000\n",
      "3/3 - 0s - loss: 73401.6562 - mean_absolute_error: 181.3449 - val_loss: 86205.9141 - val_mean_absolute_error: 188.4048\n",
      "Epoch 653/5000\n",
      "3/3 - 0s - loss: 61896.6680 - mean_absolute_error: 177.7150 - val_loss: 81297.6953 - val_mean_absolute_error: 180.9926\n",
      "Epoch 654/5000\n",
      "3/3 - 0s - loss: 74014.2109 - mean_absolute_error: 199.1583 - val_loss: 79257.5312 - val_mean_absolute_error: 181.0133\n",
      "Epoch 655/5000\n",
      "3/3 - 0s - loss: 51736.7227 - mean_absolute_error: 147.7502 - val_loss: 78747.4062 - val_mean_absolute_error: 181.3792\n",
      "Epoch 656/5000\n",
      "3/3 - 0s - loss: 71498.6641 - mean_absolute_error: 202.7732 - val_loss: 80019.6016 - val_mean_absolute_error: 180.1027\n",
      "Epoch 657/5000\n",
      "3/3 - 0s - loss: 72389.1094 - mean_absolute_error: 196.3705 - val_loss: 86467.1641 - val_mean_absolute_error: 187.9708\n",
      "Epoch 658/5000\n",
      "3/3 - 0s - loss: 67592.9453 - mean_absolute_error: 186.5868 - val_loss: 84023.3906 - val_mean_absolute_error: 184.3869\n",
      "Epoch 659/5000\n",
      "3/3 - 0s - loss: 65737.2031 - mean_absolute_error: 175.3606 - val_loss: 80248.8984 - val_mean_absolute_error: 180.4028\n",
      "Epoch 660/5000\n",
      "3/3 - 0s - loss: 59335.4258 - mean_absolute_error: 175.8636 - val_loss: 84973.5078 - val_mean_absolute_error: 185.2685\n",
      "Epoch 661/5000\n",
      "3/3 - 0s - loss: 43529.1133 - mean_absolute_error: 155.3688 - val_loss: 83318.1797 - val_mean_absolute_error: 182.2037\n",
      "Epoch 662/5000\n",
      "3/3 - 0s - loss: 68995.7031 - mean_absolute_error: 184.6609 - val_loss: 82171.9688 - val_mean_absolute_error: 180.7351\n",
      "Epoch 663/5000\n",
      "3/3 - 0s - loss: 53187.5703 - mean_absolute_error: 170.2039 - val_loss: 77989.6094 - val_mean_absolute_error: 178.6869\n",
      "Epoch 664/5000\n",
      "3/3 - 0s - loss: 59737.5508 - mean_absolute_error: 180.2925 - val_loss: 79189.5391 - val_mean_absolute_error: 179.7803\n",
      "Epoch 665/5000\n",
      "3/3 - 0s - loss: 60092.5977 - mean_absolute_error: 187.2361 - val_loss: 82136.0547 - val_mean_absolute_error: 184.7292\n",
      "Epoch 666/5000\n",
      "3/3 - 0s - loss: 66393.3750 - mean_absolute_error: 173.4778 - val_loss: 80389.2266 - val_mean_absolute_error: 181.3978\n",
      "Epoch 667/5000\n",
      "3/3 - 0s - loss: 62667.8164 - mean_absolute_error: 182.5272 - val_loss: 78968.3125 - val_mean_absolute_error: 180.4079\n",
      "Epoch 668/5000\n",
      "3/3 - 0s - loss: 69150.4766 - mean_absolute_error: 198.4165 - val_loss: 77504.8516 - val_mean_absolute_error: 182.0223\n",
      "Epoch 669/5000\n",
      "3/3 - 0s - loss: 72671.5391 - mean_absolute_error: 177.0580 - val_loss: 78851.9922 - val_mean_absolute_error: 181.8255\n",
      "Epoch 670/5000\n",
      "3/3 - 0s - loss: 68999.7812 - mean_absolute_error: 191.3087 - val_loss: 88758.0078 - val_mean_absolute_error: 196.0052\n",
      "Epoch 671/5000\n",
      "3/3 - 0s - loss: 48366.1680 - mean_absolute_error: 165.7949 - val_loss: 85355.9141 - val_mean_absolute_error: 190.3364\n",
      "Epoch 672/5000\n",
      "3/3 - 0s - loss: 91739.2734 - mean_absolute_error: 183.9677 - val_loss: 85687.5703 - val_mean_absolute_error: 190.9409\n",
      "Epoch 673/5000\n",
      "3/3 - 0s - loss: 61635.7461 - mean_absolute_error: 169.1103 - val_loss: 87070.7500 - val_mean_absolute_error: 193.6898\n",
      "Epoch 674/5000\n",
      "3/3 - 0s - loss: 49910.1953 - mean_absolute_error: 173.0548 - val_loss: 84314.2031 - val_mean_absolute_error: 186.0398\n",
      "Epoch 675/5000\n",
      "3/3 - 0s - loss: 72995.2891 - mean_absolute_error: 193.6968 - val_loss: 79025.2344 - val_mean_absolute_error: 179.6362\n",
      "Epoch 676/5000\n",
      "3/3 - 0s - loss: 58751.7891 - mean_absolute_error: 177.6332 - val_loss: 80002.6016 - val_mean_absolute_error: 179.9674\n",
      "Epoch 677/5000\n",
      "3/3 - 0s - loss: 69850.1953 - mean_absolute_error: 187.5424 - val_loss: 84387.5312 - val_mean_absolute_error: 184.7569\n",
      "Epoch 678/5000\n",
      "3/3 - 0s - loss: 46401.1641 - mean_absolute_error: 146.1664 - val_loss: 84581.0078 - val_mean_absolute_error: 185.3236\n",
      "Epoch 679/5000\n",
      "3/3 - 0s - loss: 54956.8203 - mean_absolute_error: 183.7849 - val_loss: 79434.4453 - val_mean_absolute_error: 179.9361\n",
      "Epoch 680/5000\n",
      "3/3 - 0s - loss: 99077.5391 - mean_absolute_error: 198.9787 - val_loss: 78839.1953 - val_mean_absolute_error: 181.6490\n",
      "Epoch 681/5000\n",
      "3/3 - 0s - loss: 51943.9141 - mean_absolute_error: 172.5051 - val_loss: 82408.2734 - val_mean_absolute_error: 180.5569\n",
      "Epoch 682/5000\n",
      "3/3 - 0s - loss: 48266.0742 - mean_absolute_error: 163.6379 - val_loss: 83663.4141 - val_mean_absolute_error: 181.9668\n",
      "Epoch 683/5000\n",
      "3/3 - 0s - loss: 60065.5039 - mean_absolute_error: 175.9436 - val_loss: 79630.9453 - val_mean_absolute_error: 183.1296\n",
      "Epoch 684/5000\n",
      "3/3 - 0s - loss: 66897.0078 - mean_absolute_error: 193.6362 - val_loss: 81266.4844 - val_mean_absolute_error: 181.3632\n",
      "Epoch 685/5000\n",
      "3/3 - 0s - loss: 50638.1719 - mean_absolute_error: 167.9536 - val_loss: 83126.1875 - val_mean_absolute_error: 181.8161\n",
      "Epoch 686/5000\n",
      "3/3 - 0s - loss: 54873.3789 - mean_absolute_error: 174.7012 - val_loss: 79272.2578 - val_mean_absolute_error: 181.4179\n",
      "Epoch 687/5000\n",
      "3/3 - 0s - loss: 72264.6016 - mean_absolute_error: 194.4852 - val_loss: 82766.8984 - val_mean_absolute_error: 182.1679\n",
      "Epoch 688/5000\n",
      "3/3 - 0s - loss: 51204.3438 - mean_absolute_error: 165.0010 - val_loss: 81030.7734 - val_mean_absolute_error: 180.6724\n",
      "Epoch 689/5000\n",
      "3/3 - 0s - loss: 53595.7656 - mean_absolute_error: 172.5417 - val_loss: 79228.8125 - val_mean_absolute_error: 182.1560\n",
      "Epoch 690/5000\n",
      "3/3 - 0s - loss: 75004.5391 - mean_absolute_error: 196.3234 - val_loss: 80837.9844 - val_mean_absolute_error: 180.8003\n",
      "Epoch 691/5000\n",
      "3/3 - 0s - loss: 55051.2461 - mean_absolute_error: 174.6150 - val_loss: 86882.2891 - val_mean_absolute_error: 186.7212\n",
      "Epoch 692/5000\n",
      "3/3 - 0s - loss: 45465.1719 - mean_absolute_error: 162.7458 - val_loss: 85363.6016 - val_mean_absolute_error: 187.1734\n",
      "Epoch 693/5000\n",
      "3/3 - 0s - loss: 75357.3594 - mean_absolute_error: 208.7604 - val_loss: 79281.5078 - val_mean_absolute_error: 181.4966\n",
      "Epoch 694/5000\n",
      "3/3 - 0s - loss: 49040.5859 - mean_absolute_error: 167.0552 - val_loss: 85427.4844 - val_mean_absolute_error: 186.9851\n",
      "Epoch 695/5000\n",
      "3/3 - 0s - loss: 61173.3438 - mean_absolute_error: 181.4324 - val_loss: 82803.8281 - val_mean_absolute_error: 183.4524\n",
      "Epoch 696/5000\n",
      "3/3 - 0s - loss: 41708.9062 - mean_absolute_error: 148.0414 - val_loss: 80421.0312 - val_mean_absolute_error: 180.7066\n",
      "Epoch 697/5000\n",
      "3/3 - 0s - loss: 55689.8984 - mean_absolute_error: 173.3397 - val_loss: 79630.7031 - val_mean_absolute_error: 180.1297\n",
      "Epoch 698/5000\n",
      "3/3 - 0s - loss: 68122.5234 - mean_absolute_error: 171.6726 - val_loss: 80738.5000 - val_mean_absolute_error: 182.3739\n",
      "Epoch 699/5000\n",
      "3/3 - 0s - loss: 70734.8047 - mean_absolute_error: 190.5475 - val_loss: 78328.2734 - val_mean_absolute_error: 180.6009\n",
      "Epoch 700/5000\n",
      "3/3 - 0s - loss: 67240.0156 - mean_absolute_error: 190.7407 - val_loss: 81548.3359 - val_mean_absolute_error: 182.1989\n",
      "Epoch 701/5000\n",
      "3/3 - 0s - loss: 54290.9492 - mean_absolute_error: 163.9823 - val_loss: 83363.0781 - val_mean_absolute_error: 183.1778\n",
      "Epoch 702/5000\n",
      "3/3 - 0s - loss: 56844.2578 - mean_absolute_error: 178.4975 - val_loss: 87714.0938 - val_mean_absolute_error: 191.3607\n",
      "Epoch 703/5000\n",
      "3/3 - 0s - loss: 44366.0977 - mean_absolute_error: 156.2646 - val_loss: 79676.9297 - val_mean_absolute_error: 180.2296\n",
      "Epoch 704/5000\n",
      "3/3 - 0s - loss: 86854.0781 - mean_absolute_error: 210.1618 - val_loss: 79057.6406 - val_mean_absolute_error: 180.6420\n",
      "Epoch 705/5000\n",
      "3/3 - 0s - loss: 69871.3438 - mean_absolute_error: 170.1830 - val_loss: 83361.2812 - val_mean_absolute_error: 185.2009\n",
      "Epoch 706/5000\n",
      "3/3 - 0s - loss: 59041.4609 - mean_absolute_error: 187.9659 - val_loss: 76736.4375 - val_mean_absolute_error: 180.4493\n",
      "Epoch 707/5000\n",
      "3/3 - 0s - loss: 53980.9766 - mean_absolute_error: 177.3371 - val_loss: 80733.3672 - val_mean_absolute_error: 181.5453\n",
      "Epoch 708/5000\n",
      "3/3 - 0s - loss: 60754.1836 - mean_absolute_error: 188.5103 - val_loss: 77956.2266 - val_mean_absolute_error: 180.0833\n",
      "Epoch 709/5000\n",
      "3/3 - 0s - loss: 75824.9922 - mean_absolute_error: 195.8031 - val_loss: 78239.7500 - val_mean_absolute_error: 179.7845\n",
      "Epoch 710/5000\n",
      "3/3 - 0s - loss: 48797.6367 - mean_absolute_error: 170.4838 - val_loss: 82579.8359 - val_mean_absolute_error: 185.7748\n",
      "Epoch 711/5000\n",
      "3/3 - 0s - loss: 46222.8750 - mean_absolute_error: 160.2108 - val_loss: 82428.9688 - val_mean_absolute_error: 184.3539\n",
      "Epoch 712/5000\n",
      "3/3 - 0s - loss: 103581.1172 - mean_absolute_error: 200.6554 - val_loss: 77291.9297 - val_mean_absolute_error: 179.3428\n",
      "Epoch 713/5000\n",
      "3/3 - 0s - loss: 50992.3008 - mean_absolute_error: 166.0723 - val_loss: 76837.1953 - val_mean_absolute_error: 179.3826\n",
      "Epoch 714/5000\n",
      "3/3 - 0s - loss: 53131.8867 - mean_absolute_error: 169.1604 - val_loss: 89954.8750 - val_mean_absolute_error: 195.8769\n",
      "Epoch 715/5000\n",
      "3/3 - 0s - loss: 82841.3281 - mean_absolute_error: 206.8092 - val_loss: 87145.9922 - val_mean_absolute_error: 189.7330\n",
      "Epoch 716/5000\n",
      "3/3 - 0s - loss: 58871.8398 - mean_absolute_error: 165.3147 - val_loss: 84886.6172 - val_mean_absolute_error: 188.7267\n",
      "Epoch 717/5000\n",
      "3/3 - 0s - loss: 50835.6992 - mean_absolute_error: 163.3016 - val_loss: 82216.0703 - val_mean_absolute_error: 184.2854\n",
      "Epoch 718/5000\n",
      "3/3 - 0s - loss: 98517.5391 - mean_absolute_error: 190.6485 - val_loss: 83573.2734 - val_mean_absolute_error: 185.9555\n",
      "Epoch 719/5000\n",
      "3/3 - 0s - loss: 55967.1133 - mean_absolute_error: 171.0220 - val_loss: 80585.7812 - val_mean_absolute_error: 181.1598\n",
      "Epoch 720/5000\n",
      "3/3 - 0s - loss: 93401.7891 - mean_absolute_error: 190.6867 - val_loss: 77838.8281 - val_mean_absolute_error: 181.9662\n",
      "Epoch 721/5000\n",
      "3/3 - 0s - loss: 104149.7734 - mean_absolute_error: 208.5298 - val_loss: 88443.7500 - val_mean_absolute_error: 191.6743\n",
      "Epoch 722/5000\n",
      "3/3 - 0s - loss: 49445.8008 - mean_absolute_error: 168.1842 - val_loss: 82207.4219 - val_mean_absolute_error: 182.0653\n",
      "Epoch 723/5000\n",
      "3/3 - 0s - loss: 90872.6484 - mean_absolute_error: 188.7399 - val_loss: 81434.2812 - val_mean_absolute_error: 181.5904\n",
      "Epoch 724/5000\n",
      "3/3 - 0s - loss: 64614.5508 - mean_absolute_error: 186.2704 - val_loss: 81163.9219 - val_mean_absolute_error: 180.3808\n",
      "Epoch 725/5000\n",
      "3/3 - 0s - loss: 99980.5391 - mean_absolute_error: 198.1876 - val_loss: 82260.1719 - val_mean_absolute_error: 182.8596\n",
      "Epoch 726/5000\n",
      "3/3 - 0s - loss: 49002.3555 - mean_absolute_error: 163.5048 - val_loss: 78895.1406 - val_mean_absolute_error: 179.9002\n",
      "Epoch 727/5000\n",
      "3/3 - 0s - loss: 54296.2578 - mean_absolute_error: 163.6055 - val_loss: 78462.2031 - val_mean_absolute_error: 181.1928\n",
      "Epoch 728/5000\n",
      "3/3 - 0s - loss: 57871.9531 - mean_absolute_error: 173.4056 - val_loss: 79868.0312 - val_mean_absolute_error: 179.5309\n",
      "Epoch 729/5000\n",
      "3/3 - 0s - loss: 58297.5234 - mean_absolute_error: 183.3840 - val_loss: 79821.2344 - val_mean_absolute_error: 179.6646\n",
      "Epoch 730/5000\n",
      "3/3 - 0s - loss: 75364.6953 - mean_absolute_error: 189.9503 - val_loss: 86728.0000 - val_mean_absolute_error: 188.1011\n",
      "Epoch 731/5000\n",
      "3/3 - 0s - loss: 69621.7422 - mean_absolute_error: 182.0918 - val_loss: 84847.9141 - val_mean_absolute_error: 187.1945\n",
      "Epoch 732/5000\n",
      "3/3 - 0s - loss: 46166.7578 - mean_absolute_error: 161.0137 - val_loss: 81814.2031 - val_mean_absolute_error: 182.7832\n",
      "Epoch 733/5000\n",
      "3/3 - 0s - loss: 75313.4141 - mean_absolute_error: 186.8028 - val_loss: 78685.8906 - val_mean_absolute_error: 181.3754\n",
      "Epoch 734/5000\n",
      "3/3 - 0s - loss: 76637.2734 - mean_absolute_error: 198.9697 - val_loss: 78246.3984 - val_mean_absolute_error: 179.0762\n",
      "Epoch 735/5000\n",
      "3/3 - 0s - loss: 75148.4531 - mean_absolute_error: 178.3940 - val_loss: 78257.3594 - val_mean_absolute_error: 178.4437\n",
      "Epoch 736/5000\n",
      "3/3 - 0s - loss: 66186.2734 - mean_absolute_error: 183.6529 - val_loss: 80939.2422 - val_mean_absolute_error: 180.7891\n",
      "Epoch 737/5000\n",
      "3/3 - 0s - loss: 78428.1406 - mean_absolute_error: 182.5099 - val_loss: 78726.5156 - val_mean_absolute_error: 178.2199\n",
      "Epoch 738/5000\n",
      "3/3 - 0s - loss: 61338.5352 - mean_absolute_error: 184.8924 - val_loss: 81473.1406 - val_mean_absolute_error: 182.1877\n",
      "Epoch 739/5000\n",
      "3/3 - 0s - loss: 72949.5469 - mean_absolute_error: 178.6454 - val_loss: 85734.9922 - val_mean_absolute_error: 188.6764\n",
      "Epoch 740/5000\n",
      "3/3 - 0s - loss: 56197.2695 - mean_absolute_error: 164.4570 - val_loss: 77913.7734 - val_mean_absolute_error: 178.7177\n",
      "Epoch 741/5000\n",
      "3/3 - 0s - loss: 65307.5977 - mean_absolute_error: 181.0512 - val_loss: 82726.3984 - val_mean_absolute_error: 184.5372\n",
      "Epoch 742/5000\n",
      "3/3 - 0s - loss: 74295.8359 - mean_absolute_error: 169.0893 - val_loss: 77554.2188 - val_mean_absolute_error: 178.6181\n",
      "Epoch 743/5000\n",
      "3/3 - 0s - loss: 52991.3789 - mean_absolute_error: 176.9395 - val_loss: 77842.7891 - val_mean_absolute_error: 177.9731\n",
      "Epoch 744/5000\n",
      "3/3 - 0s - loss: 34925.8438 - mean_absolute_error: 142.5284 - val_loss: 82592.1641 - val_mean_absolute_error: 183.8591\n",
      "Epoch 745/5000\n",
      "3/3 - 0s - loss: 53538.3672 - mean_absolute_error: 167.7286 - val_loss: 81977.4531 - val_mean_absolute_error: 185.4836\n",
      "Epoch 746/5000\n",
      "3/3 - 0s - loss: 49870.5000 - mean_absolute_error: 168.0903 - val_loss: 77519.0781 - val_mean_absolute_error: 177.4098\n",
      "Epoch 747/5000\n",
      "3/3 - 0s - loss: 62091.1953 - mean_absolute_error: 169.7273 - val_loss: 78610.2891 - val_mean_absolute_error: 178.1090\n",
      "Epoch 748/5000\n",
      "3/3 - 0s - loss: 68600.2812 - mean_absolute_error: 193.5775 - val_loss: 76933.9922 - val_mean_absolute_error: 177.6037\n",
      "Epoch 749/5000\n",
      "3/3 - 0s - loss: 45672.5820 - mean_absolute_error: 161.9231 - val_loss: 75673.0547 - val_mean_absolute_error: 181.1441\n",
      "Epoch 750/5000\n",
      "3/3 - 0s - loss: 55445.9023 - mean_absolute_error: 182.9181 - val_loss: 77510.4688 - val_mean_absolute_error: 175.8800\n",
      "Epoch 751/5000\n",
      "3/3 - 0s - loss: 47386.1523 - mean_absolute_error: 171.8946 - val_loss: 78529.4219 - val_mean_absolute_error: 176.6382\n",
      "Epoch 752/5000\n",
      "3/3 - 0s - loss: 70559.4375 - mean_absolute_error: 191.0026 - val_loss: 78213.4375 - val_mean_absolute_error: 177.8537\n",
      "Epoch 753/5000\n",
      "3/3 - 0s - loss: 44755.1680 - mean_absolute_error: 153.5309 - val_loss: 77047.7812 - val_mean_absolute_error: 177.8281\n",
      "Epoch 754/5000\n",
      "3/3 - 0s - loss: 89037.1172 - mean_absolute_error: 181.0435 - val_loss: 81999.3359 - val_mean_absolute_error: 180.5856\n",
      "Epoch 755/5000\n",
      "3/3 - 0s - loss: 62461.4023 - mean_absolute_error: 169.9892 - val_loss: 78269.2734 - val_mean_absolute_error: 177.6344\n",
      "Epoch 756/5000\n",
      "3/3 - 0s - loss: 49646.8047 - mean_absolute_error: 156.0939 - val_loss: 77047.5625 - val_mean_absolute_error: 178.3516\n",
      "Epoch 757/5000\n",
      "3/3 - 0s - loss: 51293.6094 - mean_absolute_error: 157.3072 - val_loss: 77754.1953 - val_mean_absolute_error: 178.1506\n",
      "Epoch 758/5000\n",
      "3/3 - 0s - loss: 77479.3906 - mean_absolute_error: 171.6516 - val_loss: 76208.2734 - val_mean_absolute_error: 177.6292\n",
      "Epoch 759/5000\n",
      "3/3 - 0s - loss: 63084.6328 - mean_absolute_error: 172.0438 - val_loss: 75994.2344 - val_mean_absolute_error: 178.7589\n",
      "Epoch 760/5000\n",
      "3/3 - 0s - loss: 59127.7812 - mean_absolute_error: 167.8656 - val_loss: 79157.2578 - val_mean_absolute_error: 179.0137\n",
      "Epoch 761/5000\n",
      "3/3 - 0s - loss: 40543.6250 - mean_absolute_error: 149.5265 - val_loss: 75695.4141 - val_mean_absolute_error: 175.7044\n",
      "Epoch 762/5000\n",
      "3/3 - 0s - loss: 53595.7773 - mean_absolute_error: 175.2624 - val_loss: 79148.1016 - val_mean_absolute_error: 178.2803\n",
      "Epoch 763/5000\n",
      "3/3 - 0s - loss: 43916.1328 - mean_absolute_error: 157.8593 - val_loss: 75782.4922 - val_mean_absolute_error: 175.7812\n",
      "Epoch 764/5000\n",
      "3/3 - 0s - loss: 46362.0273 - mean_absolute_error: 164.8371 - val_loss: 77460.9688 - val_mean_absolute_error: 178.1034\n",
      "Epoch 765/5000\n",
      "3/3 - 0s - loss: 62660.8281 - mean_absolute_error: 178.0154 - val_loss: 77224.1328 - val_mean_absolute_error: 177.6910\n",
      "Epoch 766/5000\n",
      "3/3 - 0s - loss: 52379.4531 - mean_absolute_error: 168.0956 - val_loss: 77346.6172 - val_mean_absolute_error: 176.7396\n",
      "Epoch 767/5000\n",
      "3/3 - 0s - loss: 67040.9609 - mean_absolute_error: 189.3255 - val_loss: 83641.0547 - val_mean_absolute_error: 184.7079\n",
      "Epoch 768/5000\n",
      "3/3 - 0s - loss: 76257.6875 - mean_absolute_error: 179.7783 - val_loss: 77472.9844 - val_mean_absolute_error: 177.5490\n",
      "Epoch 769/5000\n",
      "3/3 - 0s - loss: 49074.9414 - mean_absolute_error: 160.8384 - val_loss: 76132.1172 - val_mean_absolute_error: 178.3979\n",
      "Epoch 770/5000\n",
      "3/3 - 0s - loss: 51695.0273 - mean_absolute_error: 166.6779 - val_loss: 79578.1719 - val_mean_absolute_error: 178.8140\n",
      "Epoch 771/5000\n",
      "3/3 - 0s - loss: 60748.6445 - mean_absolute_error: 176.9713 - val_loss: 86020.3594 - val_mean_absolute_error: 188.2382\n",
      "Epoch 772/5000\n",
      "3/3 - 0s - loss: 54893.7578 - mean_absolute_error: 166.5476 - val_loss: 77257.4141 - val_mean_absolute_error: 177.7926\n",
      "Epoch 773/5000\n",
      "3/3 - 0s - loss: 86060.9922 - mean_absolute_error: 178.3278 - val_loss: 77602.8281 - val_mean_absolute_error: 177.5180\n",
      "Epoch 774/5000\n",
      "3/3 - 0s - loss: 71886.2422 - mean_absolute_error: 174.5612 - val_loss: 75295.8359 - val_mean_absolute_error: 177.3687\n",
      "Epoch 775/5000\n",
      "3/3 - 0s - loss: 43185.4336 - mean_absolute_error: 147.7895 - val_loss: 77037.0078 - val_mean_absolute_error: 178.0400\n",
      "Epoch 776/5000\n",
      "3/3 - 0s - loss: 54187.8750 - mean_absolute_error: 173.7029 - val_loss: 75786.2891 - val_mean_absolute_error: 179.4193\n",
      "Epoch 777/5000\n",
      "3/3 - 0s - loss: 56991.6445 - mean_absolute_error: 181.4587 - val_loss: 81004.3594 - val_mean_absolute_error: 182.6553\n",
      "Epoch 778/5000\n",
      "3/3 - 0s - loss: 64649.7344 - mean_absolute_error: 185.3874 - val_loss: 77754.1953 - val_mean_absolute_error: 180.0189\n",
      "Epoch 779/5000\n",
      "3/3 - 0s - loss: 56642.6094 - mean_absolute_error: 179.2726 - val_loss: 81234.0547 - val_mean_absolute_error: 182.6121\n",
      "Epoch 780/5000\n",
      "3/3 - 0s - loss: 49938.1367 - mean_absolute_error: 162.3346 - val_loss: 77540.8906 - val_mean_absolute_error: 178.8594\n",
      "Epoch 781/5000\n",
      "3/3 - 0s - loss: 53520.1094 - mean_absolute_error: 163.6237 - val_loss: 76692.1484 - val_mean_absolute_error: 178.6119\n",
      "Epoch 782/5000\n",
      "3/3 - 0s - loss: 48860.1836 - mean_absolute_error: 161.0394 - val_loss: 75398.4453 - val_mean_absolute_error: 179.1220\n",
      "Epoch 783/5000\n",
      "3/3 - 0s - loss: 59610.1250 - mean_absolute_error: 180.2929 - val_loss: 76060.4922 - val_mean_absolute_error: 177.4462\n",
      "Epoch 784/5000\n",
      "3/3 - 0s - loss: 93466.3281 - mean_absolute_error: 190.4926 - val_loss: 75308.6406 - val_mean_absolute_error: 181.7700\n",
      "Epoch 785/5000\n",
      "3/3 - 0s - loss: 96743.0781 - mean_absolute_error: 202.4786 - val_loss: 80768.2344 - val_mean_absolute_error: 181.3627\n",
      "Epoch 786/5000\n",
      "3/3 - 0s - loss: 52374.7539 - mean_absolute_error: 162.7504 - val_loss: 81437.9453 - val_mean_absolute_error: 182.2534\n",
      "Epoch 787/5000\n",
      "3/3 - 0s - loss: 55010.4023 - mean_absolute_error: 161.1829 - val_loss: 82182.6406 - val_mean_absolute_error: 184.6626\n",
      "Epoch 788/5000\n",
      "3/3 - 0s - loss: 48006.5742 - mean_absolute_error: 159.9427 - val_loss: 80269.4141 - val_mean_absolute_error: 183.0809\n",
      "Epoch 789/5000\n",
      "3/3 - 0s - loss: 52949.6016 - mean_absolute_error: 176.8744 - val_loss: 74171.2422 - val_mean_absolute_error: 176.7669\n",
      "Epoch 790/5000\n",
      "3/3 - 0s - loss: 55173.1016 - mean_absolute_error: 180.6755 - val_loss: 76817.0156 - val_mean_absolute_error: 177.0676\n",
      "Epoch 791/5000\n",
      "3/3 - 0s - loss: 56131.5820 - mean_absolute_error: 170.4226 - val_loss: 75611.7266 - val_mean_absolute_error: 178.6108\n",
      "Epoch 792/5000\n",
      "3/3 - 0s - loss: 60463.1992 - mean_absolute_error: 185.6175 - val_loss: 74600.6641 - val_mean_absolute_error: 176.1706\n",
      "Epoch 793/5000\n",
      "3/3 - 0s - loss: 37844.6250 - mean_absolute_error: 147.0333 - val_loss: 74880.0156 - val_mean_absolute_error: 179.7086\n",
      "Epoch 794/5000\n",
      "3/3 - 0s - loss: 62670.5039 - mean_absolute_error: 187.4365 - val_loss: 78519.2578 - val_mean_absolute_error: 179.9759\n",
      "Epoch 795/5000\n",
      "3/3 - 0s - loss: 54127.7773 - mean_absolute_error: 160.5339 - val_loss: 82115.9375 - val_mean_absolute_error: 184.9831\n",
      "Epoch 796/5000\n",
      "3/3 - 0s - loss: 40227.7070 - mean_absolute_error: 156.7573 - val_loss: 85576.5938 - val_mean_absolute_error: 190.8981\n",
      "Epoch 797/5000\n",
      "3/3 - 0s - loss: 63285.2188 - mean_absolute_error: 171.7226 - val_loss: 79762.9219 - val_mean_absolute_error: 180.5244\n",
      "Epoch 798/5000\n",
      "3/3 - 0s - loss: 46752.0156 - mean_absolute_error: 165.9065 - val_loss: 87066.0703 - val_mean_absolute_error: 194.5699\n",
      "Epoch 799/5000\n",
      "3/3 - 0s - loss: 59573.0820 - mean_absolute_error: 170.3783 - val_loss: 76780.5547 - val_mean_absolute_error: 178.3494\n",
      "Epoch 800/5000\n",
      "3/3 - 0s - loss: 36619.9023 - mean_absolute_error: 149.3869 - val_loss: 75278.1094 - val_mean_absolute_error: 177.6023\n",
      "Epoch 801/5000\n",
      "3/3 - 0s - loss: 66648.3984 - mean_absolute_error: 188.3414 - val_loss: 75919.4688 - val_mean_absolute_error: 178.5181\n",
      "Epoch 802/5000\n",
      "3/3 - 0s - loss: 52023.7578 - mean_absolute_error: 171.3264 - val_loss: 81787.2109 - val_mean_absolute_error: 184.5643\n",
      "Epoch 803/5000\n",
      "3/3 - 0s - loss: 46508.4844 - mean_absolute_error: 170.1278 - val_loss: 77849.5859 - val_mean_absolute_error: 177.8821\n",
      "Epoch 804/5000\n",
      "3/3 - 0s - loss: 72266.8203 - mean_absolute_error: 176.5110 - val_loss: 77680.8125 - val_mean_absolute_error: 176.9850\n",
      "Epoch 805/5000\n",
      "3/3 - 0s - loss: 66274.4453 - mean_absolute_error: 175.1813 - val_loss: 83689.2266 - val_mean_absolute_error: 187.4337\n",
      "Epoch 806/5000\n",
      "3/3 - 0s - loss: 62484.8750 - mean_absolute_error: 173.9989 - val_loss: 78734.7578 - val_mean_absolute_error: 178.9813\n",
      "Epoch 807/5000\n",
      "3/3 - 0s - loss: 61559.3008 - mean_absolute_error: 175.1187 - val_loss: 80884.8359 - val_mean_absolute_error: 185.0244\n",
      "Epoch 808/5000\n",
      "3/3 - 0s - loss: 45612.0273 - mean_absolute_error: 169.3133 - val_loss: 74880.5859 - val_mean_absolute_error: 176.5440\n",
      "Epoch 809/5000\n",
      "3/3 - 0s - loss: 68335.7656 - mean_absolute_error: 188.4472 - val_loss: 77687.0547 - val_mean_absolute_error: 179.1628\n",
      "Epoch 810/5000\n",
      "3/3 - 0s - loss: 78851.0078 - mean_absolute_error: 191.2736 - val_loss: 76775.0547 - val_mean_absolute_error: 177.9985\n",
      "Epoch 811/5000\n",
      "3/3 - 0s - loss: 54692.5273 - mean_absolute_error: 174.6514 - val_loss: 75758.8125 - val_mean_absolute_error: 175.1790\n",
      "Epoch 812/5000\n",
      "3/3 - 0s - loss: 38898.0820 - mean_absolute_error: 149.4452 - val_loss: 74443.3594 - val_mean_absolute_error: 174.6328\n",
      "Epoch 813/5000\n",
      "3/3 - 0s - loss: 61747.2891 - mean_absolute_error: 192.8535 - val_loss: 80667.9453 - val_mean_absolute_error: 181.3166\n",
      "Epoch 814/5000\n",
      "3/3 - 0s - loss: 68184.1484 - mean_absolute_error: 188.0232 - val_loss: 81775.4141 - val_mean_absolute_error: 183.9331\n",
      "Epoch 815/5000\n",
      "3/3 - 0s - loss: 88213.5312 - mean_absolute_error: 184.1925 - val_loss: 74892.7734 - val_mean_absolute_error: 175.0782\n",
      "Epoch 816/5000\n",
      "3/3 - 0s - loss: 69448.2266 - mean_absolute_error: 190.3151 - val_loss: 80023.8828 - val_mean_absolute_error: 179.6190\n",
      "Epoch 817/5000\n",
      "3/3 - 0s - loss: 49364.3750 - mean_absolute_error: 173.7211 - val_loss: 80849.4453 - val_mean_absolute_error: 182.0389\n",
      "Epoch 818/5000\n",
      "3/3 - 0s - loss: 63401.9180 - mean_absolute_error: 183.1094 - val_loss: 79006.7578 - val_mean_absolute_error: 180.4214\n",
      "Epoch 819/5000\n",
      "3/3 - 0s - loss: 60422.4531 - mean_absolute_error: 183.7813 - val_loss: 80489.2266 - val_mean_absolute_error: 180.2005\n",
      "Epoch 820/5000\n",
      "3/3 - 0s - loss: 41722.5391 - mean_absolute_error: 157.1209 - val_loss: 77295.6406 - val_mean_absolute_error: 177.3383\n",
      "Epoch 821/5000\n",
      "3/3 - 0s - loss: 68868.6172 - mean_absolute_error: 188.0761 - val_loss: 75960.8984 - val_mean_absolute_error: 179.0170\n",
      "Epoch 822/5000\n",
      "3/3 - 0s - loss: 58723.9531 - mean_absolute_error: 174.5348 - val_loss: 81056.1641 - val_mean_absolute_error: 184.0932\n",
      "Epoch 823/5000\n",
      "3/3 - 0s - loss: 65576.9219 - mean_absolute_error: 187.8712 - val_loss: 76728.5391 - val_mean_absolute_error: 177.8589\n",
      "Epoch 824/5000\n",
      "3/3 - 0s - loss: 50365.9297 - mean_absolute_error: 171.4757 - val_loss: 76107.3359 - val_mean_absolute_error: 176.4108\n",
      "Epoch 825/5000\n",
      "3/3 - 0s - loss: 47515.1680 - mean_absolute_error: 161.6327 - val_loss: 80264.4688 - val_mean_absolute_error: 180.8566\n",
      "Epoch 826/5000\n",
      "3/3 - 0s - loss: 47554.5586 - mean_absolute_error: 156.1654 - val_loss: 81724.1016 - val_mean_absolute_error: 185.3444\n",
      "Epoch 827/5000\n",
      "3/3 - 0s - loss: 37098.4375 - mean_absolute_error: 144.7635 - val_loss: 83166.7109 - val_mean_absolute_error: 185.6321\n",
      "Epoch 828/5000\n",
      "3/3 - 0s - loss: 55339.7461 - mean_absolute_error: 174.3134 - val_loss: 78932.0078 - val_mean_absolute_error: 179.1340\n",
      "Epoch 829/5000\n",
      "3/3 - 0s - loss: 45464.4297 - mean_absolute_error: 168.3402 - val_loss: 79932.5938 - val_mean_absolute_error: 180.2632\n",
      "Epoch 830/5000\n",
      "3/3 - 0s - loss: 45922.0703 - mean_absolute_error: 161.1803 - val_loss: 77026.4219 - val_mean_absolute_error: 177.6446\n",
      "Epoch 831/5000\n",
      "3/3 - 0s - loss: 54751.3906 - mean_absolute_error: 175.4868 - val_loss: 76247.9453 - val_mean_absolute_error: 181.7423\n",
      "Epoch 832/5000\n",
      "3/3 - 0s - loss: 68731.8125 - mean_absolute_error: 191.1027 - val_loss: 78769.7422 - val_mean_absolute_error: 177.8963\n",
      "Epoch 833/5000\n",
      "3/3 - 0s - loss: 55580.1445 - mean_absolute_error: 176.5949 - val_loss: 79774.2969 - val_mean_absolute_error: 178.7503\n",
      "Epoch 834/5000\n",
      "3/3 - 0s - loss: 76961.9062 - mean_absolute_error: 197.5329 - val_loss: 76294.2656 - val_mean_absolute_error: 176.7084\n",
      "Epoch 835/5000\n",
      "3/3 - 0s - loss: 48751.9414 - mean_absolute_error: 160.2407 - val_loss: 76972.7500 - val_mean_absolute_error: 176.5626\n",
      "Epoch 836/5000\n",
      "3/3 - 0s - loss: 53095.6445 - mean_absolute_error: 173.4006 - val_loss: 83982.4141 - val_mean_absolute_error: 187.5407\n",
      "Epoch 837/5000\n",
      "3/3 - 0s - loss: 46195.7969 - mean_absolute_error: 163.5776 - val_loss: 76665.4531 - val_mean_absolute_error: 177.8125\n",
      "Epoch 838/5000\n",
      "3/3 - 0s - loss: 58963.0156 - mean_absolute_error: 173.2395 - val_loss: 79858.2969 - val_mean_absolute_error: 181.0215\n",
      "Epoch 839/5000\n",
      "3/3 - 0s - loss: 48417.6445 - mean_absolute_error: 164.1167 - val_loss: 85766.6562 - val_mean_absolute_error: 192.4753\n"
     ]
    }
   ],
   "source": [
    "model.compile(loss=\"mse\", optimizer=\"rmsprop\", metrics=[\"mean_absolute_error\"])\n",
    "early_stopping_callback = tf.keras.callbacks.EarlyStopping(monitor='val_loss', patience=50)\n",
    "history = model.fit(\n",
    "    X_train,\n",
    "    y_train,\n",
    "    epochs = 5000,  # 1500 me parecía un exceso\n",
    "    batch_size = 32,\n",
    "    validation_data = (X_test, y_test),\n",
    "    verbose=2,\n",
    "    callbacks=[early_stopping_callback],\n",
    ")"
   ]
  },
  {
   "cell_type": "markdown",
   "metadata": {
    "id": "uDGXOOxrzPYh"
   },
   "source": [
    "```R\n",
    "modnn %>% compile(loss = \"mse\",\n",
    "                  optimizer = optimizer_rmsprop(),\n",
    "                  metrics = list(\"mean_absolute_error\")\n",
    ")\n",
    "\n",
    "history <- modnn %>% fit(\n",
    "  x[-testid, ], y[-testid], epochs = 1500, batch_size = 32,\n",
    "  validation_data = list(x[testid, ], y[testid])\n",
    ")\n",
    "```"
   ]
  },
  {
   "cell_type": "code",
   "execution_count": 49,
   "metadata": {},
   "outputs": [
    {
     "name": "stdout",
     "output_type": "stream",
     "text": [
      "3/3 [==============================] - 0s 1ms/step - loss: 85766.6562 - mean_absolute_error: 192.4753\n"
     ]
    },
    {
     "data": {
      "text/plain": [
       "[85766.65625, 192.47528076171875]"
      ]
     },
     "execution_count": 49,
     "metadata": {},
     "output_type": "execute_result"
    }
   ],
   "source": [
    "model.evaluate(X_test, y_test)"
   ]
  },
  {
   "cell_type": "code",
   "execution_count": 50,
   "metadata": {},
   "outputs": [],
   "source": [
    "df_history = pd.DataFrame(history.history)"
   ]
  },
  {
   "cell_type": "code",
   "execution_count": 55,
   "metadata": {},
   "outputs": [
    {
     "data": {
      "image/png": "[encoded data removed]",
      "text/plain": [
       "<Figure size 1440x432 with 2 Axes>"
      ]
     },
     "metadata": {
      "needs_background": "light"
     },
     "output_type": "display_data"
    }
   ],
   "source": [
    "import matplotlib.pyplot as plt\n",
    "import seaborn as sns\n",
    "plt.figure(figsize=(20, 6))\n",
    "plt.subplot(1, 2, 1)\n",
    "sns.lineplot(data=df_history.loss, label=\"training\")\n",
    "sns.lineplot(data=df_history.val_loss, label=\"validation\")\n",
    "plt.subplot(1, 2, 2)\n",
    "sns.lineplot(data=df_history.mean_absolute_error, label=\"training\")\n",
    "sns.lineplot(data=df_history.val_mean_absolute_error, label=\"validation\")\n",
    "plt.legend()\n",
    "plt.show()"
   ]
  },
  {
   "cell_type": "markdown",
   "metadata": {
    "colab": {
     "base_uri": "https://localhost:8080/",
     "height": 472
    },
    "id": "L57FWerzzarb",
    "outputId": "180cc581-1672-4a83-c63d-35655b459c08"
   },
   "source": [
    "```R\n",
    "plot(history)\n",
    "```"
   ]
  },
  {
   "cell_type": "markdown",
   "metadata": {
    "id": "IbO7P5Rf1kZH"
   },
   "source": [
    "Por último, predecimos a partir del modelo final, y evaluamos su rendimiento\n",
    "en los datos de prueba. \n",
    "\n",
    "Debido al uso de SGD, los resultados varían ligeramente con cada\n",
    "ajuste. \n",
    "\n",
    "Lamentablemente, la función `set.seed()` no garantiza resultados idénticos (ya que el ajuste se realiza en Python), por lo que los resultados serán ligeramente diferentes."
   ]
  },
  {
   "cell_type": "markdown",
   "metadata": {
    "colab": {
     "base_uri": "https://localhost:8080/",
     "height": 34
    },
    "id": "X72VYAH3zauv",
    "outputId": "c122009d-1b92-4a83-f72d-7120d9a5bd61"
   },
   "source": [
    "```R\n",
    "npred <- predict(modnn, x[testid, ])\n",
    "mean(abs(y[testid] - npred))\n",
    "```"
   ]
  },
  {
   "cell_type": "code",
   "execution_count": 56,
   "metadata": {},
   "outputs": [],
   "source": [
    "y_pred = model.predict(X_test)"
   ]
  },
  {
   "cell_type": "code",
   "execution_count": 57,
   "metadata": {},
   "outputs": [
    {
     "data": {
      "text/plain": [
       "192.4752963586566"
      ]
     },
     "execution_count": 57,
     "metadata": {},
     "output_type": "execute_result"
    }
   ],
   "source": [
    "mae(y_test, y_pred)"
   ]
  },
  {
   "cell_type": "markdown",
   "metadata": {
    "id": "DOrZjqSK1rBc"
   },
   "source": [
    "# Red neuronal multicapa (MNIST)"
   ]
  },
  {
   "cell_type": "markdown",
   "metadata": {
    "id": "bv-w3sxl2nyJ"
   },
   "source": [
    "El paquete `keras` viene con un número de conjuntos de datos de ejemplo, \n",
    "incluyendo los datos de dígitos de MNIST. \n",
    "\n",
    "Nuestro primer paso es cargar los datos MNIST con la función `dataset_mnist()`."
   ]
  },
  {
   "cell_type": "code",
   "execution_count": 58,
   "metadata": {},
   "outputs": [],
   "source": [
    "mnist = keras.datasets.mnist.load_data()"
   ]
  },
  {
   "cell_type": "code",
   "execution_count": 59,
   "metadata": {},
   "outputs": [],
   "source": [
    "(X_train, y_train), (X_test, y_test) = mnist"
   ]
  },
  {
   "cell_type": "code",
   "execution_count": 60,
   "metadata": {},
   "outputs": [
    {
     "data": {
      "image/png": "[encoded data removed]",
      "text/plain": [
       "<Figure size 432x288 with 1 Axes>"
      ]
     },
     "metadata": {
      "needs_background": "light"
     },
     "output_type": "display_data"
    }
   ],
   "source": [
    "plt.imshow(X_train[4], cmap=\"Greys\")\n",
    "plt.title(f\"Esta imagen tiene un {y_train[4]}\")\n",
    "plt.show()"
   ]
  },
  {
   "cell_type": "code",
   "execution_count": 61,
   "metadata": {},
   "outputs": [
    {
     "data": {
      "text/plain": [
       "((60000, 28, 28), (10000, 28, 28))"
      ]
     },
     "execution_count": 61,
     "metadata": {},
     "output_type": "execute_result"
    }
   ],
   "source": [
    "X_train.shape, X_test.shape"
   ]
  },
  {
   "cell_type": "markdown",
   "metadata": {
    "colab": {
     "base_uri": "https://localhost:8080/",
     "height": 52
    },
    "id": "jPjutFdG2oNZ",
    "outputId": "8de5d748-8d31-4a3d-c29b-4d5d875b8416"
   },
   "source": [
    "```\n",
    "library(keras)\n",
    "mnist <- dataset_mnist()\n",
    "x_train <- mnist$train$x\n",
    "g_train <- mnist$train$y\n",
    "x_test <- mnist$test$x\n",
    "g_test <- mnist$test$y\n",
    "dim(x_train)\n",
    "dim(x_test)\n",
    "```"
   ]
  },
  {
   "cell_type": "code",
   "execution_count": 62,
   "metadata": {},
   "outputs": [
    {
     "data": {
      "text/plain": [
       "(0.0, 6.408263e-05, 1.0)"
      ]
     },
     "execution_count": 62,
     "metadata": {},
     "output_type": "execute_result"
    }
   ],
   "source": [
    "x = keras.layers.experimental.preprocessing.Rescaling(1.0 / 255)(X_train[:, :, 1])\n",
    "x = layers.Flatten()(x)\n",
    "x = tf.constant(x)\n",
    "x.numpy().min(), x.numpy().mean(), x.numpy().max()"
   ]
  },
  {
   "cell_type": "code",
   "execution_count": 63,
   "metadata": {},
   "outputs": [
    {
     "name": "stdout",
     "output_type": "stream",
     "text": [
      "Model: \"model_1\"\n",
      "_________________________________________________________________\n",
      "Layer (type)                 Output Shape              Param #   \n",
      "=================================================================\n",
      "input_2 (InputLayer)         [(None, 28, 28)]          0         \n",
      "_________________________________________________________________\n",
      "rescaling_3 (Rescaling)      (None, 28, 28)            0         \n",
      "_________________________________________________________________\n",
      "flatten_3 (Flatten)          (None, 784)               0         \n",
      "_________________________________________________________________\n",
      "dense_7 (Dense)              (None, 256)               200960    \n",
      "_________________________________________________________________\n",
      "dropout_4 (Dropout)          (None, 256)               0         \n",
      "_________________________________________________________________\n",
      "dense_8 (Dense)              (None, 128)               32896     \n",
      "_________________________________________________________________\n",
      "dropout_5 (Dropout)          (None, 128)               0         \n",
      "_________________________________________________________________\n",
      "dense_9 (Dense)              (None, 10)                1290      \n",
      "=================================================================\n",
      "Total params: 235,146\n",
      "Trainable params: 235,146\n",
      "Non-trainable params: 0\n",
      "_________________________________________________________________\n",
      "Fit on NumPy data\n",
      "Epoch 1/20\n",
      "938/938 [==============================] - 2s 2ms/step - loss: 0.6014 - accuracy: 0.8129 - val_loss: 0.1378 - val_accuracy: 0.9595\n",
      "Epoch 2/20\n",
      "938/938 [==============================] - 2s 2ms/step - loss: 0.1832 - accuracy: 0.9448 - val_loss: 0.0948 - val_accuracy: 0.9706\n",
      "Epoch 3/20\n",
      "938/938 [==============================] - 2s 2ms/step - loss: 0.1379 - accuracy: 0.9580 - val_loss: 0.0856 - val_accuracy: 0.9740\n",
      "Epoch 4/20\n",
      "938/938 [==============================] - 2s 2ms/step - loss: 0.1144 - accuracy: 0.9654 - val_loss: 0.0803 - val_accuracy: 0.9752\n",
      "Epoch 5/20\n",
      "938/938 [==============================] - 2s 2ms/step - loss: 0.1059 - accuracy: 0.9676 - val_loss: 0.0802 - val_accuracy: 0.9761\n",
      "Epoch 6/20\n",
      "938/938 [==============================] - 2s 2ms/step - loss: 0.0895 - accuracy: 0.9731 - val_loss: 0.0701 - val_accuracy: 0.9772\n",
      "Epoch 7/20\n",
      "938/938 [==============================] - 2s 2ms/step - loss: 0.0868 - accuracy: 0.9728 - val_loss: 0.0726 - val_accuracy: 0.9789\n",
      "Epoch 8/20\n",
      "938/938 [==============================] - 2s 2ms/step - loss: 0.0765 - accuracy: 0.9757 - val_loss: 0.0634 - val_accuracy: 0.9800\n",
      "Epoch 9/20\n",
      "938/938 [==============================] - 2s 2ms/step - loss: 0.0700 - accuracy: 0.9772 - val_loss: 0.0778 - val_accuracy: 0.9786\n",
      "Epoch 10/20\n",
      "938/938 [==============================] - 2s 2ms/step - loss: 0.0707 - accuracy: 0.9776 - val_loss: 0.0618 - val_accuracy: 0.9808\n",
      "Epoch 11/20\n",
      "938/938 [==============================] - 2s 2ms/step - loss: 0.0672 - accuracy: 0.9785 - val_loss: 0.0703 - val_accuracy: 0.9791\n",
      "Epoch 12/20\n",
      "938/938 [==============================] - 2s 2ms/step - loss: 0.0640 - accuracy: 0.9796 - val_loss: 0.0665 - val_accuracy: 0.9813\n",
      "Epoch 13/20\n",
      "938/938 [==============================] - 2s 2ms/step - loss: 0.0589 - accuracy: 0.9814 - val_loss: 0.0698 - val_accuracy: 0.9802\n",
      "Epoch 14/20\n",
      "938/938 [==============================] - 2s 2ms/step - loss: 0.0569 - accuracy: 0.9822 - val_loss: 0.0643 - val_accuracy: 0.9827\n",
      "Epoch 15/20\n",
      "938/938 [==============================] - 2s 2ms/step - loss: 0.0568 - accuracy: 0.9813 - val_loss: 0.0612 - val_accuracy: 0.9823\n",
      "Epoch 16/20\n",
      "938/938 [==============================] - 2s 2ms/step - loss: 0.0507 - accuracy: 0.9832 - val_loss: 0.0645 - val_accuracy: 0.9826\n",
      "Epoch 17/20\n",
      "938/938 [==============================] - 2s 2ms/step - loss: 0.0489 - accuracy: 0.9841 - val_loss: 0.0687 - val_accuracy: 0.9827\n",
      "Epoch 18/20\n",
      "938/938 [==============================] - 2s 2ms/step - loss: 0.0520 - accuracy: 0.9831 - val_loss: 0.0686 - val_accuracy: 0.9817\n",
      "Epoch 19/20\n",
      "938/938 [==============================] - 2s 2ms/step - loss: 0.0472 - accuracy: 0.9847 - val_loss: 0.0741 - val_accuracy: 0.9800\n",
      "Epoch 20/20\n",
      "938/938 [==============================] - 2s 2ms/step - loss: 0.0482 - accuracy: 0.9846 - val_loss: 0.0664 - val_accuracy: 0.9828\n"
     ]
    }
   ],
   "source": [
    "# Get the data as Numpy arrays\n",
    "(x_train, y_train), (x_test, y_test) = keras.datasets.mnist.load_data()\n",
    "\n",
    "# Build a simple model\n",
    "inputs = keras.Input(shape=(28, 28))\n",
    "\n",
    "x = keras.layers.experimental.preprocessing.Rescaling(1.0 / 255)(inputs)\n",
    "x = layers.Flatten()(x)\n",
    "x = layers.Dense(256, activation=\"relu\")(x)\n",
    "x = layers.Dropout(rate=0.4)(x)\n",
    "x = layers.Dense(128, activation=\"relu\")(x)\n",
    "x = layers.Dropout(rate=0.3)(x)\n",
    "outputs = layers.Dense(10, activation=\"softmax\")(x)\n",
    "model = keras.Model(inputs, outputs)\n",
    "model.summary()\n",
    "\n",
    "# Compile the model\n",
    "model.compile(optimizer=\"adam\", loss=\"sparse_categorical_crossentropy\", metrics=[\"accuracy\"])\n",
    "\n",
    "# Train the model for 1 epoch from Numpy data\n",
    "batch_size = 64\n",
    "print(\"Fit on NumPy data\")\n",
    "history = model.fit(x_train, y_train, batch_size=batch_size, validation_data=(x_test, y_test), epochs=20)"
   ]
  },
  {
   "cell_type": "code",
   "execution_count": 64,
   "metadata": {},
   "outputs": [],
   "source": [
    "df_history = pd.DataFrame(history.history)"
   ]
  },
  {
   "cell_type": "code",
   "execution_count": 65,
   "metadata": {},
   "outputs": [
    {
     "data": {
      "image/png": "[encoded data removed]",
      "text/plain": [
       "<Figure size 1440x432 with 2 Axes>"
      ]
     },
     "metadata": {
      "needs_background": "light"
     },
     "output_type": "display_data"
    }
   ],
   "source": [
    "import matplotlib.pyplot as plt\n",
    "import seaborn as sns\n",
    "plt.figure(figsize=(20, 6))\n",
    "plt.subplot(1, 2, 1)\n",
    "sns.lineplot(data=df_history.loss, label=\"training\")\n",
    "sns.lineplot(data=df_history.val_loss, label=\"validation\")\n",
    "plt.subplot(1, 2, 2)\n",
    "sns.lineplot(data=df_history.accuracy, label=\"training\")\n",
    "sns.lineplot(data=df_history.val_accuracy, label=\"validation\")\n",
    "plt.legend()\n",
    "plt.show()"
   ]
  },
  {
   "cell_type": "markdown",
   "metadata": {
    "id": "KVCj2RqS2zvw"
   },
   "source": [
    "Hay $60.000$ imágenes en los datos de entrenamiento y $10.000$ en los datos de prueba.\n",
    "\n",
    "Las imágenes son de $28×28$, y se almacenan como una matriz tridimensional, por lo que necesitamos\n",
    "que darles forma de matriz. \n",
    "\n",
    "Además, tenemos que codificar la etiqueta de la clase de una sola vez.\n",
    "etiqueta. \n",
    "\n",
    "Por suerte, Keras tiene un montón de funciones incorporadas que hacen esto por nosotros."
   ]
  },
  {
   "cell_type": "markdown",
   "metadata": {
    "id": "kzWjAvQ3zayy"
   },
   "source": [
    "```R\n",
    "x_train <- array_reshape(x_train, c(nrow(x_train), 784))\n",
    "x_test <- array_reshape(x_test, c(nrow(x_test), 784))\n",
    "y_train <- to_categorical(g_train, 10)\n",
    "y_test <- to_categorical(g_test, 10)\n",
    "```"
   ]
  },
  {
   "cell_type": "markdown",
   "metadata": {
    "id": "mivQYA4A22-T"
   },
   "source": [
    "Las redes neuronales son sensibles a la escala de las entradas. Por ejemplo, la regularización de *ridge* y de *lasso* se ve afectada por la escala. En este caso, las entradas son valores de escala de grises de ocho bits entre $0$ y $255$, por lo que reescalamos al intervalo de la unidad.\n"
   ]
  },
  {
   "cell_type": "markdown",
   "metadata": {
    "id": "28VqjhR_3Fgt"
   },
   "source": [
    "```R\n",
    "x_train <- x_train / 255\n",
    "x_test <- x_test / 255\n",
    "```"
   ]
  },
  {
   "cell_type": "markdown",
   "metadata": {
    "id": "VZsftUh43HEQ"
   },
   "source": [
    "Ajustamos la red neuronal:"
   ]
  },
  {
   "cell_type": "markdown",
   "metadata": {
    "id": "cBYtpmmX3I6B"
   },
   "source": [
    "```R\n",
    "modelnn <- keras_model_sequential()\n",
    "\n",
    "modelnn %>% layer_dense(units = 256, \n",
    "                        activation = \"relu\",\n",
    "                        input_shape = c(784)) %>%\n",
    "            layer_dropout(rate = 0.4) %>%\n",
    "            layer_dense(units = 128, activation = \"relu\") %>%\n",
    "            layer_dropout(rate = 0.3) %>%\n",
    "            layer_dense(units = 10, activation = \"softmax\")\n",
    "```"
   ]
  },
  {
   "cell_type": "markdown",
   "metadata": {
    "id": "NNS3I5LN3M6y"
   },
   "source": [
    "*Summary* del modelo:\n"
   ]
  },
  {
   "cell_type": "code",
   "execution_count": null,
   "metadata": {
    "colab": {
     "base_uri": "https://localhost:8080/"
    },
    "id": "IRXJH67w3O9C",
    "outputId": "e73aae29-84dc-47fe-a077-69e1ed45c023"
   },
   "outputs": [
    {
     "name": "stdout",
     "output_type": "stream",
     "text": [
      "Model: \"sequential_2\"\n",
      "________________________________________________________________________________\n",
      " Layer (type)                       Output Shape                    Param #     \n",
      "================================================================================\n",
      " dense_6 (Dense)                    (None, 256)                     200960      \n",
      "                                                                                \n",
      " dropout_3 (Dropout)                (None, 256)                     0           \n",
      "                                                                                \n",
      " dense_5 (Dense)                    (None, 128)                     32896       \n",
      "                                                                                \n",
      " dropout_2 (Dropout)                (None, 128)                     0           \n",
      "                                                                                \n",
      " dense_4 (Dense)                    (None, 10)                      1290        \n",
      "                                                                                \n",
      "================================================================================\n",
      "Total params: 235,146\n",
      "Trainable params: 235,146\n",
      "Non-trainable params: 0\n",
      "________________________________________________________________________________\n"
     ]
    }
   ],
   "source": [
    "summary(modelnn)"
   ]
  },
  {
   "cell_type": "markdown",
   "metadata": {
    "id": "d-6MCFTO3WfX"
   },
   "source": [
    "Los parámetros de cada capa incluyen un término de sesgo, lo que da lugar a un\n",
    "número de parámetros de $235146$. \n",
    "\n",
    "Por ejemplo, la primera capa oculta implica $(784 + 1) × 256 = 200.960$ parámetros."
   ]
  },
  {
   "cell_type": "markdown",
   "metadata": {
    "id": "rqcNbD_O3YeM"
   },
   "source": [
    "Minimizamos la *cross-entropy*:"
   ]
  },
  {
   "cell_type": "markdown",
   "metadata": {
    "id": "sE0qhc7_3Y7V"
   },
   "source": [
    "```R\n",
    "modelnn %>% compile(loss = \"categorical_crossentropy\",\n",
    "                    optimizer = optimizer_rmsprop(),\n",
    "                    metrics = c(\"accuracy\"))\n",
    "```"
   ]
  },
  {
   "cell_type": "markdown",
   "metadata": {
    "id": "y63KllY83bA0"
   },
   "source": [
    "Entrenamos el modelo:"
   ]
  },
  {
   "cell_type": "markdown",
   "metadata": {
    "colab": {
     "base_uri": "https://localhost:8080/",
     "height": 472
    },
    "id": "YXESbPC23dbi",
    "outputId": "3adb00f1-57a6-48f5-ecaf-7e86ccf41e08"
   },
   "source": [
    "```R\n",
    "system.time(\n",
    "  history <- modelnn %>% fit(x_train, y_train, \n",
    "                             epochs = 30, \n",
    "                             batch_size = 128,\n",
    "                             validation_split = 0.2)\n",
    ")\n",
    "```"
   ]
  },
  {
   "cell_type": "code",
   "execution_count": null,
   "metadata": {
    "colab": {
     "base_uri": "https://localhost:8080/",
     "height": 472
    },
    "id": "YXESbPC23dbi",
    "outputId": "3adb00f1-57a6-48f5-ecaf-7e86ccf41e08"
   },
   "outputs": [
    {
     "data": {
      "text/plain": [
       "   user  system elapsed \n",
       "146.839  10.264 142.755 "
      ]
     },
     "metadata": {},
     "output_type": "display_data"
    },
    {
     "data": {
      "image/png": "[encoded data removed]",
      "text/plain": [
       "plot without title"
      ]
     },
     "metadata": {
      "image/png": {
       "height": 420,
       "width": 420
      }
     },
     "output_type": "display_data"
    }
   ],
   "source": [
    "plot(history, smooth = FALSE)"
   ]
  },
  {
   "cell_type": "markdown",
   "metadata": {
    "id": "JmJSFpkb3joC"
   },
   "source": [
    "* El entrenamiento se realiza con el $80%$ de las $60000$ observaciones.\n",
    "* El SGD utiliza lotes de $128$ observaciones para calcular el gradiente. Una época corresponde a 375 pasos."
   ]
  },
  {
   "cell_type": "markdown",
   "metadata": {
    "id": "jZM4-OiWmxzj"
   },
   "source": [
    "Evaluamos nuestras predicciones:"
   ]
  },
  {
   "cell_type": "code",
   "execution_count": 67,
   "metadata": {},
   "outputs": [
    {
     "data": {
      "text/plain": [
       "0.9828"
      ]
     },
     "execution_count": 67,
     "metadata": {},
     "output_type": "execute_result"
    }
   ],
   "source": [
    "def accuracy(pred, truth):\n",
    "    return np.mean(pred == truth)\n",
    "\n",
    "y_pred = model.predict(X_test)  # Esta es simplemente la capa de salida de la RN\n",
    "y_pred = np.argmax(y_pred, axis=1)  # Aquí predecimos según el valor de máxima activación\n",
    "accuracy(y_pred, y_test)"
   ]
  },
  {
   "cell_type": "markdown",
   "metadata": {},
   "source": [
    "¿Qué ejemplos están mal clasificados?"
   ]
  },
  {
   "cell_type": "code",
   "execution_count": 68,
   "metadata": {},
   "outputs": [
    {
     "data": {
      "image/png": "[encoded data removed]",
      "text/plain": [
       "<Figure size 1008x504 with 18 Axes>"
      ]
     },
     "metadata": {
      "needs_background": "light"
     },
     "output_type": "display_data"
    }
   ],
   "source": [
    "wrongs = np.where(y_pred != y_test)[0]  # Recupera los índices de las obsveraciones mal clasificadas\n",
    "fig, axs = plt.subplots(3, 6, figsize=(14, 7))\n",
    "for idx, ax in zip(  # `zip` aparea los elementos de\n",
    "    np.random.choice(wrongs, 18, replace=False),  #  los índices de 18 dígitos mal clasificados\n",
    "    fig.axes  # con los 3 * 6 = 18 \"subplots\" recién creados\n",
    "):\n",
    "    ax.imshow(X_test[idx], cmap=\"Greys\")\n",
    "    ax.set_title(f\"Pred: {y_pred[idx]} (was: {y_test[idx]})\")\n",
    "    ax.axis(\"off\")\n",
    "plt.show()"
   ]
  },
  {
   "cell_type": "markdown",
   "metadata": {
    "id": "IZa1almL3lzb"
   },
   "source": [
    "```R\n",
    "accuracy <- function(pred, truth)\n",
    "mean(drop(pred) == drop(truth))\n",
    "\n",
    "modelnn %>% predict_classes(x_test) %>% accuracy(g_test)\n",
    "```"
   ]
  },
  {
   "cell_type": "markdown",
   "metadata": {
    "id": "YOzbIO6v3qch"
   },
   "source": [
    "Para ajustar una regresión logística basta con omitir la capa oculta.\n",
    "\n",
    "(`glmnet` es más lento para un dataset grande)"
   ]
  },
  {
   "cell_type": "markdown",
   "metadata": {
    "id": "c2a4O7rj3tRY"
   },
   "source": [
    "```R\n",
    "modellr <- keras_model_sequential() % >%\n",
    "  layer_dense(input_shape = 784, units = 10,\n",
    "  activation = \"softmax\")\n",
    "summary(modellr)\n",
    "```"
   ]
  },
  {
   "cell_type": "code",
   "execution_count": 70,
   "metadata": {},
   "outputs": [
    {
     "name": "stdout",
     "output_type": "stream",
     "text": [
      "Model: \"sequential_2\"\n",
      "_________________________________________________________________\n",
      "Layer (type)                 Output Shape              Param #   \n",
      "=================================================================\n",
      "rescaling_4 (Rescaling)      (None, 28, 28)            0         \n",
      "_________________________________________________________________\n",
      "flatten_4 (Flatten)          (None, 784)               0         \n",
      "_________________________________________________________________\n",
      "dense_10 (Dense)             (None, 10)                7850      \n",
      "=================================================================\n",
      "Total params: 7,850\n",
      "Trainable params: 7,850\n",
      "Non-trainable params: 0\n",
      "_________________________________________________________________\n"
     ]
    }
   ],
   "source": [
    "# Build a simple model\n",
    "model = keras.Sequential()\n",
    "model.add(keras.layers.experimental.preprocessing.Rescaling(1.0 / 255, input_shape=X_train.shape[1:]))\n",
    "model.add(layers.Flatten())\n",
    "model.add(layers.Dense(units=10, activation=\"softmax\"))\n",
    "model.summary()"
   ]
  },
  {
   "cell_type": "code",
   "execution_count": 76,
   "metadata": {},
   "outputs": [],
   "source": [
    "from sklearn import preprocessing\n",
    "binarizer = preprocessing.LabelBinarizer().fit(y_train)"
   ]
  },
  {
   "cell_type": "code",
   "execution_count": 72,
   "metadata": {},
   "outputs": [],
   "source": [
    "model.compile(\n",
    "    loss=\"categorical_crossentropy\",\n",
    "    optimizer=\"rmsprop\",\n",
    "    metrics=[\"accuracy\"]\n",
    ")\n",
    "early_stopping_callback = tf.keras.callbacks.EarlyStopping(monitor='val_loss', patience=10)\n",
    "history = model.fit(\n",
    "    X_train,\n",
    "    binarizer.transform(y_train),\n",
    "    epochs = 100,\n",
    "    batch_size = 128,\n",
    "    validation_data = (X_test, binarizer.transform(y_test)),\n",
    "    verbose=0,\n",
    "    callbacks=[early_stopping_callback],\n",
    ")"
   ]
  },
  {
   "cell_type": "code",
   "execution_count": 73,
   "metadata": {},
   "outputs": [
    {
     "data": {
      "text/plain": [
       "0.9279"
      ]
     },
     "execution_count": 73,
     "metadata": {},
     "output_type": "execute_result"
    }
   ],
   "source": [
    "# y_pred = model.predict_classes(X_test)\n",
    "# keras advierte que `Sequential.predict_classes` está por deprecarse y sugiere\n",
    "y_pred = np.argmax(model.predict(X_test), axis=-1)\n",
    "accuracy(y_pred, y_test)"
   ]
  },
  {
   "cell_type": "code",
   "execution_count": 77,
   "metadata": {},
   "outputs": [],
   "source": [
    "df_history = pd.DataFrame(history.history)"
   ]
  },
  {
   "cell_type": "code",
   "execution_count": 78,
   "metadata": {},
   "outputs": [
    {
     "data": {
      "image/png": "[encoded data removed]",
      "text/plain": [
       "<Figure size 1440x432 with 2 Axes>"
      ]
     },
     "metadata": {
      "needs_background": "light"
     },
     "output_type": "display_data"
    }
   ],
   "source": [
    "import matplotlib.pyplot as plt\n",
    "import seaborn as sns\n",
    "plt.figure(figsize=(20, 6))\n",
    "plt.subplot(1, 2, 1)\n",
    "sns.lineplot(data=df_history.loss, label=\"training\")\n",
    "sns.lineplot(data=df_history.val_loss, label=\"validation\")\n",
    "plt.subplot(1, 2, 2)\n",
    "sns.lineplot(data=df_history.accuracy, label=\"training\")\n",
    "sns.lineplot(data=df_history.val_accuracy, label=\"validation\")\n",
    "plt.legend()\n",
    "plt.show()"
   ]
  },
  {
   "cell_type": "markdown",
   "metadata": {
    "id": "ChpqEqWY3uoO"
   },
   "source": [
    "Ajustamos el modelo."
   ]
  },
  {
   "cell_type": "markdown",
   "metadata": {
    "id": "xD8JGgAM3wWW"
   },
   "source": [
    "```R\n",
    "modellr %>% compile(loss = \"categorical_crossentropy\",\n",
    "                    optimizer = optimizer_rmsprop(), \n",
    "                    metrics = c(\"accuracy\"))\n",
    "modellr %>% fit(x_train, y_train, \n",
    "                epochs = 30,\n",
    "                batch_size = 128, \n",
    "                validation_split = 0.2)\n",
    "modellr %>% predict_classes(x_test) \n",
    "        %>% accuracy(g_test)\n",
    "```"
   ]
  },
  {
   "cell_type": "code",
   "execution_count": 101,
   "metadata": {},
   "outputs": [],
   "source": [
    "flat_X_train = np.reshape(X_train, (-1, 28 * 28)) / 255\n",
    "flat_X_test = np.reshape(X_test, (-1, 28 * 28)) / 255"
   ]
  },
  {
   "cell_type": "code",
   "execution_count": 102,
   "metadata": {},
   "outputs": [],
   "source": [
    "from sklearn.linear_model import LogisticRegression"
   ]
  },
  {
   "cell_type": "code",
   "execution_count": 118,
   "metadata": {},
   "outputs": [],
   "source": [
    "mn_mod = LogisticRegression(multi_class=\"multinomial\", max_iter=500)\n",
    "mn_fit = mn_mod.fit(flat_X_train[:10000], y_train[:10000])"
   ]
  },
  {
   "cell_type": "code",
   "execution_count": 119,
   "metadata": {},
   "outputs": [
    {
     "data": {
      "text/plain": [
       "0.9051"
      ]
     },
     "execution_count": 119,
     "metadata": {},
     "output_type": "execute_result"
    }
   ],
   "source": [
    "accuracy(mn_fit.predict(flat_X_test), y_test)"
   ]
  },
  {
   "cell_type": "markdown",
   "metadata": {
    "id": "Hz5Dkg162d4k"
   },
   "source": [
    "# Ejercicio"
   ]
  },
  {
   "cell_type": "markdown",
   "metadata": {
    "id": "N0rn_dbz2hOu"
   },
   "source": [
    "Ajustar una red neuronal a los datos `Default`: \n",
    "* Utilice una sola capa oculta\n",
    "con $10$ unidades, y regularización de *dropout*. \n",
    "* Compare el rendimiento de clasificación de su modelo con una regresión logística."
   ]
  },
  {
   "cell_type": "code",
   "execution_count": 159,
   "metadata": {},
   "outputs": [],
   "source": [
    "default = pd.read_csv(\"../data/default.csv\")"
   ]
  },
  {
   "cell_type": "code",
   "execution_count": 160,
   "metadata": {
    "id": "KbJWd4pZ2goU"
   },
   "outputs": [],
   "source": [
    "for col in [\"default\", \"student\"]:  # codifico binariamente los dos vectores Yes/No\n",
    "    default[col] = np.array(default[col] == \"Yes\", dtype=int)\n",
    "y = default.default\n",
    "X = default.drop(columns=\"default\")"
   ]
  },
  {
   "cell_type": "code",
   "execution_count": 161,
   "metadata": {},
   "outputs": [],
   "source": [
    "from sklearn.model_selection import train_test_split"
   ]
  },
  {
   "cell_type": "code",
   "execution_count": 162,
   "metadata": {},
   "outputs": [
    {
     "data": {
      "text/plain": [
       "(10000, 3)"
      ]
     },
     "execution_count": 162,
     "metadata": {},
     "output_type": "execute_result"
    }
   ],
   "source": [
    "X.shape"
   ]
  },
  {
   "cell_type": "code",
   "execution_count": 163,
   "metadata": {},
   "outputs": [],
   "source": [
    "X_train, X_test, y_train, y_test = train_test_split(X, y, test_size=0.8)"
   ]
  },
  {
   "cell_type": "code",
   "execution_count": 172,
   "metadata": {},
   "outputs": [
    {
     "name": "stdout",
     "output_type": "stream",
     "text": [
      "Model: \"sequential_7\"\n",
      "_________________________________________________________________\n",
      "Layer (type)                 Output Shape              Param #   \n",
      "=================================================================\n",
      "dense_19 (Dense)             (None, 10)                40        \n",
      "_________________________________________________________________\n",
      "dropout_10 (Dropout)         (None, 10)                0         \n",
      "_________________________________________________________________\n",
      "dense_20 (Dense)             (None, 1)                 11        \n",
      "=================================================================\n",
      "Total params: 51\n",
      "Trainable params: 51\n",
      "Non-trainable params: 0\n",
      "_________________________________________________________________\n"
     ]
    }
   ],
   "source": [
    "model = keras.Sequential()\n",
    "model.add(layers.Dense(units=10, activation=\"relu\", input_shape=X.shape[1:]))\n",
    "model.add(layers.Dropout(0.3))\n",
    "model.add(layers.Dense(1, activation='sigmoid'))\n",
    "model.summary()"
   ]
  },
  {
   "cell_type": "code",
   "execution_count": 182,
   "metadata": {
    "collapsed": true,
    "jupyter": {
     "outputs_hidden": true
    }
   },
   "outputs": [
    {
     "name": "stdout",
     "output_type": "stream",
     "text": [
      "Epoch 1/1000\n",
      "16/16 - 0s - loss: 3658.7952 - accuracy: 0.1220 - val_loss: 3334.7600 - val_accuracy: 0.0336\n",
      "Epoch 2/1000\n",
      "16/16 - 0s - loss: 3091.6819 - accuracy: 0.1090 - val_loss: 2845.8789 - val_accuracy: 0.0336\n",
      "Epoch 3/1000\n",
      "16/16 - 0s - loss: 2689.4519 - accuracy: 0.1130 - val_loss: 2409.0828 - val_accuracy: 0.0336\n",
      "Epoch 4/1000\n",
      "16/16 - 0s - loss: 2218.2488 - accuracy: 0.1205 - val_loss: 2010.2958 - val_accuracy: 0.0338\n",
      "Epoch 5/1000\n",
      "16/16 - 0s - loss: 1908.4473 - accuracy: 0.2340 - val_loss: 1721.1102 - val_accuracy: 0.0338\n",
      "Epoch 6/1000\n",
      "16/16 - 0s - loss: 1612.6638 - accuracy: 0.3120 - val_loss: 1498.8341 - val_accuracy: 0.0338\n",
      "Epoch 7/1000\n",
      "16/16 - 0s - loss: 1413.7863 - accuracy: 0.3060 - val_loss: 1291.5354 - val_accuracy: 0.0338\n",
      "Epoch 8/1000\n",
      "16/16 - 0s - loss: 1233.2112 - accuracy: 0.3065 - val_loss: 1096.4121 - val_accuracy: 0.0339\n",
      "Epoch 9/1000\n",
      "16/16 - 0s - loss: 1010.2798 - accuracy: 0.3285 - val_loss: 921.7149 - val_accuracy: 0.0339\n",
      "Epoch 10/1000\n",
      "16/16 - 0s - loss: 877.4775 - accuracy: 0.2950 - val_loss: 759.1755 - val_accuracy: 0.0339\n",
      "Epoch 11/1000\n",
      "16/16 - 0s - loss: 706.8822 - accuracy: 0.3090 - val_loss: 616.6294 - val_accuracy: 0.0340\n",
      "Epoch 12/1000\n",
      "16/16 - 0s - loss: 568.3674 - accuracy: 0.3085 - val_loss: 488.7411 - val_accuracy: 0.0341\n",
      "Epoch 13/1000\n",
      "16/16 - 0s - loss: 439.8169 - accuracy: 0.3055 - val_loss: 376.6064 - val_accuracy: 0.0341\n",
      "Epoch 14/1000\n",
      "16/16 - 0s - loss: 342.3707 - accuracy: 0.2925 - val_loss: 278.4019 - val_accuracy: 0.0342\n",
      "Epoch 15/1000\n",
      "16/16 - 0s - loss: 239.7904 - accuracy: 0.3215 - val_loss: 198.1106 - val_accuracy: 0.0345\n",
      "Epoch 16/1000\n",
      "16/16 - 0s - loss: 165.0746 - accuracy: 0.3280 - val_loss: 131.6204 - val_accuracy: 0.0345\n",
      "Epoch 17/1000\n",
      "16/16 - 0s - loss: 107.2535 - accuracy: 0.3105 - val_loss: 79.4127 - val_accuracy: 0.0347\n",
      "Epoch 18/1000\n",
      "16/16 - 0s - loss: 61.9033 - accuracy: 0.3030 - val_loss: 40.3460 - val_accuracy: 0.0354\n",
      "Epoch 19/1000\n",
      "16/16 - 0s - loss: 28.3088 - accuracy: 0.3150 - val_loss: 14.9349 - val_accuracy: 0.0406\n",
      "Epoch 20/1000\n",
      "16/16 - 0s - loss: 7.4648 - accuracy: 0.3270 - val_loss: 0.4544 - val_accuracy: 0.9665\n",
      "Epoch 21/1000\n",
      "16/16 - 0s - loss: 0.2784 - accuracy: 0.9675 - val_loss: 0.1871 - val_accuracy: 0.9665\n",
      "Epoch 22/1000\n",
      "16/16 - 0s - loss: 0.2355 - accuracy: 0.9675 - val_loss: 0.1730 - val_accuracy: 0.9665\n",
      "Epoch 23/1000\n",
      "16/16 - 0s - loss: 0.2344 - accuracy: 0.9675 - val_loss: 0.1692 - val_accuracy: 0.9665\n",
      "Epoch 24/1000\n",
      "16/16 - 0s - loss: 0.2341 - accuracy: 0.9675 - val_loss: 0.1596 - val_accuracy: 0.9665\n",
      "Epoch 25/1000\n",
      "16/16 - 0s - loss: 0.2387 - accuracy: 0.9675 - val_loss: 0.1595 - val_accuracy: 0.9665\n",
      "Epoch 26/1000\n",
      "16/16 - 0s - loss: 0.2438 - accuracy: 0.9675 - val_loss: 0.1585 - val_accuracy: 0.9665\n",
      "Epoch 27/1000\n",
      "16/16 - 0s - loss: 0.2315 - accuracy: 0.9675 - val_loss: 0.1697 - val_accuracy: 0.9665\n",
      "Epoch 28/1000\n",
      "16/16 - 0s - loss: 0.2213 - accuracy: 0.9675 - val_loss: 0.1657 - val_accuracy: 0.9665\n",
      "Epoch 29/1000\n",
      "16/16 - 0s - loss: 0.2298 - accuracy: 0.9675 - val_loss: 0.2155 - val_accuracy: 0.9665\n",
      "Epoch 30/1000\n",
      "16/16 - 0s - loss: 0.2333 - accuracy: 0.9675 - val_loss: 0.1618 - val_accuracy: 0.9665\n",
      "Epoch 31/1000\n",
      "16/16 - 0s - loss: 0.2301 - accuracy: 0.9675 - val_loss: 0.2084 - val_accuracy: 0.9665\n",
      "Epoch 32/1000\n",
      "16/16 - 0s - loss: 0.2369 - accuracy: 0.9675 - val_loss: 0.1565 - val_accuracy: 0.9665\n",
      "Epoch 33/1000\n",
      "16/16 - 0s - loss: 0.2159 - accuracy: 0.9675 - val_loss: 0.1617 - val_accuracy: 0.9665\n",
      "Epoch 34/1000\n",
      "16/16 - 0s - loss: 0.2235 - accuracy: 0.9675 - val_loss: 0.1581 - val_accuracy: 0.9665\n",
      "Epoch 35/1000\n",
      "16/16 - 0s - loss: 0.2323 - accuracy: 0.9675 - val_loss: 0.1622 - val_accuracy: 0.9665\n",
      "Epoch 36/1000\n",
      "16/16 - 0s - loss: 0.2310 - accuracy: 0.9675 - val_loss: 0.1562 - val_accuracy: 0.9665\n",
      "Epoch 37/1000\n",
      "16/16 - 0s - loss: 0.2204 - accuracy: 0.9675 - val_loss: 0.1573 - val_accuracy: 0.9665\n",
      "Epoch 38/1000\n",
      "16/16 - 0s - loss: 0.2147 - accuracy: 0.9675 - val_loss: 0.1541 - val_accuracy: 0.9665\n",
      "Epoch 39/1000\n",
      "16/16 - 0s - loss: 0.2144 - accuracy: 0.9675 - val_loss: 0.2978 - val_accuracy: 0.9665\n",
      "Epoch 40/1000\n",
      "16/16 - 0s - loss: 0.2310 - accuracy: 0.9675 - val_loss: 0.1616 - val_accuracy: 0.9665\n",
      "Epoch 41/1000\n",
      "16/16 - 0s - loss: 0.2132 - accuracy: 0.9675 - val_loss: 0.1580 - val_accuracy: 0.9665\n",
      "Epoch 42/1000\n",
      "16/16 - 0s - loss: 0.2140 - accuracy: 0.9675 - val_loss: 0.1536 - val_accuracy: 0.9665\n",
      "Epoch 43/1000\n",
      "16/16 - 0s - loss: 0.2127 - accuracy: 0.9675 - val_loss: 0.1565 - val_accuracy: 0.9665\n",
      "Epoch 44/1000\n",
      "16/16 - 0s - loss: 0.2054 - accuracy: 0.9675 - val_loss: 0.1551 - val_accuracy: 0.9665\n",
      "Epoch 45/1000\n",
      "16/16 - 0s - loss: 0.2084 - accuracy: 0.9675 - val_loss: 0.1518 - val_accuracy: 0.9665\n",
      "Epoch 46/1000\n",
      "16/16 - 0s - loss: 0.2060 - accuracy: 0.9675 - val_loss: 0.1788 - val_accuracy: 0.9665\n",
      "Epoch 47/1000\n",
      "16/16 - 0s - loss: 0.2019 - accuracy: 0.9675 - val_loss: 0.1538 - val_accuracy: 0.9665\n",
      "Epoch 48/1000\n",
      "16/16 - 0s - loss: 0.1893 - accuracy: 0.9675 - val_loss: 0.1528 - val_accuracy: 0.9665\n",
      "Epoch 49/1000\n",
      "16/16 - 0s - loss: 0.2082 - accuracy: 0.9675 - val_loss: 0.1612 - val_accuracy: 0.9665\n",
      "Epoch 50/1000\n",
      "16/16 - 0s - loss: 0.2046 - accuracy: 0.9675 - val_loss: 0.1514 - val_accuracy: 0.9665\n",
      "Epoch 51/1000\n",
      "16/16 - 0s - loss: 0.1986 - accuracy: 0.9675 - val_loss: 0.1519 - val_accuracy: 0.9665\n",
      "Epoch 52/1000\n",
      "16/16 - 0s - loss: 0.1989 - accuracy: 0.9675 - val_loss: 0.1500 - val_accuracy: 0.9665\n",
      "Epoch 53/1000\n",
      "16/16 - 0s - loss: 0.1948 - accuracy: 0.9675 - val_loss: 0.1508 - val_accuracy: 0.9665\n",
      "Epoch 54/1000\n",
      "16/16 - 0s - loss: 0.1914 - accuracy: 0.9675 - val_loss: 0.1493 - val_accuracy: 0.9665\n",
      "Epoch 55/1000\n",
      "16/16 - 0s - loss: 0.1961 - accuracy: 0.9675 - val_loss: 0.1523 - val_accuracy: 0.9665\n",
      "Epoch 56/1000\n",
      "16/16 - 0s - loss: 0.1945 - accuracy: 0.9675 - val_loss: 0.1489 - val_accuracy: 0.9665\n",
      "Epoch 57/1000\n",
      "16/16 - 0s - loss: 0.1901 - accuracy: 0.9675 - val_loss: 0.1533 - val_accuracy: 0.9665\n",
      "Epoch 58/1000\n",
      "16/16 - 0s - loss: 0.2011 - accuracy: 0.9675 - val_loss: 0.1537 - val_accuracy: 0.9665\n",
      "Epoch 59/1000\n",
      "16/16 - 0s - loss: 0.1883 - accuracy: 0.9675 - val_loss: 0.1533 - val_accuracy: 0.9665\n",
      "Epoch 60/1000\n",
      "16/16 - 0s - loss: 0.1890 - accuracy: 0.9675 - val_loss: 0.1803 - val_accuracy: 0.9665\n",
      "Epoch 61/1000\n",
      "16/16 - 0s - loss: 0.1929 - accuracy: 0.9675 - val_loss: 0.1646 - val_accuracy: 0.9665\n",
      "Epoch 62/1000\n",
      "16/16 - 0s - loss: 0.1858 - accuracy: 0.9675 - val_loss: 0.1471 - val_accuracy: 0.9665\n",
      "Epoch 63/1000\n",
      "16/16 - 0s - loss: 0.1831 - accuracy: 0.9675 - val_loss: 0.1581 - val_accuracy: 0.9665\n",
      "Epoch 64/1000\n",
      "16/16 - 0s - loss: 0.1851 - accuracy: 0.9675 - val_loss: 0.1466 - val_accuracy: 0.9665\n",
      "Epoch 65/1000\n",
      "16/16 - 0s - loss: 0.1865 - accuracy: 0.9675 - val_loss: 0.1581 - val_accuracy: 0.9665\n",
      "Epoch 66/1000\n",
      "16/16 - 0s - loss: 0.1803 - accuracy: 0.9675 - val_loss: 0.1460 - val_accuracy: 0.9665\n",
      "Epoch 67/1000\n",
      "16/16 - 0s - loss: 0.1804 - accuracy: 0.9675 - val_loss: 0.1553 - val_accuracy: 0.9665\n",
      "Epoch 68/1000\n",
      "16/16 - 0s - loss: 0.1792 - accuracy: 0.9675 - val_loss: 0.1500 - val_accuracy: 0.9665\n",
      "Epoch 69/1000\n",
      "16/16 - 0s - loss: 0.1864 - accuracy: 0.9675 - val_loss: 0.1505 - val_accuracy: 0.9665\n",
      "Epoch 70/1000\n",
      "16/16 - 0s - loss: 0.1769 - accuracy: 0.9675 - val_loss: 0.1467 - val_accuracy: 0.9665\n",
      "Epoch 71/1000\n",
      "16/16 - 0s - loss: 0.1762 - accuracy: 0.9675 - val_loss: 0.1562 - val_accuracy: 0.9665\n",
      "Epoch 72/1000\n",
      "16/16 - 0s - loss: 0.1770 - accuracy: 0.9675 - val_loss: 0.1451 - val_accuracy: 0.9665\n",
      "Epoch 73/1000\n",
      "16/16 - 0s - loss: 0.1791 - accuracy: 0.9675 - val_loss: 0.1431 - val_accuracy: 0.9665\n",
      "Epoch 74/1000\n",
      "16/16 - 0s - loss: 0.1735 - accuracy: 0.9675 - val_loss: 0.1427 - val_accuracy: 0.9665\n",
      "Epoch 75/1000\n",
      "16/16 - 0s - loss: 0.1672 - accuracy: 0.9675 - val_loss: 0.1421 - val_accuracy: 0.9665\n",
      "Epoch 76/1000\n",
      "16/16 - 0s - loss: 0.1682 - accuracy: 0.9675 - val_loss: 0.1444 - val_accuracy: 0.9665\n",
      "Epoch 77/1000\n",
      "16/16 - 0s - loss: 0.1677 - accuracy: 0.9675 - val_loss: 0.1415 - val_accuracy: 0.9665\n",
      "Epoch 78/1000\n",
      "16/16 - 0s - loss: 0.1730 - accuracy: 0.9675 - val_loss: 0.1413 - val_accuracy: 0.9665\n",
      "Epoch 79/1000\n",
      "16/16 - 0s - loss: 0.1675 - accuracy: 0.9675 - val_loss: 0.1405 - val_accuracy: 0.9665\n",
      "Epoch 80/1000\n",
      "16/16 - 0s - loss: 0.1714 - accuracy: 0.9675 - val_loss: 0.1404 - val_accuracy: 0.9665\n",
      "Epoch 81/1000\n",
      "16/16 - 0s - loss: 0.1658 - accuracy: 0.9675 - val_loss: 0.1417 - val_accuracy: 0.9665\n",
      "Epoch 82/1000\n",
      "16/16 - 0s - loss: 0.1628 - accuracy: 0.9675 - val_loss: 0.1412 - val_accuracy: 0.9665\n",
      "Epoch 83/1000\n",
      "16/16 - 0s - loss: 0.1659 - accuracy: 0.9675 - val_loss: 0.1390 - val_accuracy: 0.9665\n",
      "Epoch 84/1000\n",
      "16/16 - 0s - loss: 0.1604 - accuracy: 0.9675 - val_loss: 0.1385 - val_accuracy: 0.9665\n",
      "Epoch 85/1000\n",
      "16/16 - 0s - loss: 0.1609 - accuracy: 0.9675 - val_loss: 0.1399 - val_accuracy: 0.9665\n",
      "Epoch 86/1000\n",
      "16/16 - 0s - loss: 0.1645 - accuracy: 0.9675 - val_loss: 0.1487 - val_accuracy: 0.9665\n",
      "Epoch 87/1000\n",
      "16/16 - 0s - loss: 0.1583 - accuracy: 0.9675 - val_loss: 0.1451 - val_accuracy: 0.9665\n",
      "Epoch 88/1000\n",
      "16/16 - 0s - loss: 0.1590 - accuracy: 0.9675 - val_loss: 0.1384 - val_accuracy: 0.9665\n",
      "Epoch 89/1000\n",
      "16/16 - 0s - loss: 0.1569 - accuracy: 0.9675 - val_loss: 0.1389 - val_accuracy: 0.9665\n",
      "Epoch 90/1000\n",
      "16/16 - 0s - loss: 0.1629 - accuracy: 0.9675 - val_loss: 0.1452 - val_accuracy: 0.9665\n",
      "Epoch 91/1000\n",
      "16/16 - 0s - loss: 0.1571 - accuracy: 0.9675 - val_loss: 0.1370 - val_accuracy: 0.9665\n",
      "Epoch 92/1000\n",
      "16/16 - 0s - loss: 0.1525 - accuracy: 0.9675 - val_loss: 0.1361 - val_accuracy: 0.9665\n",
      "Epoch 93/1000\n",
      "16/16 - 0s - loss: 0.1564 - accuracy: 0.9675 - val_loss: 0.1360 - val_accuracy: 0.9665\n",
      "Epoch 94/1000\n",
      "16/16 - 0s - loss: 0.1550 - accuracy: 0.9675 - val_loss: 0.1369 - val_accuracy: 0.9665\n",
      "Epoch 95/1000\n",
      "16/16 - 0s - loss: 0.1539 - accuracy: 0.9675 - val_loss: 0.1375 - val_accuracy: 0.9665\n",
      "Epoch 96/1000\n",
      "16/16 - 0s - loss: 0.1554 - accuracy: 0.9675 - val_loss: 0.1356 - val_accuracy: 0.9665\n",
      "Epoch 97/1000\n",
      "16/16 - 0s - loss: 0.1548 - accuracy: 0.9675 - val_loss: 0.1349 - val_accuracy: 0.9665\n",
      "Epoch 98/1000\n",
      "16/16 - 0s - loss: 0.1546 - accuracy: 0.9675 - val_loss: 0.1336 - val_accuracy: 0.9665\n",
      "Epoch 99/1000\n",
      "16/16 - 0s - loss: 0.1508 - accuracy: 0.9675 - val_loss: 0.1348 - val_accuracy: 0.9665\n",
      "Epoch 100/1000\n",
      "16/16 - 0s - loss: 0.1487 - accuracy: 0.9675 - val_loss: 0.1409 - val_accuracy: 0.9665\n",
      "Epoch 101/1000\n",
      "16/16 - 0s - loss: 0.1476 - accuracy: 0.9675 - val_loss: 0.1334 - val_accuracy: 0.9665\n",
      "Epoch 102/1000\n",
      "16/16 - 0s - loss: 0.1492 - accuracy: 0.9675 - val_loss: 0.1333 - val_accuracy: 0.9665\n",
      "Epoch 103/1000\n",
      "16/16 - 0s - loss: 0.1489 - accuracy: 0.9675 - val_loss: 0.1412 - val_accuracy: 0.9665\n",
      "Epoch 104/1000\n",
      "16/16 - 0s - loss: 0.1481 - accuracy: 0.9675 - val_loss: 0.1334 - val_accuracy: 0.9665\n",
      "Epoch 105/1000\n",
      "16/16 - 0s - loss: 0.1484 - accuracy: 0.9675 - val_loss: 0.1320 - val_accuracy: 0.9665\n",
      "Epoch 106/1000\n",
      "16/16 - 0s - loss: 0.1448 - accuracy: 0.9675 - val_loss: 0.1321 - val_accuracy: 0.9665\n",
      "Epoch 107/1000\n",
      "16/16 - 0s - loss: 0.1464 - accuracy: 0.9675 - val_loss: 0.1347 - val_accuracy: 0.9665\n",
      "Epoch 108/1000\n",
      "16/16 - 0s - loss: 0.1398 - accuracy: 0.9675 - val_loss: 0.1322 - val_accuracy: 0.9665\n",
      "Epoch 109/1000\n",
      "16/16 - 0s - loss: 0.1450 - accuracy: 0.9675 - val_loss: 0.1311 - val_accuracy: 0.9665\n",
      "Epoch 110/1000\n",
      "16/16 - 0s - loss: 0.1444 - accuracy: 0.9675 - val_loss: 0.1309 - val_accuracy: 0.9665\n",
      "Epoch 111/1000\n",
      "16/16 - 0s - loss: 0.1411 - accuracy: 0.9675 - val_loss: 0.1306 - val_accuracy: 0.9665\n",
      "Epoch 112/1000\n",
      "16/16 - 0s - loss: 0.1409 - accuracy: 0.9675 - val_loss: 0.1425 - val_accuracy: 0.9665\n",
      "Epoch 113/1000\n",
      "16/16 - 0s - loss: 0.1407 - accuracy: 0.9675 - val_loss: 0.1303 - val_accuracy: 0.9665\n",
      "Epoch 114/1000\n",
      "16/16 - 0s - loss: 0.1443 - accuracy: 0.9675 - val_loss: 0.1302 - val_accuracy: 0.9665\n",
      "Epoch 115/1000\n",
      "16/16 - 0s - loss: 0.1466 - accuracy: 0.9675 - val_loss: 0.1300 - val_accuracy: 0.9665\n",
      "Epoch 116/1000\n",
      "16/16 - 0s - loss: 0.1430 - accuracy: 0.9675 - val_loss: 0.1408 - val_accuracy: 0.9665\n",
      "Epoch 117/1000\n",
      "16/16 - 0s - loss: 0.1391 - accuracy: 0.9675 - val_loss: 0.1308 - val_accuracy: 0.9665\n",
      "Epoch 118/1000\n",
      "16/16 - 0s - loss: 0.1411 - accuracy: 0.9675 - val_loss: 0.1293 - val_accuracy: 0.9665\n",
      "Epoch 119/1000\n",
      "16/16 - 0s - loss: 0.1426 - accuracy: 0.9675 - val_loss: 0.1301 - val_accuracy: 0.9665\n",
      "Epoch 120/1000\n",
      "16/16 - 0s - loss: 0.1431 - accuracy: 0.9675 - val_loss: 0.1292 - val_accuracy: 0.9665\n",
      "Epoch 121/1000\n",
      "16/16 - 0s - loss: 0.1357 - accuracy: 0.9675 - val_loss: 0.1347 - val_accuracy: 0.9665\n",
      "Epoch 122/1000\n",
      "16/16 - 0s - loss: 0.1400 - accuracy: 0.9675 - val_loss: 0.1361 - val_accuracy: 0.9665\n",
      "Epoch 123/1000\n",
      "16/16 - 0s - loss: 0.1342 - accuracy: 0.9675 - val_loss: 0.1315 - val_accuracy: 0.9665\n",
      "Epoch 124/1000\n",
      "16/16 - 0s - loss: 0.1391 - accuracy: 0.9675 - val_loss: 0.1295 - val_accuracy: 0.9665\n",
      "Epoch 125/1000\n",
      "16/16 - 0s - loss: 0.1360 - accuracy: 0.9675 - val_loss: 0.1303 - val_accuracy: 0.9665\n",
      "Epoch 126/1000\n",
      "16/16 - 0s - loss: 0.1380 - accuracy: 0.9675 - val_loss: 0.1310 - val_accuracy: 0.9665\n",
      "Epoch 127/1000\n",
      "16/16 - 0s - loss: 0.1388 - accuracy: 0.9675 - val_loss: 0.1313 - val_accuracy: 0.9665\n",
      "Epoch 128/1000\n",
      "16/16 - 0s - loss: 0.1381 - accuracy: 0.9675 - val_loss: 0.1280 - val_accuracy: 0.9665\n",
      "Epoch 129/1000\n",
      "16/16 - 0s - loss: 0.1354 - accuracy: 0.9675 - val_loss: 0.1283 - val_accuracy: 0.9665\n",
      "Epoch 130/1000\n",
      "16/16 - 0s - loss: 0.1360 - accuracy: 0.9675 - val_loss: 0.1311 - val_accuracy: 0.9665\n",
      "Epoch 131/1000\n",
      "16/16 - 0s - loss: 0.1368 - accuracy: 0.9675 - val_loss: 0.1283 - val_accuracy: 0.9665\n",
      "Epoch 132/1000\n",
      "16/16 - 0s - loss: 0.1339 - accuracy: 0.9675 - val_loss: 0.1360 - val_accuracy: 0.9665\n",
      "Epoch 133/1000\n",
      "16/16 - 0s - loss: 0.1379 - accuracy: 0.9675 - val_loss: 0.1287 - val_accuracy: 0.9665\n",
      "Epoch 134/1000\n",
      "16/16 - 0s - loss: 0.1341 - accuracy: 0.9675 - val_loss: 0.1329 - val_accuracy: 0.9665\n",
      "Epoch 135/1000\n",
      "16/16 - 0s - loss: 0.1363 - accuracy: 0.9675 - val_loss: 0.1322 - val_accuracy: 0.9665\n",
      "Epoch 136/1000\n",
      "16/16 - 0s - loss: 0.1350 - accuracy: 0.9675 - val_loss: 0.1361 - val_accuracy: 0.9665\n",
      "Epoch 137/1000\n",
      "16/16 - 0s - loss: 0.1346 - accuracy: 0.9675 - val_loss: 0.1284 - val_accuracy: 0.9665\n",
      "Epoch 138/1000\n",
      "16/16 - 0s - loss: 0.1356 - accuracy: 0.9675 - val_loss: 0.1322 - val_accuracy: 0.9665\n",
      "Epoch 139/1000\n",
      "16/16 - 0s - loss: 0.1339 - accuracy: 0.9675 - val_loss: 0.1276 - val_accuracy: 0.9665\n",
      "Epoch 140/1000\n",
      "16/16 - 0s - loss: 0.1316 - accuracy: 0.9675 - val_loss: 0.1278 - val_accuracy: 0.9665\n",
      "Epoch 141/1000\n",
      "16/16 - 0s - loss: 0.1353 - accuracy: 0.9675 - val_loss: 0.1276 - val_accuracy: 0.9665\n",
      "Epoch 142/1000\n",
      "16/16 - 0s - loss: 0.1330 - accuracy: 0.9675 - val_loss: 0.1291 - val_accuracy: 0.9665\n",
      "Epoch 143/1000\n",
      "16/16 - 0s - loss: 0.1337 - accuracy: 0.9675 - val_loss: 0.1305 - val_accuracy: 0.9665\n",
      "Epoch 144/1000\n",
      "16/16 - 0s - loss: 0.1327 - accuracy: 0.9675 - val_loss: 0.1275 - val_accuracy: 0.9665\n",
      "Epoch 145/1000\n",
      "16/16 - 0s - loss: 0.1325 - accuracy: 0.9675 - val_loss: 0.1298 - val_accuracy: 0.9665\n",
      "Epoch 146/1000\n",
      "16/16 - 0s - loss: 0.1304 - accuracy: 0.9675 - val_loss: 0.1386 - val_accuracy: 0.9665\n",
      "Epoch 147/1000\n",
      "16/16 - 0s - loss: 0.1319 - accuracy: 0.9675 - val_loss: 0.1274 - val_accuracy: 0.9665\n",
      "Epoch 148/1000\n",
      "16/16 - 0s - loss: 0.1321 - accuracy: 0.9675 - val_loss: 0.1322 - val_accuracy: 0.9665\n",
      "Epoch 149/1000\n",
      "16/16 - 0s - loss: 0.1306 - accuracy: 0.9675 - val_loss: 0.1274 - val_accuracy: 0.9665\n",
      "Epoch 150/1000\n",
      "16/16 - 0s - loss: 0.1314 - accuracy: 0.9675 - val_loss: 0.1282 - val_accuracy: 0.9665\n",
      "Epoch 151/1000\n",
      "16/16 - 0s - loss: 0.1315 - accuracy: 0.9675 - val_loss: 0.1278 - val_accuracy: 0.9665\n",
      "Epoch 152/1000\n",
      "16/16 - 0s - loss: 0.1334 - accuracy: 0.9675 - val_loss: 0.1336 - val_accuracy: 0.9665\n",
      "Epoch 153/1000\n",
      "16/16 - 0s - loss: 0.1291 - accuracy: 0.9675 - val_loss: 0.1299 - val_accuracy: 0.9665\n",
      "Epoch 154/1000\n",
      "16/16 - 0s - loss: 0.1313 - accuracy: 0.9675 - val_loss: 0.1333 - val_accuracy: 0.9665\n",
      "Epoch 155/1000\n",
      "16/16 - 0s - loss: 0.1322 - accuracy: 0.9675 - val_loss: 0.1276 - val_accuracy: 0.9665\n",
      "Epoch 156/1000\n",
      "16/16 - 0s - loss: 0.1330 - accuracy: 0.9675 - val_loss: 0.1281 - val_accuracy: 0.9665\n",
      "Epoch 157/1000\n",
      "16/16 - 0s - loss: 0.1301 - accuracy: 0.9675 - val_loss: 0.1303 - val_accuracy: 0.9665\n",
      "Epoch 158/1000\n",
      "16/16 - 0s - loss: 0.1314 - accuracy: 0.9675 - val_loss: 0.1308 - val_accuracy: 0.9665\n",
      "Epoch 159/1000\n",
      "16/16 - 0s - loss: 0.1343 - accuracy: 0.9675 - val_loss: 0.1286 - val_accuracy: 0.9665\n",
      "Epoch 160/1000\n",
      "16/16 - 0s - loss: 0.1308 - accuracy: 0.9675 - val_loss: 0.1274 - val_accuracy: 0.9665\n",
      "Epoch 161/1000\n",
      "16/16 - 0s - loss: 0.1331 - accuracy: 0.9675 - val_loss: 0.1283 - val_accuracy: 0.9665\n",
      "Epoch 162/1000\n",
      "16/16 - 0s - loss: 0.1293 - accuracy: 0.9675 - val_loss: 0.1308 - val_accuracy: 0.9665\n",
      "Epoch 163/1000\n",
      "16/16 - 0s - loss: 0.1318 - accuracy: 0.9675 - val_loss: 0.1275 - val_accuracy: 0.9665\n",
      "Epoch 164/1000\n",
      "16/16 - 0s - loss: 0.1305 - accuracy: 0.9675 - val_loss: 0.1286 - val_accuracy: 0.9665\n",
      "Epoch 165/1000\n",
      "16/16 - 0s - loss: 0.1306 - accuracy: 0.9675 - val_loss: 0.1319 - val_accuracy: 0.9665\n",
      "Epoch 166/1000\n",
      "16/16 - 0s - loss: 0.1307 - accuracy: 0.9675 - val_loss: 0.1316 - val_accuracy: 0.9665\n",
      "Epoch 167/1000\n",
      "16/16 - 0s - loss: 0.1304 - accuracy: 0.9675 - val_loss: 0.1287 - val_accuracy: 0.9665\n",
      "Epoch 168/1000\n",
      "16/16 - 0s - loss: 0.1303 - accuracy: 0.9675 - val_loss: 0.1281 - val_accuracy: 0.9665\n",
      "Epoch 169/1000\n",
      "16/16 - 0s - loss: 0.1302 - accuracy: 0.9675 - val_loss: 0.1284 - val_accuracy: 0.9665\n"
     ]
    }
   ],
   "source": [
    "model.compile(\n",
    "    loss=\"binary_crossentropy\",\n",
    "    optimizer=\"rmsprop\",\n",
    "    metrics=[\"accuracy\"]\n",
    ")\n",
    "early_stopping_callback = tf.keras.callbacks.EarlyStopping(monitor='val_loss', patience=20)\n",
    "history = model.fit(\n",
    "    X_train,\n",
    "    y_train,\n",
    "    epochs = 1000,\n",
    "    batch_size = 128,\n",
    "    validation_data = (X_test, y_test),\n",
    "    verbose=2,\n",
    "    callbacks=[early_stopping_callback],\n",
    ")"
   ]
  },
  {
   "cell_type": "code",
   "execution_count": 183,
   "metadata": {},
   "outputs": [],
   "source": [
    "df_history = pd.DataFrame(history.history)"
   ]
  },
  {
   "cell_type": "code",
   "execution_count": 184,
   "metadata": {},
   "outputs": [
    {
     "data": {
      "image/png": "[encoded data removed]",
      "text/plain": [
       "<Figure size 1440x432 with 2 Axes>"
      ]
     },
     "metadata": {
      "needs_background": "light"
     },
     "output_type": "display_data"
    }
   ],
   "source": [
    "import matplotlib.pyplot as plt\n",
    "import seaborn as sns\n",
    "plt.figure(figsize=(20, 6))\n",
    "plt.subplot(1, 2, 1)\n",
    "sns.lineplot(data=df_history.loss, label=\"training\")\n",
    "sns.lineplot(data=df_history.val_loss, label=\"validation\")\n",
    "plt.subplot(1, 2, 2)\n",
    "sns.lineplot(data=df_history.accuracy, label=\"training\")\n",
    "sns.lineplot(data=df_history.val_accuracy, label=\"validation\")\n",
    "plt.legend()\n",
    "plt.show()"
   ]
  },
  {
   "cell_type": "code",
   "execution_count": 193,
   "metadata": {},
   "outputs": [],
   "source": [
    "y_pred = np.array(model.predict(X_test).reshape(-1) > 0.5, dtype=\"int\")"
   ]
  },
  {
   "cell_type": "code",
   "execution_count": 194,
   "metadata": {},
   "outputs": [
    {
     "data": {
      "text/plain": [
       "0.9665"
      ]
     },
     "execution_count": 194,
     "metadata": {},
     "output_type": "execute_result"
    }
   ],
   "source": [
    "accuracy(y_test, y_pred)"
   ]
  },
  {
   "cell_type": "code",
   "execution_count": 196,
   "metadata": {},
   "outputs": [
    {
     "data": {
      "text/plain": [
       "0.965375"
      ]
     },
     "execution_count": 196,
     "metadata": {},
     "output_type": "execute_result"
    }
   ],
   "source": [
    "lr_mod = LogisticRegression()\n",
    "lr_fit = lr_mod.fit(X_train, y_train)\n",
    "y_pred = lr_fit.predict(X_test)\n",
    "accuracy(y_test, y_pred)"
   ]
  },
  {
   "cell_type": "code",
   "execution_count": 202,
   "metadata": {},
   "outputs": [
    {
     "data": {
      "text/plain": [
       "array([[-2.29715667e-06,  5.48188218e-04, -1.32997374e-04]])"
      ]
     },
     "execution_count": 202,
     "metadata": {},
     "output_type": "execute_result"
    }
   ],
   "source": [
    "lr_fit.coef_"
   ]
  },
  {
   "cell_type": "code",
   "execution_count": null,
   "metadata": {},
   "outputs": [],
   "source": []
  }
 ],
 "metadata": {
  "colab": {
   "name": "redes-neuronales.ipynb",
   "provenance": []
  },
  "kernelspec": {
   "display_name": "apsup",
   "language": "python",
   "name": "apsup"
  },
  "language_info": {
   "codemirror_mode": {
    "name": "ipython",
    "version": 3
   },
   "file_extension": ".py",
   "mimetype": "text/x-python",
   "name": "python",
   "nbconvert_exporter": "python",
   "pygments_lexer": "ipython3",
   "version": "3.8.12"
  }
 },
 "nbformat": 4,
 "nbformat_minor": 4
}
