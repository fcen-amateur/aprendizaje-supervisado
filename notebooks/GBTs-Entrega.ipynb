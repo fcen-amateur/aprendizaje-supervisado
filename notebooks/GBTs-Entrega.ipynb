{
 "cells": [
  {
   "cell_type": "markdown",
   "metadata": {
    "slideshow": {
     "slide_type": "slide"
    }
   },
   "source": [
    "# Gradient Boosting Trees\n",
    "## Final de Aprendizaje Supervisado\n",
    "## 2021 S2\n",
    "\n",
    "Profesores: Pablo Vena, Martín Savransky\n"
   ]
  },
  {
   "cell_type": "markdown",
   "metadata": {
    "slideshow": {
     "slide_type": "slide"
    }
   },
   "source": [
    "# Tabla de Contenidos\n",
    "\n",
    "1. Teoría Básica\n",
    "  1. Boosting como expansión de bases (ESL 10.2-10.3)\n",
    "  2. Gradient Boosting como caso particular de Steepest Descent (ESL 10.10)\n",
    "  3. Hiperparámetros: $M$, $J$ y $\\nu$; \"shrinkage\" (ESL 10.11-10.12)\n",
    "\n",
    "2. ¡Código!\n",
    "  1. MeanRegressor: una clase simple en Python\n",
    "  2. GBRegressor: nuestro booster de juguete (ESL Algoritmo 10.3)\n",
    "  3. Comparación con algoritmos \"testigo\"\n",
    "  4. Exploración básica de hiperparámetros\n",
    "\n",
    "3. GB a escala industrial\n",
    "  1. ¿Por qué Gradient Boosting? (ESL 10.7)\n",
    "  2. Caso de estudio: CTR y otros estimadores @ Jampp"
   ]
  },
  {
   "cell_type": "markdown",
   "metadata": {
    "slideshow": {
     "slide_type": "slide"
    }
   },
   "source": [
    "## 1. Teoría Básica\n",
    "\n",
    "Freund y Schapire (1997) describen un algoritmo de clasificación en 2 clases $\\{-1, +1\\}$, \"AdaBoost.M1.\", con la premisa de combinar varios _clasificadores débiles_ $G_m(x),\\ m=1,2\\dots, M$ en un _clasificador fuerte_ final $G(X) = f\\left(\\sum_{i=1}^{M} \\alpha_m G_m(x)\\right)$.\n",
    "- Sorprendentemente efectivo en varios contextos\n",
    "- Se puede extender a clasificación multiclase y regresión\n",
    "- Ha encontrado sólidos cimientos teóricos en los años posteriores"
   ]
  },
  {
   "cell_type": "markdown",
   "metadata": {
    "slideshow": {
     "slide_type": "slide"
    }
   },
   "source": [
    "### 1.1. Boosting como expansión de bases\n",
    "\n",
    "PCA (análisis de componentes principales), FDA (análisis de datos funcionales) y otras tantas técnicas, explotan la idea de _expansión en bases_ (funcionales o vectoriales), para expresar una función $f(x)$ arbitrariamente compleja como suma sobre una _base_ de funciones elementales:\n",
    "\n",
    "$$ f(x) = \\sum_{m=1}^{M} \\beta_m b(x;\\gamma_m)$$\n",
    "\n",
    "- $\\beta_m, m=1,\\dots,M$ son los coeficientes de la expansión y\n",
    "- $b(x; \\gamma)$ son las funciones base definidas por un conjunto de parámetros $\\gamma$.\n",
    "\n",
    "- En PCA, las \"funciones\" son los vectores $\\gamma \\in \\mathbb{R}^n$ sobre los que se toma la proyección de $x$.\n",
    "\n",
    "- En FDA, $\\gamma$ caracteriza los _splines_ (sus nudos, el grado y los coeficientes de cada polinomio) utilizados.\n",
    "\n",
    "- En NNs de una única capa oculta, las activaciones de la capa oculta $b(x;\\gamma)=\\sigma(\\gamma_0 + \\gamma_1^{T}x)$ (donde $\\sigma$ es la función de activación) forman una base _no lineal_ sobre combinaciones _lineales_ $\\gamma_0 + \\gamma_1^{T}x$ de los $x$ predictores originales.\n",
    "\n",
    "En Boosting, las funciones de bases  son regresores/clasificadores sencillos (típicamente árboles de poquísimas hojas). Si usamos _stumps_ (\"tocones\" de 2 hojas), $\\gamma \\in p \\times \\mathbb{R}^3$ parametriza\n",
    "\n",
    "1. el índice $i$ de un predictor,\n",
    "2. un punto de corte $s$ sobre $i$, y\n",
    "3. las predicciones $p_0$ y\n",
    "4. $p_1$ a ambos lados del corte.\n",
    "\n",
    "Estos modelos se ajustan minimizando una función de pérdida $L$ (error cuadrático, corss-entropy, etc.) promediada sobre los datos de entrenamiento.\n",
    "\n",
    "$$\n",
    "\\min _{\\left\\{\\beta_{m}, \\gamma_{m}\\right\\}_{1}^{M}} \\sum_{i=1}^{N} L\\left(y_{i}, \\sum_{m=1}^{M} \\beta_{m} b\\left(x_{i} ; \\gamma_{m}\\right)\\right)\n",
    "$$\n",
    "\n",
    "Encontrar los $\\left\\{\\beta_{m}, \\gamma_{m}\\right\\}_{1}^{M}$ óptimos es un problema formidable, que se puede aproximar razonablemente si existe una forma adecuada de ajustar una única función base por vez."
   ]
  },
  {
   "cell_type": "markdown",
   "metadata": {
    "slideshow": {
     "slide_type": "subslide"
    }
   },
   "source": [
    "### Forward Stagewise Additive Modelling\n",
    "\n",
    "El \"modelado aditivo hacia delante por etapas\", aproxima la solución del problema general, añadiendo secuencialmente nuevas bases, _sin alterar los parámetros de las anteriores_.\n",
    "\n",
    "![Algoritmo 10.2](../FSAM_small.png)\n",
    "\n",
    "Nótese que para la pérdida cuadrática y una observación $(x_i, y_i)$ cualquiera, la pérdida en 2(a) es equivalente a \n",
    "\n",
    "$$\n",
    "\\begin{aligned}\n",
    "L\\left(y_{i}, f_{m-1}\\left(x_{i}\\right)+\\beta b\\left(x_{i} ; \\gamma\\right)\\right) &=\\left(y_{i}-f_{m-1}\\left(x_{i}\\right)-\\beta b\\left(x_{i} ; \\gamma\\right)\\right)^{2} \\\\\n",
    "&=\\left(r_{i m}-\\beta b\\left(x_{i} ; \\gamma\\right)\\right)^{2}\n",
    "\\end{aligned}\n",
    "$$\n",
    "\n",
    "Con lo cual la m-ésima función de base ¡será aquella que mejor ajuste los residuos del último predictor $f_{m-1}$! Esta es la idea clave para usar Boosting en regresión."
   ]
  },
  {
   "cell_type": "markdown",
   "metadata": {
    "slideshow": {
     "slide_type": "slide"
    }
   },
   "source": [
    "### 1.2. Gradient Boosting como caso particular de Steepest Descent (ESL 10.10)\n",
    "\n",
    "Dada una función de pérdida diferenciable $L$, el \"aprendizaje\" de una función $f(x)$ que prediga $y$ implica encontrar $f$ que minimiza\n",
    "\n",
    "$$\n",
    "L(f)=\\sum_{i=1}^{N} L\\left(y_{i}, f\\left(x_{i}\\right)\\right)\n",
    "$$\n",
    "\n",
    "Que se peude ver como un problema de optimización numérica, \n",
    "\n",
    "$$\n",
    "\\hat{\\mathbf{f}}=\\arg \\min _{\\mathbf{f}} L(\\mathbf{f})\n",
    "$$\n",
    "\n",
    "donde los \"parámetros\"\n",
    "\n",
    "$$\\mathbf{f}=\\left\\{f\\left(x_{1}\\right), f\\left(x_{2}\\right)), \\ldots, f\\left(x_{N}\\right)\\right\\}$$\n",
    "\n",
    "son las predicciones en cada una de las $N$ observaciones de entrenamiento.\n",
    "\n",
    "Los métodos de optimización numérica resuelven estos problemas a través de una suma de vectores\n",
    "\n",
    "$$\n",
    "\\mathbf{f}_{M}=\\sum_{m=0}^{M} \\mathbf{h}_{m}, \\quad \\mathbf{h}_{m} \\in \\mathbb{R}^{N}\n",
    "$$\n",
    "\n",
    ", comenzando desde una conjetura inicial $\\mathbf{f}_0 = \\mathbf{h}_0$, y cada $\\mathbf{f}_m$ sucesiva es inducida a partir del vector actual $\\mathbf{f}_{m-1}$. Distintos métodos difieren en sus prescripciones sobre cómo calcular cada paso (\"step\") $\\mathbf{h}_m$."
   ]
  },
  {
   "cell_type": "markdown",
   "metadata": {
    "slideshow": {
     "slide_type": "subslide"
    }
   },
   "source": [
    "### Steepest Descent\n",
    "\n",
    "_Steepest descent_ toma $\\mathbf{h}_{m} = -\\rho_m\\mathbf{g}_{m}$, donde $\\rho_m$ es un escalar y $\\mathbf{g}_{m} \\in \\mathbb{R}^N$ es el gradiente de $L(\\mathbf{f})$ evaluado en $\\mathbf{f}=\\mathbf{f}_{m-1}$. Los componentes $g_{im}$ son\n",
    "\n",
    "$$\n",
    "g_{i m}=\\left[\\frac{\\partial L\\left(y_{i}, f\\left(x_{i}\\right)\\right)}{\\partial f\\left(x_{i}\\right)}\\right]_{f\\left(x_{i}\\right)=f_{m-1}\\left(x_{i}\\right)}\n",
    "$$\n",
    "\n",
    "y el _largo del paso_ $\\rho_m$ es la solución de\n",
    "\n",
    "$$\n",
    "\\rho_{m}=\\arg \\min _{\\rho} L\\left(\\mathbf{f}_{m-1}-\\rho \\mathbf{g}_{m}\\right)\n",
    "$$\n",
    "\n",
    "Finalmente, la solución actual se actualiza según $\\mathbf{f}_{m}=\\mathbf{f}_{m-1}-\\rho_{m} \\mathbf{g}_{m}$. Esta es una estrategia _muy_ codiciosa (\"greedy\"), ya que $-\\mathbf{g}_{m}$ es la dirección _local_ para la cual $L(\\mathbf{f})$ desciende más rapidamente en $\\mathbf{f} = \\mathbf{f}_{m-1}$ ."
   ]
  },
  {
   "cell_type": "markdown",
   "metadata": {
    "slideshow": {
     "slide_type": "subslide"
    }
   },
   "source": [
    "### Gradient Boosting\n",
    "\n",
    "Un árbol de decisión $T$ con $J$ regiones, se puede expresar formalmente como \n",
    "\n",
    "$$\n",
    "T(x ; \\Theta)=\\sum_{j=1}^{J} \\gamma_{j} I\\left(x \\in R_{j}\\right)\n",
    "$$\n",
    "\n",
    "con parámetros $\\Theta = \\{R_j,\\gamma_j\\}_{j=1}^J$, donde la cantidad de regiones terminales $J$ es un hiperparámetro.\n",
    "\n",
    "Si usamos árboles para construir un predictor con _forward stagewise boosting_, en cada paso el nuevo árbol es aquél que más reduce la pérdida, y por ende sus predicciones son análogas a los componentes del gradiente negativo $-\\mathbf{g}_{m}$. La diferencia, es que las predicciones $\\mathbf{t}_{m} = \\left( T(x_1 ; \\Theta_m), \\dots, T(x_N ; \\Theta_m)\\right)$ están limitadas a ser las predicciones de un árbol con $J_m$ nodos terminales, mientras que el gradiente negativo es la dirección de máximo descenso irrestricto.\n",
    "\n",
    "Si el objetivo fuese simplimente minimizar la pérdida en la data de entrenamiento, _steepest descent_ sería la estrategia preferida: el gradiente es trivial de calcular para cualquier pérdida $L$ diferenciable, mientras que encontrar el árbol óptimo para $L$ no-triviales es un un incordio. Lamentablemente, **el gradiente sólo está definido sobre las observaciones de entrenamiento**, y nuestro objetivo es generalizar los resultados a casos aún no vistos.\n",
    "\n",
    "Una solución posible, es ajustar a cada paso un árbol $T(x ; \\Theta_m)$ cuyas predicciones sean lo más cercanas posibles al gradiente negativo.\n",
    "\n",
    "Si medimos cercanía por el error cuadrado, tenemos que \n",
    "\n",
    "$$\n",
    "\\tilde{\\Theta}_{m}=\\arg \\min _{\\Theta} \\sum_{i=1}^{N}\\left(-g_{i m}-T\\left(x_{i} ; \\Theta\\right)\\right)^{2}\n",
    "$$\n",
    "\n",
    "Si además tomamos una pérdida cuadrática, el gradiente $-g_im = y_i - f_{m-1}(x_i)$, y en cada iteración, el nuevo árbol es aquél que mejor se ajusta a los residuos del modelo actual. ¡Intuitivo!"
   ]
  },
  {
   "cell_type": "markdown",
   "metadata": {
    "slideshow": {
     "slide_type": "slide"
    }
   },
   "source": [
    "### 1.3. Hiperparámetros: $M$, $J$ y $\\nu$; \"shrinkage\" (ESL 10.11-10.12)\n",
    "\n",
    "### J: la cantidad de nodos como control del orden de interacciones\n",
    "\n",
    "Una decisión común, para evitar que los primeros árboles \"dominen\" el modelo, es forzar idénticos $J_1 = \\dots = J_m = J$, y luego setear $J$ a un valor bastante bajo, que resulta ser un hiperparámetro del modelo a ajustar por validación cruzada o similares métodos.\n",
    "\n",
    "Como un árbol de $J$ hojas no puede representar combinaciones de más de $J-1$ variables, una interpretación útil de $J$, es como control sobre el máximo orden de las interacciones representadas en el modelo. \n",
    "\n",
    "En general, las interacciones de bajo orden dominan las aplicaciones \"de la vida real\", y $J \\approx 6$ suele alcanzar.\n",
    "\n",
    "### M: la cantidad de árboles\n",
    "\n",
    "En general, cada árbol sucesivo hará bajar _algo_ el riesgo $L(f_M)$ de entrenamiento, con lo cual para $M$ suficientemente grande, el modelo de seguro sobreajustará.\n",
    "\n",
    "El óptimo $M^{*}$ que minimiza el riesgo en observaciones aún no vistas se puede aproximar separando un conjunto de validación, y deteniendo el procedimiento (\"early stopping\") cuando el riesgo en el conjunto de validación ya no disminuye.\n",
    "\n",
    "### $\\nu$: encogimiento, o la importancia de aprender despacio\n",
    "\n",
    "Como _ridge_ en modelos lineales y _dropout_ en redes neuronales, técnicas de encogimiento (\"shrinkage\") son sumamente - de hecho, _particularmente_ - útiles en boosting. La manera más sencilla, es multiplicar los aportes de cada árbol por un factor $0 < \\nu < 1$, de manera que $f_m(x) = f_{m-1}(x) + \\nu \\cdot T(x ; \\Theta_m)$.\n",
    "\n",
    "$\\nu$ se puede pensar como la _tasa de aprendizaje_ durante el proceso de boosting, crítica a cualquier método de descenso de gradiente.\n",
    "\n",
    "Obviamente, $\\nu$ y $M$ tienen efectos correlacionados, con lo cual han de elegirse conjuntamente. En general, dado que entrenar un modelo para $M_1 > M_0$ _implica_ entrenar un modelo de $M_0$ bases, una práctica sencilla es elegir un $\\nu$ muy pequeño ($0.01$ o aún menor), un valor máximo $\\bar{M}$ tal que $\\nu \\times \\bar{M} \\approx 5$, y luego elegir $M^*$ por _early stopping_. El costo incurrido es computacional, pero eligiendo $J$ lo suficientemente pequeño, el resultado neto es más que manejable."
   ]
  },
  {
   "cell_type": "markdown",
   "metadata": {
    "slideshow": {
     "slide_type": "slide"
    }
   },
   "source": [
    "## 2. Código"
   ]
  },
  {
   "cell_type": "markdown",
   "metadata": {
    "slideshow": {
     "slide_type": "subslide"
    }
   },
   "source": [
    "### Setup"
   ]
  },
  {
   "cell_type": "code",
   "execution_count": 1,
   "metadata": {
    "slideshow": {
     "slide_type": "fragment"
    }
   },
   "outputs": [],
   "source": [
    "import pandas as pd\n",
    "import numpy as np\n",
    "import seaborn as sns\n",
    "import matplotlib.pyplot as plt\n",
    "\n",
    "from sklearn.preprocessing import OneHotEncoder\n",
    "from sklearn.metrics import mean_squared_error as mse\n",
    "from sklearn.tree import DecisionTreeRegressor\n",
    "from sklearn.ensemble import RandomForestRegressor\n",
    "from sklearn.linear_model import LinearRegression\n",
    "from sklearn.model_selection import train_test_split\n",
    "\n",
    "plt.style.use(\"ggplot\")"
   ]
  },
  {
   "cell_type": "code",
   "execution_count": 2,
   "metadata": {
    "slideshow": {
     "slide_type": "fragment"
    }
   },
   "outputs": [
    {
     "data": {
      "text/plain": [
       "(263, 20)"
      ]
     },
     "execution_count": 2,
     "metadata": {},
     "output_type": "execute_result"
    }
   ],
   "source": [
    "df = pd.read_csv(\"../data/hitters.csv\").dropna()\n",
    "df.shape"
   ]
  },
  {
   "cell_type": "code",
   "execution_count": 3,
   "metadata": {
    "slideshow": {
     "slide_type": "subslide"
    }
   },
   "outputs": [],
   "source": [
    "X = df.drop(columns=\"Salary\")\n",
    "y = df.Salary\n",
    "\n",
    "categorical_features = X.columns[X.dtypes == \"O\"].tolist()\n",
    "X_cat, X_num = X[categorical_features], X.drop(columns=categorical_features)\n",
    "ohe = OneHotEncoder(drop=\"first\", sparse=False).fit(X_cat)\n",
    "\n",
    "X = pd.concat(\n",
    "    [\n",
    "        pd.DataFrame(\n",
    "            data=ohe.transform(X_cat).astype(int),\n",
    "            columns=ohe.get_feature_names_out(categorical_features)\n",
    "        ),\n",
    "        X_num.reset_index(),\n",
    "    ],\n",
    "    axis=1,\n",
    ")"
   ]
  },
  {
   "cell_type": "code",
   "execution_count": 4,
   "metadata": {
    "slideshow": {
     "slide_type": "subslide"
    }
   },
   "outputs": [
    {
     "data": {
      "text/html": [
       "<div>\n",
       "<style scoped>\n",
       "    .dataframe tbody tr th:only-of-type {\n",
       "        vertical-align: middle;\n",
       "    }\n",
       "\n",
       "    .dataframe tbody tr th {\n",
       "        vertical-align: top;\n",
       "    }\n",
       "\n",
       "    .dataframe thead th {\n",
       "        text-align: right;\n",
       "    }\n",
       "</style>\n",
       "<table border=\"1\" class=\"dataframe\">\n",
       "  <thead>\n",
       "    <tr style=\"text-align: right;\">\n",
       "      <th></th>\n",
       "      <th>League_N</th>\n",
       "      <th>Division_W</th>\n",
       "      <th>NewLeague_N</th>\n",
       "      <th>index</th>\n",
       "      <th>AtBat</th>\n",
       "      <th>Hits</th>\n",
       "      <th>HmRun</th>\n",
       "      <th>Runs</th>\n",
       "      <th>RBI</th>\n",
       "      <th>Walks</th>\n",
       "      <th>Years</th>\n",
       "      <th>CAtBat</th>\n",
       "      <th>CHits</th>\n",
       "      <th>CHmRun</th>\n",
       "      <th>CRuns</th>\n",
       "      <th>CRBI</th>\n",
       "      <th>CWalks</th>\n",
       "      <th>PutOuts</th>\n",
       "      <th>Assists</th>\n",
       "      <th>Errors</th>\n",
       "    </tr>\n",
       "  </thead>\n",
       "  <tbody>\n",
       "    <tr>\n",
       "      <th>0</th>\n",
       "      <td>1</td>\n",
       "      <td>1</td>\n",
       "      <td>1</td>\n",
       "      <td>1</td>\n",
       "      <td>315</td>\n",
       "      <td>81</td>\n",
       "      <td>7</td>\n",
       "      <td>24</td>\n",
       "      <td>38</td>\n",
       "      <td>39</td>\n",
       "      <td>14</td>\n",
       "      <td>3449</td>\n",
       "      <td>835</td>\n",
       "      <td>69</td>\n",
       "      <td>321</td>\n",
       "      <td>414</td>\n",
       "      <td>375</td>\n",
       "      <td>632</td>\n",
       "      <td>43</td>\n",
       "      <td>10</td>\n",
       "    </tr>\n",
       "    <tr>\n",
       "      <th>1</th>\n",
       "      <td>0</td>\n",
       "      <td>1</td>\n",
       "      <td>0</td>\n",
       "      <td>2</td>\n",
       "      <td>479</td>\n",
       "      <td>130</td>\n",
       "      <td>18</td>\n",
       "      <td>66</td>\n",
       "      <td>72</td>\n",
       "      <td>76</td>\n",
       "      <td>3</td>\n",
       "      <td>1624</td>\n",
       "      <td>457</td>\n",
       "      <td>63</td>\n",
       "      <td>224</td>\n",
       "      <td>266</td>\n",
       "      <td>263</td>\n",
       "      <td>880</td>\n",
       "      <td>82</td>\n",
       "      <td>14</td>\n",
       "    </tr>\n",
       "    <tr>\n",
       "      <th>2</th>\n",
       "      <td>1</td>\n",
       "      <td>0</td>\n",
       "      <td>1</td>\n",
       "      <td>3</td>\n",
       "      <td>496</td>\n",
       "      <td>141</td>\n",
       "      <td>20</td>\n",
       "      <td>65</td>\n",
       "      <td>78</td>\n",
       "      <td>37</td>\n",
       "      <td>11</td>\n",
       "      <td>5628</td>\n",
       "      <td>1575</td>\n",
       "      <td>225</td>\n",
       "      <td>828</td>\n",
       "      <td>838</td>\n",
       "      <td>354</td>\n",
       "      <td>200</td>\n",
       "      <td>11</td>\n",
       "      <td>3</td>\n",
       "    </tr>\n",
       "    <tr>\n",
       "      <th>3</th>\n",
       "      <td>1</td>\n",
       "      <td>0</td>\n",
       "      <td>1</td>\n",
       "      <td>4</td>\n",
       "      <td>321</td>\n",
       "      <td>87</td>\n",
       "      <td>10</td>\n",
       "      <td>39</td>\n",
       "      <td>42</td>\n",
       "      <td>30</td>\n",
       "      <td>2</td>\n",
       "      <td>396</td>\n",
       "      <td>101</td>\n",
       "      <td>12</td>\n",
       "      <td>48</td>\n",
       "      <td>46</td>\n",
       "      <td>33</td>\n",
       "      <td>805</td>\n",
       "      <td>40</td>\n",
       "      <td>4</td>\n",
       "    </tr>\n",
       "    <tr>\n",
       "      <th>4</th>\n",
       "      <td>0</td>\n",
       "      <td>1</td>\n",
       "      <td>0</td>\n",
       "      <td>5</td>\n",
       "      <td>594</td>\n",
       "      <td>169</td>\n",
       "      <td>4</td>\n",
       "      <td>74</td>\n",
       "      <td>51</td>\n",
       "      <td>35</td>\n",
       "      <td>11</td>\n",
       "      <td>4408</td>\n",
       "      <td>1133</td>\n",
       "      <td>19</td>\n",
       "      <td>501</td>\n",
       "      <td>336</td>\n",
       "      <td>194</td>\n",
       "      <td>282</td>\n",
       "      <td>421</td>\n",
       "      <td>25</td>\n",
       "    </tr>\n",
       "  </tbody>\n",
       "</table>\n",
       "</div>"
      ],
      "text/plain": [
       "   League_N  Division_W  NewLeague_N  index  AtBat  Hits  HmRun  Runs  RBI  \\\n",
       "0         1           1            1      1    315    81      7    24   38   \n",
       "1         0           1            0      2    479   130     18    66   72   \n",
       "2         1           0            1      3    496   141     20    65   78   \n",
       "3         1           0            1      4    321    87     10    39   42   \n",
       "4         0           1            0      5    594   169      4    74   51   \n",
       "\n",
       "   Walks  Years  CAtBat  CHits  CHmRun  CRuns  CRBI  CWalks  PutOuts  Assists  \\\n",
       "0     39     14    3449    835      69    321   414     375      632       43   \n",
       "1     76      3    1624    457      63    224   266     263      880       82   \n",
       "2     37     11    5628   1575     225    828   838     354      200       11   \n",
       "3     30      2     396    101      12     48    46      33      805       40   \n",
       "4     35     11    4408   1133      19    501   336     194      282      421   \n",
       "\n",
       "   Errors  \n",
       "0      10  \n",
       "1      14  \n",
       "2       3  \n",
       "3       4  \n",
       "4      25  "
      ]
     },
     "execution_count": 4,
     "metadata": {},
     "output_type": "execute_result"
    }
   ],
   "source": [
    "X.head()"
   ]
  },
  {
   "cell_type": "markdown",
   "metadata": {
    "slideshow": {
     "slide_type": "slide"
    }
   },
   "source": [
    "### 2.1. MeanRegressor: una clase simple en Python"
   ]
  },
  {
   "cell_type": "code",
   "execution_count": 5,
   "metadata": {
    "slideshow": {
     "slide_type": "fragment"
    }
   },
   "outputs": [],
   "source": [
    "class MeanRegressor:\n",
    "    \n",
    "    def __init__(self):\n",
    "        pass\n",
    "    \n",
    "    def fit(self, X, y):\n",
    "        self.y_mean = y.mean()\n",
    "        return self\n",
    "        \n",
    "    def predict(self, X):\n",
    "        return self.y_mean * np.ones(X.shape[0])"
   ]
  },
  {
   "cell_type": "markdown",
   "metadata": {
    "slideshow": {
     "slide_type": "slide"
    }
   },
   "source": [
    "### 2.2. GBRegressor: nuestro booster de juguete (ESL Algoritmo 10.3)"
   ]
  },
  {
   "cell_type": "code",
   "execution_count": 6,
   "metadata": {
    "slideshow": {
     "slide_type": "subslide"
    }
   },
   "outputs": [],
   "source": [
    "class GBRegressor:\n",
    "    \n",
    "    def __init__(self, J, M, nu):\n",
    "        self.J = J\n",
    "        self.M = M\n",
    "        self.nu = nu\n",
    "        \n",
    "    def fit(self, X, y):\n",
    "        # En `preds`, cada fila representa árbol, cada columna una observación,\n",
    "        # cada celda la prediccion del gradiente/seudoresiduo\n",
    "        self.preds = np.zeros((self.M, X.shape[0]))\n",
    "        self.trees = []\n",
    "        self.y_mean = y.mean()\n",
    "        for m in range(self.M):\n",
    "            resid = y - self.y_mean - np.sum(self.preds[:m], axis=0)\n",
    "            t = DecisionTreeRegressor(max_leaf_nodes=self.J).fit(X, resid)\n",
    "            self.trees.append(t)\n",
    "            self.preds[m] = self.nu * t.predict(X)\n",
    "        return self\n",
    "\n",
    "    def predict(self, X):\n",
    "        return self.y_mean + self.nu * sum(t.predict(X) for t in self.trees)"
   ]
  },
  {
   "cell_type": "markdown",
   "metadata": {
    "slideshow": {
     "slide_type": "slide"
    }
   },
   "source": [
    "### 2.3. Comparación con algoritmos \"testigo\""
   ]
  },
  {
   "cell_type": "code",
   "execution_count": 7,
   "metadata": {
    "slideshow": {
     "slide_type": "fragment"
    }
   },
   "outputs": [],
   "source": [
    "seed = 1991\n",
    "test_size = 0.5\n",
    "X_train, X_test, y_train, y_test = train_test_split(X, y, test_size=test_size, random_state=seed)"
   ]
  },
  {
   "cell_type": "code",
   "execution_count": 8,
   "metadata": {
    "slideshow": {
     "slide_type": "fragment"
    }
   },
   "outputs": [],
   "source": [
    "# Algo 10.3 Gradient Tree Boosting Algorithm (p.361 ESL, p.380 pdf)\n",
    "# Hiperparámetros\n",
    "M = 500  # Numero de árboles\n",
    "J = 3  # Número de hojas de cada árbol\n",
    "nu = 0.01  # Shrinking factor / tasa de aprendizaje"
   ]
  },
  {
   "cell_type": "code",
   "execution_count": 9,
   "metadata": {
    "slideshow": {
     "slide_type": "fragment"
    }
   },
   "outputs": [],
   "source": [
    "gbr = GBRegressor(J, M, nu).fit(X_train, y_train)"
   ]
  },
  {
   "cell_type": "code",
   "execution_count": 10,
   "metadata": {
    "slideshow": {
     "slide_type": "fragment"
    }
   },
   "outputs": [],
   "source": [
    "bigtree = DecisionTreeRegressor().fit(X_train, y_train)"
   ]
  },
  {
   "cell_type": "code",
   "execution_count": 11,
   "metadata": {
    "slideshow": {
     "slide_type": "subslide"
    }
   },
   "outputs": [],
   "source": [
    "def preds_path(gbr, X):\n",
    "    preds = np.ones(shape=(gbr.M + 1, X.shape[0])) * gbr.y_mean\n",
    "    partial_preds = gbr.nu * np.row_stack(list(t.predict(X) for t in gbr.trees))\n",
    "    preds[1:, :] += np.cumsum(partial_preds, axis=0)\n",
    "    return preds\n",
    "        \n",
    "train_preds = preds_path(gbr, X_train)\n",
    "test_preds = preds_path(gbr, X_test)"
   ]
  },
  {
   "cell_type": "code",
   "execution_count": 12,
   "metadata": {
    "slideshow": {
     "slide_type": "subslide"
    }
   },
   "outputs": [],
   "source": [
    "gb_mses = []\n",
    "for i in range(M + 1):\n",
    "    gb_mses.append(\n",
    "        {\n",
    "            \"iteration\": i,\n",
    "            \"test\": mse(y_test, test_preds[i]),\n",
    "            \"train\": mse(y_train, train_preds[i]),\n",
    "        }\n",
    "    )    \n",
    "gb_mses = pd.DataFrame(gb_mses).melt(\"iteration\", var_name=\"set\", value_name=\"mse\")"
   ]
  },
  {
   "cell_type": "code",
   "execution_count": 13,
   "metadata": {
    "slideshow": {
     "slide_type": "subslide"
    }
   },
   "outputs": [
    {
     "data": {
      "image/png": "[encoded data removed]",
      "text/plain": [
       "<Figure size 864x504 with 1 Axes>"
      ]
     },
     "metadata": {},
     "output_type": "display_data"
    }
   ],
   "source": [
    "plt.figure(figsize=(12, 7))\n",
    "sns.lineplot(x=\"iteration\", y=\"mse\", hue=\"set\", data=gb_mses)\n",
    "plt.axhline(\n",
    "    mse(y_test, bigtree.predict(X_test)),\n",
    "    color=\"gray\",\n",
    "    linestyle=\"dotted\",\n",
    "    label=f\"árbol de {bigtree.get_n_leaves()} hojas\"\n",
    ")\n",
    "plt.legend()\n",
    "plt.show()"
   ]
  },
  {
   "cell_type": "code",
   "execution_count": 14,
   "metadata": {
    "slideshow": {
     "slide_type": "subslide"
    }
   },
   "outputs": [],
   "source": [
    "regressors = {\n",
    "    \"boosting\": GBRegressor(J, M, nu),\n",
    "    \"linear regression\": LinearRegression(),\n",
    "    \"random forest\": RandomForestRegressor(),\n",
    "    \"single tree\": DecisionTreeRegressor(),\n",
    "    \"mean\": MeanRegressor(),\n",
    "}\n",
    "all_mses = []\n",
    "for name, regr in regressors.items():\n",
    "    regr = regr.fit(X_train, y_train)\n",
    "    all_mses.extend([\n",
    "        {\"set\": \"train\", \"regressor\": name, \"mse\": mse(y_train, regr.predict(X_train))},\n",
    "        {\"set\": \"test\", \"regressor\": name, \"mse\": mse(y_test, regr.predict(X_test))},\n",
    "    ])\n",
    "all_mses = pd.DataFrame(all_mses)"
   ]
  },
  {
   "cell_type": "code",
   "execution_count": 15,
   "metadata": {
    "slideshow": {
     "slide_type": "subslide"
    }
   },
   "outputs": [
    {
     "data": {
      "image/png": "[encoded data removed]",
      "text/plain": [
       "<Figure size 432x288 with 1 Axes>"
      ]
     },
     "metadata": {},
     "output_type": "display_data"
    }
   ],
   "source": [
    "sns.barplot(x=\"regressor\", y=\"mse\", hue=\"set\", data=all_mses.sort_values(\"mse\", ascending=False))\n",
    "plt.xticks(rotation=45)\n",
    "plt.show()"
   ]
  },
  {
   "cell_type": "code",
   "execution_count": 16,
   "metadata": {
    "slideshow": {
     "slide_type": "subslide"
    }
   },
   "outputs": [
    {
     "data": {
      "text/html": [
       "<div>\n",
       "<style scoped>\n",
       "    .dataframe tbody tr th:only-of-type {\n",
       "        vertical-align: middle;\n",
       "    }\n",
       "\n",
       "    .dataframe tbody tr th {\n",
       "        vertical-align: top;\n",
       "    }\n",
       "\n",
       "    .dataframe thead th {\n",
       "        text-align: right;\n",
       "    }\n",
       "</style>\n",
       "<table border=\"1\" class=\"dataframe\">\n",
       "  <thead>\n",
       "    <tr style=\"text-align: right;\">\n",
       "      <th>set</th>\n",
       "      <th>test</th>\n",
       "      <th>train</th>\n",
       "    </tr>\n",
       "    <tr>\n",
       "      <th>regressor</th>\n",
       "      <th></th>\n",
       "      <th></th>\n",
       "    </tr>\n",
       "  </thead>\n",
       "  <tbody>\n",
       "    <tr>\n",
       "      <th>boosting</th>\n",
       "      <td>151.00</td>\n",
       "      <td>13.33</td>\n",
       "    </tr>\n",
       "    <tr>\n",
       "      <th>random forest</th>\n",
       "      <td>160.06</td>\n",
       "      <td>5.32</td>\n",
       "    </tr>\n",
       "    <tr>\n",
       "      <th>linear regression</th>\n",
       "      <td>171.07</td>\n",
       "      <td>51.46</td>\n",
       "    </tr>\n",
       "    <tr>\n",
       "      <th>single tree</th>\n",
       "      <td>199.03</td>\n",
       "      <td>0.00</td>\n",
       "    </tr>\n",
       "    <tr>\n",
       "      <th>mean</th>\n",
       "      <td>296.34</td>\n",
       "      <td>120.24</td>\n",
       "    </tr>\n",
       "  </tbody>\n",
       "</table>\n",
       "</div>"
      ],
      "text/plain": [
       "set                  test   train\n",
       "regressor                        \n",
       "boosting           151.00   13.33\n",
       "random forest      160.06    5.32\n",
       "linear regression  171.07   51.46\n",
       "single tree        199.03    0.00\n",
       "mean               296.34  120.24"
      ]
     },
     "execution_count": 16,
     "metadata": {},
     "output_type": "execute_result"
    }
   ],
   "source": [
    "all_mses.pivot(\"regressor\", \"set\", \"mse\").apply(lambda x: (x / 1000).round(2)).sort_values(\"test\")"
   ]
  },
  {
   "cell_type": "markdown",
   "metadata": {
    "slideshow": {
     "slide_type": "slide"
    }
   },
   "source": [
    "### 2.4. Exploración básica de hiperparámetros"
   ]
  },
  {
   "cell_type": "code",
   "execution_count": 17,
   "metadata": {
    "slideshow": {
     "slide_type": "fragment"
    }
   },
   "outputs": [],
   "source": [
    "cache = False\n",
    "MMax = 3000\n",
    "Js = [2, 3, 4, 5]\n",
    "nus = [0.001, 0.01, 0.1]\n",
    "if cache:\n",
    "    cv_mses = pd.read_csv(\"cv_mses.csv\") \n",
    "else:\n",
    "    for J in Js:\n",
    "        for nu in nus:\n",
    "            print(f\"J = {J}, nu = {nu}\")\n",
    "            gbr = GBRegressor(J, MMax, nu).fit(X_train, y_train)\n",
    "            test_preds = preds_path(gbr, X_test)\n",
    "            for i in range(MMax + 1):\n",
    "                cv_mses.append({\"iteration\": i, \"J\": J, \"nu\": nu, \"mse\": mse(y_test, test_preds[i])})\n",
    "    cv_mses = pd.DataFrame(cv_mses)\n",
    "    cv_mses.to_csv(\"cv_mses.csv\", index=False)"
   ]
  },
  {
   "cell_type": "code",
   "execution_count": 18,
   "metadata": {},
   "outputs": [],
   "source": [
    "cv_mses.to_csv(\"cv_mses.csv\", index=False)"
   ]
  },
  {
   "cell_type": "code",
   "execution_count": 19,
   "metadata": {
    "slideshow": {
     "slide_type": "subslide"
    }
   },
   "outputs": [
    {
     "data": {
      "text/plain": [
       "(36012, 4)"
      ]
     },
     "execution_count": 19,
     "metadata": {},
     "output_type": "execute_result"
    }
   ],
   "source": [
    "cv_mses.shape"
   ]
  },
  {
   "cell_type": "code",
   "execution_count": 20,
   "metadata": {
    "slideshow": {
     "slide_type": "subslide"
    }
   },
   "outputs": [
    {
     "data": {
      "text/plain": [
       "<AxesSubplot:xlabel='iteration', ylabel='mse'>"
      ]
     },
     "execution_count": 20,
     "metadata": {},
     "output_type": "execute_result"
    },
    {
     "data": {
      "image/png": "[encoded data removed]",
      "text/plain": [
       "<Figure size 1008x504 with 1 Axes>"
      ]
     },
     "metadata": {},
     "output_type": "display_data"
    }
   ],
   "source": [
    "cv_mses[[\"J\", \"nu\"]] = cv_mses[[\"J\", \"nu\"]].astype(str)\n",
    "plt.figure(figsize=(14, 7))\n",
    "sns.lineplot(x=\"iteration\", y=\"mse\", hue=\"J\", style=\"nu\", data=cv_mses)"
   ]
  },
  {
   "cell_type": "markdown",
   "metadata": {
    "slideshow": {
     "slide_type": "slide"
    }
   },
   "source": [
    "## 3. GB a escala industrial\n",
    "\n",
    "### 3.1. ¿Por qué Gradient Boosting? ($\\approx$ESL 10.7)\n",
    "\n",
    "En aplicaciones industriales y comerciales, las condiciones en las que se entrenan los modelos pueden ser bastante adversas. Además de requerir precisión en las predicciones, \n",
    "\n",
    "- el tamaño de los datasets (en cantidad de observaciones $N$ y número de predictores $p$) es inmenso, con $N \\approx 10^{10}$ y $p \\approx 10^6$ o mayores,\n",
    "\n",
    "- al requerir tantas predicciones, los costos (en cómputo y memoria) son no-triviales y la performance es crítica,\n",
    "\n",
    "- no alcanza con modelos \"caja negra\" que \"te dejen a pata\" cuando no funcionan: _interpretar_ por qué se dio cierta predicción es clave para \"debugear\" y mejorar los procesos.\n",
    "\n",
    "Distintos procedimientos tienen distintas ventajas, pero en los últimos años Gradient Boosting, en especial basándose en árboles, parece haber surgido como una excelente solución de compromiso. Aunque sus predicciones no sean siempre las óptimas, son lo suficientemente buenas (\"good enough\") como para ser competitivas, pero además:\n",
    "\n",
    "- con hiperparámetros bien elegidos, el entrenamiento escala lineal o hasta sub-linealmente en $N$ y $p$,\n",
    "\n",
    "- los árboles se pueden representar con estructuras casi triviales en memoria, y recorrerlos es aún más barato que evaluar un modelo lineal (que no es más que un producto escalar entre vectores),\n",
    "\n",
    "- (sobre todo con $J$ pequeño) se prestan particularmente a la interpretabilidad,\n",
    "\n",
    "- requieren un mínimo esfuerzo del científique/analista de datos para comenzar a utilizarlos.\n",
    "\n",
    "En particular,\n",
    "\n",
    "- no requieren definir un modelo explícito (arquitectura de red, fórmula del modelo lineal, etc.),\n",
    "\n",
    "- lidian naturalmente con variables categóricas (y algunas implementaciones, como LightGBM, ni siquiera requieren OHE previo),\n",
    "\n",
    "- lidian naturalmente con datos faltantes (como una categoría más)."
   ]
  },
  {
   "cell_type": "markdown",
   "metadata": {
    "slideshow": {
     "slide_type": "slide"
    }
   },
   "source": [
    "### 3.2. Caso de estudio: CTR y otros estimadores @ Jampp\n",
    "\n",
    "Interludio: Real-time bidding\n",
    "\n",
    "Supongamos que el mercado está compuesto de $K$ ubicaciones donde podemos mostrar un aviso, cada una tiene un costo $c_k$ y nuestro cliente nos pagará un valor $v \\geq \\text{max}(c_k)$ únicamente por aquellas que resulten en avisos clickeados, demostrando intención de parte del usuario.\n",
    "\n",
    "¿Cómo construyo una regla de decisión que maximice la ganancia?\n",
    "\n",
    "Una idea natural, es entrenar un clasificador que clasifique cada aviso como $1$ si recibirá un click o $0$ si no. Luego, compraremos todos aquellos avisos clasificados como $1$.\n",
    "\n",
    "La confianza del clasificador no es la misma en todas sus predicciones. ¿Por qué no comprar _ningún_ aviso por debajo y _todo_ aviso por encima de cierta cota?\n",
    "\n",
    "Con un clasificador entrenado entrenado y calibrado, existen métodos para predecir las _probabilidades_ de clase. Pero aún así, ¿qué hacemos con las probabilidades de clases?\n",
    "\n",
    "Sea $X_k$ una variable aleatoria, que toma el valor $1$ si el k-ésimo aviso es clickeado, y $0$ si no. Si la _probabilidad_ de que el aviso $k$ sea clickeado es $p_k$, un modelo razonable es que $X_k \\sim \\text{Bernoulli}(p_k)$, y $X_i, X_j$ son independientes $\\forall i\\neq j$. \n",
    "\n",
    "La decisión $d_k$ que se nos presenta ante cada subasta es elegir entre $\\text{compra, no compra}$.De no comprar, la ganancia neta $G_k$ es $0$ siempre. En caso de comprar, $E(G_k|compra) = P(X_k = 1) \\cdot v - c_k = p_k \\cdot v - c_k$. Finalmente, compraré el espacio si y sólo si\n",
    "\n",
    "\\begin{align}\n",
    "E(g_k | \\text{compra}) &> E(g_k | \\text{no compra}) \\\\\n",
    "p_k \\cdot v - c_k &> 0 \\\\\n",
    "p_k &> \\frac{c_k}{v}\n",
    "\\end{align}\n",
    "\n",
    "De manera que un estimador de $p_k \\in [0, 1]$ alcanza para formular una regla de decisión que maximice nuestra ganancia esperada, al menos. \n",
    "\n",
    "Una dificultad importante, en estos problemas, es el desbalance de clases, por 2 más órdenes de magnitud. En clicks $p_k \\approx 0.0\\approx 10^{-5}$. La recomendación tradicional es muestrear los negativos, y luego pesarlos de manera acorde. Pero con pesos rutinariamente gigantes, el comportamiento de los splits se vuelve errático. \n",
    "\n",
    "Una alternativa, consiste en muestrar los negativos a cierta tasa $t \\approx p_k$, y entrenar un _regresor_ sin pesos. En su lugar, las predicciones que dé este estimador desbalanceado, se ajustan por la tasa $t$ de muestreo, devolviéndolas a la escala deseada.\n",
    "\n",
    "El procedimiento es heurístico, pero en la práctica resulta efectivo para aprender en contextos desbalanceados."
   ]
  },
  {
   "cell_type": "markdown",
   "metadata": {
    "slideshow": {
     "slide_type": "slide"
    }
   },
   "source": [
    "(Nunca incontratando)\n",
    "\n",
    "gonzalo.barrera@jampp.com\n",
    "\n",
    "https://www.jampp.com/careers"
   ]
  },
  {
   "cell_type": "code",
   "execution_count": 21,
   "metadata": {
    "slideshow": {
     "slide_type": "subslide"
    }
   },
   "outputs": [
    {
     "ename": "SyntaxError",
     "evalue": "invalid syntax (<ipython-input-21-2d8a68749164>, line 1)",
     "output_type": "error",
     "traceback": [
      "\u001b[0;36m  File \u001b[0;32m\"<ipython-input-21-2d8a68749164>\"\u001b[0;36m, line \u001b[0;32m1\u001b[0m\n\u001b[0;31m    Gracias (y felices fiestas) :)\u001b[0m\n\u001b[0m               ^\u001b[0m\n\u001b[0;31mSyntaxError\u001b[0m\u001b[0;31m:\u001b[0m invalid syntax\n"
     ]
    }
   ],
   "source": [
    "Gracias (y felices fiestas) :)"
   ]
  }
 ],
 "metadata": {
  "celltoolbar": "Slideshow",
  "interpreter": {
   "hash": "81f8a7e9b6166d860741e89e69558fa4a1c80d2c41046048b1aa10215abcdc04"
  },
  "kernelspec": {
   "display_name": "apsup",
   "language": "python",
   "name": "apsup"
  },
  "language_info": {
   "codemirror_mode": {
    "name": "ipython",
    "version": 3
   },
   "file_extension": ".py",
   "mimetype": "text/x-python",
   "name": "python",
   "nbconvert_exporter": "python",
   "pygments_lexer": "ipython3",
   "version": "3.8.12"
  }
 },
 "nbformat": 4,
 "nbformat_minor": 4
}
